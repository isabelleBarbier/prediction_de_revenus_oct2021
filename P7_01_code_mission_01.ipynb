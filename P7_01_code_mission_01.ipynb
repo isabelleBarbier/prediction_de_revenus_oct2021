{
 "cells": [
  {
   "cell_type": "markdown",
   "metadata": {},
   "source": [
    "# Effectuez une prédiction de revenus"
   ]
  },
  {
   "cell_type": "markdown",
   "metadata": {},
   "source": [
    "## Présentation\n",
    "\n",
    "#### Vous êtes employé dans une banque, présente dans de nombreux pays à travers le monde. Celle-ci souhaite cibler de nouveaux clients potentiels, plus particulièrement les jeunes en âge d'ouvrir leur tout premier compte bancaire.\n",
    "#### Cependant, elle souhaite cibler les prospects les plus susceptibles d'avoir, plus tard dans leur vie, de hauts revenus.\n",
    "#### L'équipe dans laquelle vous travaillez a donc reçu pour mission de **créer un modèle permettant de déterminer le revenu potentiel d'une personne**.\n",
    "#### Information à notre disposition :\n",
    "- uniquement le revenu des parents, car nous allons cibler les enfants de nos clients actuels, ainsi que le pays où ils habitent\n",
    "#### Condition : \n",
    "- ce modèle doit être valable pour la plupart des pays du monde\n",
    "#### Vous proposez une régression linéaire avec 3 variables :\n",
    "- le revenu des parents ;\n",
    "- le revenu moyen du pays dans lequel habite le prospect ;\n",
    "- l'indice de Gini calculé sur les revenus des habitants du pays en question.\n",
    "\n",
    "#### Ce projet ne traite que de la construction et de l'interprétation du modèle. Vous n'irez pas jusqu'à la phase de prédiction."
   ]
  },
  {
   "cell_type": "markdown",
   "metadata": {},
   "source": [
    "## Sommaire\n",
    "- [importation des librairies](#librairies)\n",
    "- [importation et lecture des données](#donnee_revenus)\n",
    "- [description du dataframe distribution revenus](#descript_donnee_revenus)\n",
    "- [Mission 1](#mission_1)\n",
    "    - [année(s) des données utilisées](#annee_donnee_revenus)\n",
    "        - [création d'un dataframe avec code alpha 3 du pays et son nom (\"df_dist_revenus_code)](#crea_code_revenus)\n",
    "    - [nombre de pays présents pour l'analyse](#nb_pays_analyse)\n",
    "        - [recherche du pays au centile manquant ...](#recherche_centile)\n",
    "        - [Implémentation du quantile manquant par régression linéaire](#reg41)\n",
    "        - [création d'un dataframe avec nombre d'habitants du pays (\"df_revenus_pop\")](#df_revenus_pop)\n",
    "    - [pourcentage de population couverte par l'analyse (en termes de pourcentage de la population mondiale)](#nb_hab_analyse)\n",
    "    - [Les données de la World Income Distribution présentent pour chaque pays les quantiles de la distribution des revenus de leur population respective](#mission_1_questions)\n",
    "- [export en csv des différents dataframes nettoyés](#export_df_csv)\n",
    "- [juste pour voir...](#juste_voir)\n",
    "    - implémentation du centile 41 : retrouver une valeur sur un graphique (ici regplot)\n"
   ]
  },
  {
   "cell_type": "markdown",
   "metadata": {},
   "source": [
    "Démarche :\n",
    "\n",
    "- ajout de code iso 3 pour avoir le nom des pays\n",
    "- implémentation des GPP PPP manquants du Kosovo et de Gaza\n",
    "- ajout du nombre d'habitants de Taïwan \n",
    "- implémentation du quantile manquant"
   ]
  },
  {
   "cell_type": "markdown",
   "metadata": {},
   "source": [
    "### Importation des librairies <a class=\"anchor\" id=\"librairies\"></a>"
   ]
  },
  {
   "cell_type": "code",
   "execution_count": 1,
   "metadata": {},
   "outputs": [],
   "source": [
    "# Importation des librairies\n",
    "import pandas as pd\n",
    "import numpy as np\n",
    "import matplotlib.pyplot as plt\n",
    "import seaborn as sns\n",
    "from scipy import interpolate\n",
    "from sklearn.impute import SimpleImputer\n",
    "\n",
    "# librairies pour les tests\n",
    "from scipy.stats import ks_2samp\n",
    "import scipy.stats as st\n",
    "from scipy.stats import levene\n",
    "\n",
    "#  librairies pour le dendrogramme, Kmeans\n",
    "from sklearn.cluster import KMeans\n",
    "from sklearn.preprocessing import StandardScaler\n",
    "from scipy.cluster.hierarchy import dendrogram, linkage,  fcluster, centroid\n",
    "from scipy.spatial.distance import pdist\n",
    "from sklearn import decomposition\n",
    "from yellowbrick.cluster import KElbowVisualizer\n",
    "\n",
    "# librairies pour l'ACP\n",
    "from sklearn.decomposition import PCA\n",
    "from sklearn.preprocessing import StandardScaler\n",
    "from matplotlib.collections import LineCollection"
   ]
  },
  {
   "cell_type": "code",
   "execution_count": 2,
   "metadata": {},
   "outputs": [],
   "source": [
    "ENCODAGE = 'UTF-8'"
   ]
  },
  {
   "cell_type": "code",
   "execution_count": 3,
   "metadata": {},
   "outputs": [],
   "source": [
    "sns.set(style=\"darkgrid\")"
   ]
  },
  {
   "cell_type": "markdown",
   "metadata": {},
   "source": [
    "### Importation et lecture des données (https://data.worldbank.org) <a class=\"anchor\" id=\"donnee_revenus\"></a>"
   ]
  },
  {
   "cell_type": "markdown",
   "metadata": {},
   "source": [
    "#### Données extraites de World Income Distribution datée de 2008 \n",
    "#### Cette base de données est composée principalement d'études réalisées au niveau national pour bon nombre de pays, et contient les distributions de revenus des populations concernées.\n",
    "#### PPP : purchasing power parities ( = parités de pouvoir d'achat (PPA)) : méthode utilisée en économie pour établir une comparaison, entre pays, du pouvoir d'achat des devises nationales, ce qu’une simple utilisation des taux de change ne permet pas de faire. \n",
    "#### GDP PPP : Gross Domestic Product based on Purchasing Power : PIB basé sur le pouvoir d'achat\n",
    "#### https://www.persee.fr/doc/receo_0338-0599_1996_num_27_4_2825"
   ]
  },
  {
   "cell_type": "code",
   "execution_count": 4,
   "metadata": {},
   "outputs": [],
   "source": [
    "df_distrib_revenus = pd.read_csv('data-projet7.csv', decimal=\",\").copy()"
   ]
  },
  {
   "cell_type": "code",
   "execution_count": 5,
   "metadata": {
    "scrolled": true
   },
   "outputs": [
    {
     "data": {
      "text/html": [
       "<div>\n",
       "<style scoped>\n",
       "    .dataframe tbody tr th:only-of-type {\n",
       "        vertical-align: middle;\n",
       "    }\n",
       "\n",
       "    .dataframe tbody tr th {\n",
       "        vertical-align: top;\n",
       "    }\n",
       "\n",
       "    .dataframe thead th {\n",
       "        text-align: right;\n",
       "    }\n",
       "</style>\n",
       "<table border=\"1\" class=\"dataframe\">\n",
       "  <thead>\n",
       "    <tr style=\"text-align: right;\">\n",
       "      <th></th>\n",
       "      <th>country</th>\n",
       "      <th>year_survey</th>\n",
       "      <th>quantile</th>\n",
       "      <th>nb_quantiles</th>\n",
       "      <th>income</th>\n",
       "      <th>gdpppp</th>\n",
       "    </tr>\n",
       "  </thead>\n",
       "  <tbody>\n",
       "    <tr>\n",
       "      <th>0</th>\n",
       "      <td>ALB</td>\n",
       "      <td>2008</td>\n",
       "      <td>1</td>\n",
       "      <td>100</td>\n",
       "      <td>728.89795</td>\n",
       "      <td>7297.0</td>\n",
       "    </tr>\n",
       "    <tr>\n",
       "      <th>1</th>\n",
       "      <td>ALB</td>\n",
       "      <td>2008</td>\n",
       "      <td>2</td>\n",
       "      <td>100</td>\n",
       "      <td>916.66235</td>\n",
       "      <td>7297.0</td>\n",
       "    </tr>\n",
       "    <tr>\n",
       "      <th>2</th>\n",
       "      <td>ALB</td>\n",
       "      <td>2008</td>\n",
       "      <td>3</td>\n",
       "      <td>100</td>\n",
       "      <td>1010.91600</td>\n",
       "      <td>7297.0</td>\n",
       "    </tr>\n",
       "    <tr>\n",
       "      <th>3</th>\n",
       "      <td>ALB</td>\n",
       "      <td>2008</td>\n",
       "      <td>4</td>\n",
       "      <td>100</td>\n",
       "      <td>1086.90780</td>\n",
       "      <td>7297.0</td>\n",
       "    </tr>\n",
       "    <tr>\n",
       "      <th>4</th>\n",
       "      <td>ALB</td>\n",
       "      <td>2008</td>\n",
       "      <td>5</td>\n",
       "      <td>100</td>\n",
       "      <td>1132.69970</td>\n",
       "      <td>7297.0</td>\n",
       "    </tr>\n",
       "  </tbody>\n",
       "</table>\n",
       "</div>"
      ],
      "text/plain": [
       "  country  year_survey  quantile  nb_quantiles      income  gdpppp\n",
       "0     ALB         2008         1           100   728.89795  7297.0\n",
       "1     ALB         2008         2           100   916.66235  7297.0\n",
       "2     ALB         2008         3           100  1010.91600  7297.0\n",
       "3     ALB         2008         4           100  1086.90780  7297.0\n",
       "4     ALB         2008         5           100  1132.69970  7297.0"
      ]
     },
     "execution_count": 5,
     "metadata": {},
     "output_type": "execute_result"
    }
   ],
   "source": [
    "df_distrib_revenus.head(5)"
   ]
  },
  {
   "cell_type": "markdown",
   "metadata": {},
   "source": [
    "#### Visualisation des variables"
   ]
  },
  {
   "cell_type": "code",
   "execution_count": 6,
   "metadata": {},
   "outputs": [
    {
     "data": {
      "image/png": "[encoded data removed]",
      "text/plain": [
       "<Figure size 1296x360 with 3 Axes>"
      ]
     },
     "metadata": {},
     "output_type": "display_data"
    }
   ],
   "source": [
    "var_hist = ['year_survey', 'income', 'gdpppp']\n",
    "fig = plt.figure(figsize=(18, 5))\n",
    "i=0\n",
    "for var in var_hist:\n",
    "    ax = fig.add_subplot(1,3,(i+1))    \n",
    "    plt.hist(df_distrib_revenus[var], bins=50, color='steelblue', density=True, edgecolor='none') \n",
    "#     sns.histplot(x=var,  data=df_distrib_revenus)\n",
    "    ax.set_title(var, fontsize=14)\n",
    "    i+=1\n",
    "plt.show()\n"
   ]
  },
  {
   "cell_type": "markdown",
   "metadata": {},
   "source": [
    "Remarque : les valeurs sont très différentes. Il faudra les standariser afin d'éviter qu'une variable prenne \"supplante\" l'autre."
   ]
  },
  {
   "cell_type": "markdown",
   "metadata": {},
   "source": [
    "### Description du dataset distribution revenus <a class=\"anchor\" id=\"descript_donnee_revenus\"></a>"
   ]
  },
  {
   "cell_type": "code",
   "execution_count": 7,
   "metadata": {},
   "outputs": [
    {
     "data": {
      "text/plain": [
       "(11599, 6)"
      ]
     },
     "execution_count": 7,
     "metadata": {},
     "output_type": "execute_result"
    }
   ],
   "source": [
    "df_distrib_revenus.shape"
   ]
  },
  {
   "cell_type": "code",
   "execution_count": 8,
   "metadata": {
    "scrolled": false
   },
   "outputs": [
    {
     "name": "stdout",
     "output_type": "stream",
     "text": [
      "<class 'pandas.core.frame.DataFrame'>\n",
      "RangeIndex: 11599 entries, 0 to 11598\n",
      "Data columns (total 6 columns):\n",
      " #   Column        Non-Null Count  Dtype  \n",
      "---  ------        --------------  -----  \n",
      " 0   country       11599 non-null  object \n",
      " 1   year_survey   11599 non-null  int64  \n",
      " 2   quantile      11599 non-null  int64  \n",
      " 3   nb_quantiles  11599 non-null  int64  \n",
      " 4   income        11599 non-null  float64\n",
      " 5   gdpppp        11399 non-null  float64\n",
      "dtypes: float64(2), int64(3), object(1)\n",
      "memory usage: 543.8+ KB\n"
     ]
    }
   ],
   "source": [
    "df_distrib_revenus.info()"
   ]
  },
  {
   "cell_type": "code",
   "execution_count": 11,
   "metadata": {
    "scrolled": false
   },
   "outputs": [
    {
     "data": {
      "text/html": [
       "<div>\n",
       "<style scoped>\n",
       "    .dataframe tbody tr th:only-of-type {\n",
       "        vertical-align: middle;\n",
       "    }\n",
       "\n",
       "    .dataframe tbody tr th {\n",
       "        vertical-align: top;\n",
       "    }\n",
       "\n",
       "    .dataframe thead th {\n",
       "        text-align: right;\n",
       "    }\n",
       "</style>\n",
       "<table border=\"1\" class=\"dataframe\">\n",
       "  <thead>\n",
       "    <tr style=\"text-align: right;\">\n",
       "      <th></th>\n",
       "      <th>country</th>\n",
       "      <th>year_survey</th>\n",
       "      <th>quantile</th>\n",
       "      <th>nb_quantiles</th>\n",
       "      <th>income</th>\n",
       "      <th>gdpppp</th>\n",
       "    </tr>\n",
       "  </thead>\n",
       "  <tbody>\n",
       "    <tr>\n",
       "      <th>count</th>\n",
       "      <td>11599</td>\n",
       "      <td>11599.000000</td>\n",
       "      <td>11599.000000</td>\n",
       "      <td>11599.0</td>\n",
       "      <td>11599.000000</td>\n",
       "      <td>1.139900e+04</td>\n",
       "    </tr>\n",
       "    <tr>\n",
       "      <th>unique</th>\n",
       "      <td>116</td>\n",
       "      <td>NaN</td>\n",
       "      <td>NaN</td>\n",
       "      <td>NaN</td>\n",
       "      <td>NaN</td>\n",
       "      <td>NaN</td>\n",
       "    </tr>\n",
       "    <tr>\n",
       "      <th>top</th>\n",
       "      <td>MNE</td>\n",
       "      <td>NaN</td>\n",
       "      <td>NaN</td>\n",
       "      <td>NaN</td>\n",
       "      <td>NaN</td>\n",
       "      <td>NaN</td>\n",
       "    </tr>\n",
       "    <tr>\n",
       "      <th>freq</th>\n",
       "      <td>100</td>\n",
       "      <td>NaN</td>\n",
       "      <td>NaN</td>\n",
       "      <td>NaN</td>\n",
       "      <td>NaN</td>\n",
       "      <td>NaN</td>\n",
       "    </tr>\n",
       "    <tr>\n",
       "      <th>mean</th>\n",
       "      <td>NaN</td>\n",
       "      <td>2007.982757</td>\n",
       "      <td>50.500819</td>\n",
       "      <td>100.0</td>\n",
       "      <td>6069.224260</td>\n",
       "      <td>5.022128e+04</td>\n",
       "    </tr>\n",
       "    <tr>\n",
       "      <th>std</th>\n",
       "      <td>NaN</td>\n",
       "      <td>0.909633</td>\n",
       "      <td>28.868424</td>\n",
       "      <td>0.0</td>\n",
       "      <td>9414.185972</td>\n",
       "      <td>4.000688e+05</td>\n",
       "    </tr>\n",
       "    <tr>\n",
       "      <th>min</th>\n",
       "      <td>NaN</td>\n",
       "      <td>2004.000000</td>\n",
       "      <td>1.000000</td>\n",
       "      <td>100.0</td>\n",
       "      <td>16.719418</td>\n",
       "      <td>3.031931e+02</td>\n",
       "    </tr>\n",
       "    <tr>\n",
       "      <th>25%</th>\n",
       "      <td>NaN</td>\n",
       "      <td>2008.000000</td>\n",
       "      <td>25.500000</td>\n",
       "      <td>100.0</td>\n",
       "      <td>900.685515</td>\n",
       "      <td>2.576000e+03</td>\n",
       "    </tr>\n",
       "    <tr>\n",
       "      <th>50%</th>\n",
       "      <td>NaN</td>\n",
       "      <td>2008.000000</td>\n",
       "      <td>51.000000</td>\n",
       "      <td>100.0</td>\n",
       "      <td>2403.244900</td>\n",
       "      <td>7.560000e+03</td>\n",
       "    </tr>\n",
       "    <tr>\n",
       "      <th>75%</th>\n",
       "      <td>NaN</td>\n",
       "      <td>2008.000000</td>\n",
       "      <td>75.500000</td>\n",
       "      <td>100.0</td>\n",
       "      <td>7515.420900</td>\n",
       "      <td>1.877300e+04</td>\n",
       "    </tr>\n",
       "    <tr>\n",
       "      <th>max</th>\n",
       "      <td>NaN</td>\n",
       "      <td>2011.000000</td>\n",
       "      <td>100.000000</td>\n",
       "      <td>100.0</td>\n",
       "      <td>176928.550000</td>\n",
       "      <td>4.300332e+06</td>\n",
       "    </tr>\n",
       "  </tbody>\n",
       "</table>\n",
       "</div>"
      ],
      "text/plain": [
       "       country   year_survey      quantile  nb_quantiles         income  \\\n",
       "count    11599  11599.000000  11599.000000       11599.0   11599.000000   \n",
       "unique     116           NaN           NaN           NaN            NaN   \n",
       "top        MNE           NaN           NaN           NaN            NaN   \n",
       "freq       100           NaN           NaN           NaN            NaN   \n",
       "mean       NaN   2007.982757     50.500819         100.0    6069.224260   \n",
       "std        NaN      0.909633     28.868424           0.0    9414.185972   \n",
       "min        NaN   2004.000000      1.000000         100.0      16.719418   \n",
       "25%        NaN   2008.000000     25.500000         100.0     900.685515   \n",
       "50%        NaN   2008.000000     51.000000         100.0    2403.244900   \n",
       "75%        NaN   2008.000000     75.500000         100.0    7515.420900   \n",
       "max        NaN   2011.000000    100.000000         100.0  176928.550000   \n",
       "\n",
       "              gdpppp  \n",
       "count   1.139900e+04  \n",
       "unique           NaN  \n",
       "top              NaN  \n",
       "freq             NaN  \n",
       "mean    5.022128e+04  \n",
       "std     4.000688e+05  \n",
       "min     3.031931e+02  \n",
       "25%     2.576000e+03  \n",
       "50%     7.560000e+03  \n",
       "75%     1.877300e+04  \n",
       "max     4.300332e+06  "
      ]
     },
     "execution_count": 11,
     "metadata": {},
     "output_type": "execute_result"
    }
   ],
   "source": [
    "df_distrib_revenus.describe(include='all', datetime_is_numeric=True)"
   ]
  },
  {
   "cell_type": "code",
   "execution_count": 12,
   "metadata": {},
   "outputs": [
    {
     "data": {
      "text/html": [
       "<div>\n",
       "<style scoped>\n",
       "    .dataframe tbody tr th:only-of-type {\n",
       "        vertical-align: middle;\n",
       "    }\n",
       "\n",
       "    .dataframe tbody tr th {\n",
       "        vertical-align: top;\n",
       "    }\n",
       "\n",
       "    .dataframe thead th {\n",
       "        text-align: right;\n",
       "    }\n",
       "</style>\n",
       "<table border=\"1\" class=\"dataframe\">\n",
       "  <thead>\n",
       "    <tr style=\"text-align: right;\">\n",
       "      <th></th>\n",
       "      <th>country</th>\n",
       "      <th>year_survey</th>\n",
       "      <th>quantile</th>\n",
       "      <th>nb_quantiles</th>\n",
       "      <th>income</th>\n",
       "      <th>gdpppp</th>\n",
       "    </tr>\n",
       "  </thead>\n",
       "  <tbody>\n",
       "    <tr>\n",
       "      <th>0</th>\n",
       "      <td>ALB</td>\n",
       "      <td>2008</td>\n",
       "      <td>1</td>\n",
       "      <td>100</td>\n",
       "      <td>728.89795</td>\n",
       "      <td>7297.0</td>\n",
       "    </tr>\n",
       "    <tr>\n",
       "      <th>1</th>\n",
       "      <td>ALB</td>\n",
       "      <td>2008</td>\n",
       "      <td>2</td>\n",
       "      <td>100</td>\n",
       "      <td>916.66235</td>\n",
       "      <td>7297.0</td>\n",
       "    </tr>\n",
       "  </tbody>\n",
       "</table>\n",
       "</div>"
      ],
      "text/plain": [
       "  country  year_survey  quantile  nb_quantiles     income  gdpppp\n",
       "0     ALB         2008         1           100  728.89795  7297.0\n",
       "1     ALB         2008         2           100  916.66235  7297.0"
      ]
     },
     "execution_count": 12,
     "metadata": {},
     "output_type": "execute_result"
    }
   ],
   "source": [
    "df_distrib_revenus.head(2)"
   ]
  },
  {
   "cell_type": "code",
   "execution_count": 13,
   "metadata": {
    "scrolled": true
   },
   "outputs": [
    {
     "data": {
      "text/plain": [
       "country           0\n",
       "year_survey       0\n",
       "quantile          0\n",
       "nb_quantiles      0\n",
       "income            0\n",
       "gdpppp          200\n",
       "dtype: int64"
      ]
     },
     "execution_count": 13,
     "metadata": {},
     "output_type": "execute_result"
    }
   ],
   "source": [
    "# Valeurs null => 200 valeurs null\n",
    "df_distrib_revenus.isnull().sum(axis=0)"
   ]
  },
  {
   "cell_type": "markdown",
   "metadata": {},
   "source": [
    "#### Remarque : 200 valeurs de gdpppp sont manquantes "
   ]
  },
  {
   "cell_type": "code",
   "execution_count": 14,
   "metadata": {
    "scrolled": false
   },
   "outputs": [
    {
     "data": {
      "text/html": [
       "<div>\n",
       "<style scoped>\n",
       "    .dataframe tbody tr th:only-of-type {\n",
       "        vertical-align: middle;\n",
       "    }\n",
       "\n",
       "    .dataframe tbody tr th {\n",
       "        vertical-align: top;\n",
       "    }\n",
       "\n",
       "    .dataframe thead th {\n",
       "        text-align: right;\n",
       "    }\n",
       "</style>\n",
       "<table border=\"1\" class=\"dataframe\">\n",
       "  <thead>\n",
       "    <tr style=\"text-align: right;\">\n",
       "      <th></th>\n",
       "      <th>country</th>\n",
       "      <th>year_survey</th>\n",
       "      <th>quantile</th>\n",
       "      <th>nb_quantiles</th>\n",
       "      <th>income</th>\n",
       "      <th>gdpppp</th>\n",
       "    </tr>\n",
       "  </thead>\n",
       "  <tbody>\n",
       "    <tr>\n",
       "      <th>5800</th>\n",
       "      <td>XKX</td>\n",
       "      <td>2008</td>\n",
       "      <td>1</td>\n",
       "      <td>100</td>\n",
       "      <td>437.89370</td>\n",
       "      <td>NaN</td>\n",
       "    </tr>\n",
       "    <tr>\n",
       "      <th>5801</th>\n",
       "      <td>XKX</td>\n",
       "      <td>2008</td>\n",
       "      <td>2</td>\n",
       "      <td>100</td>\n",
       "      <td>508.17133</td>\n",
       "      <td>NaN</td>\n",
       "    </tr>\n",
       "    <tr>\n",
       "      <th>5802</th>\n",
       "      <td>XKX</td>\n",
       "      <td>2008</td>\n",
       "      <td>3</td>\n",
       "      <td>100</td>\n",
       "      <td>591.82820</td>\n",
       "      <td>NaN</td>\n",
       "    </tr>\n",
       "    <tr>\n",
       "      <th>5803</th>\n",
       "      <td>XKX</td>\n",
       "      <td>2008</td>\n",
       "      <td>4</td>\n",
       "      <td>100</td>\n",
       "      <td>668.00000</td>\n",
       "      <td>NaN</td>\n",
       "    </tr>\n",
       "    <tr>\n",
       "      <th>5804</th>\n",
       "      <td>XKX</td>\n",
       "      <td>2008</td>\n",
       "      <td>5</td>\n",
       "      <td>100</td>\n",
       "      <td>730.40220</td>\n",
       "      <td>NaN</td>\n",
       "    </tr>\n",
       "  </tbody>\n",
       "</table>\n",
       "</div>"
      ],
      "text/plain": [
       "     country  year_survey  quantile  nb_quantiles     income  gdpppp\n",
       "5800     XKX         2008         1           100  437.89370     NaN\n",
       "5801     XKX         2008         2           100  508.17133     NaN\n",
       "5802     XKX         2008         3           100  591.82820     NaN\n",
       "5803     XKX         2008         4           100  668.00000     NaN\n",
       "5804     XKX         2008         5           100  730.40220     NaN"
      ]
     },
     "execution_count": 14,
     "metadata": {},
     "output_type": "execute_result"
    }
   ],
   "source": [
    "df_distrib_revenus_null = df_distrib_revenus[df_distrib_revenus['gdpppp'].isnull()]\n",
    "df_distrib_revenus_null.head()"
   ]
  },
  {
   "cell_type": "code",
   "execution_count": 15,
   "metadata": {},
   "outputs": [
    {
     "data": {
      "text/plain": [
       "(200, 6)"
      ]
     },
     "execution_count": 15,
     "metadata": {},
     "output_type": "execute_result"
    }
   ],
   "source": [
    "df_distrib_revenus_null.shape"
   ]
  },
  {
   "cell_type": "code",
   "execution_count": 16,
   "metadata": {},
   "outputs": [
    {
     "data": {
      "text/plain": [
       "2"
      ]
     },
     "execution_count": 16,
     "metadata": {},
     "output_type": "execute_result"
    }
   ],
   "source": [
    "df_distrib_revenus_null.country.nunique()"
   ]
  },
  {
   "cell_type": "code",
   "execution_count": 17,
   "metadata": {},
   "outputs": [
    {
     "data": {
      "text/plain": [
       "array(['XKX', 'PSE'], dtype=object)"
      ]
     },
     "execution_count": 17,
     "metadata": {},
     "output_type": "execute_result"
    }
   ],
   "source": [
    "df_distrib_revenus_null.country.unique()"
   ]
  },
  {
   "cell_type": "markdown",
   "metadata": {},
   "source": [
    "#### Remarque : **200 valeurs null pour la variable \"gdpppp\"** concernant **2** pays : 'XKX' et 'PSE'"
   ]
  },
  {
   "cell_type": "code",
   "execution_count": 18,
   "metadata": {},
   "outputs": [
    {
     "data": {
      "text/plain": [
       "0"
      ]
     },
     "execution_count": 18,
     "metadata": {},
     "output_type": "execute_result"
    }
   ],
   "source": [
    "# Valeurs dupliquées => pas de valeurs dupliquées\n",
    "df_distrib_revenus.duplicated().sum(axis=0)"
   ]
  },
  {
   "cell_type": "code",
   "execution_count": 19,
   "metadata": {},
   "outputs": [
    {
     "data": {
      "text/plain": [
       "array(['ALB', 'ARG', 'ARM', 'AUT', 'AZE', 'BEL', 'BFA', 'BGD', 'BGR',\n",
       "       'BIH', 'BLR', 'BOL', 'BRA', 'BTN', 'CAF', 'CAN', 'CHL', 'CHN',\n",
       "       'CIV', 'CMR', 'COD', 'COL', 'CRI', 'CYP', 'CZE', 'DEU', 'DNK',\n",
       "       'DOM', 'ECU', 'EGY', 'ESP', 'EST', 'FIN', 'FJI', 'FRA', 'GBR',\n",
       "       'GEO', 'GHA', 'GIN', 'GRC', 'GTM', 'HND', 'HRV', 'HUN', 'IDN',\n",
       "       'IND', 'IRL', 'IRN', 'IRQ', 'ISL', 'ISR', 'ITA', 'JOR', 'JPN',\n",
       "       'KAZ', 'KEN', 'KGZ', 'KHM', 'KOR', 'LAO', 'LBR', 'LKA', 'LTU',\n",
       "       'LUX', 'LVA', 'MAR', 'MDA', 'MDG', 'MEX', 'MKD', 'MLI', 'MNE',\n",
       "       'MNG', 'MOZ', 'MRT', 'MWI', 'MYS', 'NER', 'NGA', 'NIC', 'NLD',\n",
       "       'NOR', 'NPL', 'PAK', 'PAN', 'PER', 'PHL', 'POL', 'PRT', 'PRY',\n",
       "       'PSE', 'ROU', 'RUS', 'SDN', 'SLV', 'SRB', 'SVK', 'SVN', 'SWE',\n",
       "       'SWZ', 'SYR', 'THA', 'TJK', 'TLS', 'TUR', 'TWN', 'TZA', 'UGA',\n",
       "       'UKR', 'URY', 'USA', 'VEN', 'VNM', 'XKX', 'YEM', 'ZAF'],\n",
       "      dtype=object)"
      ]
     },
     "execution_count": 19,
     "metadata": {},
     "output_type": "execute_result"
    }
   ],
   "source": [
    "# Liste des pays par ordre alphabétique de code\n",
    "df_distrib_revenus.country.sort_values(ascending=True).unique()"
   ]
  },
  {
   "cell_type": "code",
   "execution_count": 20,
   "metadata": {
    "scrolled": true
   },
   "outputs": [
    {
     "data": {
      "text/html": [
       "<div>\n",
       "<style scoped>\n",
       "    .dataframe tbody tr th:only-of-type {\n",
       "        vertical-align: middle;\n",
       "    }\n",
       "\n",
       "    .dataframe tbody tr th {\n",
       "        vertical-align: top;\n",
       "    }\n",
       "\n",
       "    .dataframe thead th {\n",
       "        text-align: right;\n",
       "    }\n",
       "</style>\n",
       "<table border=\"1\" class=\"dataframe\">\n",
       "  <thead>\n",
       "    <tr style=\"text-align: right;\">\n",
       "      <th></th>\n",
       "      <th>country</th>\n",
       "      <th>year_survey</th>\n",
       "      <th>quantile</th>\n",
       "      <th>nb_quantiles</th>\n",
       "      <th>income</th>\n",
       "      <th>gdpppp</th>\n",
       "    </tr>\n",
       "  </thead>\n",
       "  <tbody>\n",
       "    <tr>\n",
       "      <th>400</th>\n",
       "      <td>AZE</td>\n",
       "      <td>2008</td>\n",
       "      <td>1</td>\n",
       "      <td>100</td>\n",
       "      <td>397.53983</td>\n",
       "      <td>8101.0</td>\n",
       "    </tr>\n",
       "    <tr>\n",
       "      <th>401</th>\n",
       "      <td>AZE</td>\n",
       "      <td>2008</td>\n",
       "      <td>2</td>\n",
       "      <td>100</td>\n",
       "      <td>597.77320</td>\n",
       "      <td>8101.0</td>\n",
       "    </tr>\n",
       "    <tr>\n",
       "      <th>402</th>\n",
       "      <td>AZE</td>\n",
       "      <td>2008</td>\n",
       "      <td>3</td>\n",
       "      <td>100</td>\n",
       "      <td>705.47003</td>\n",
       "      <td>8101.0</td>\n",
       "    </tr>\n",
       "    <tr>\n",
       "      <th>403</th>\n",
       "      <td>AZE</td>\n",
       "      <td>2008</td>\n",
       "      <td>4</td>\n",
       "      <td>100</td>\n",
       "      <td>785.52610</td>\n",
       "      <td>8101.0</td>\n",
       "    </tr>\n",
       "    <tr>\n",
       "      <th>404</th>\n",
       "      <td>AZE</td>\n",
       "      <td>2008</td>\n",
       "      <td>5</td>\n",
       "      <td>100</td>\n",
       "      <td>841.75244</td>\n",
       "      <td>8101.0</td>\n",
       "    </tr>\n",
       "    <tr>\n",
       "      <th>...</th>\n",
       "      <td>...</td>\n",
       "      <td>...</td>\n",
       "      <td>...</td>\n",
       "      <td>...</td>\n",
       "      <td>...</td>\n",
       "      <td>...</td>\n",
       "    </tr>\n",
       "    <tr>\n",
       "      <th>495</th>\n",
       "      <td>AZE</td>\n",
       "      <td>2008</td>\n",
       "      <td>96</td>\n",
       "      <td>100</td>\n",
       "      <td>5283.54700</td>\n",
       "      <td>8101.0</td>\n",
       "    </tr>\n",
       "    <tr>\n",
       "      <th>496</th>\n",
       "      <td>AZE</td>\n",
       "      <td>2008</td>\n",
       "      <td>97</td>\n",
       "      <td>100</td>\n",
       "      <td>5802.63800</td>\n",
       "      <td>8101.0</td>\n",
       "    </tr>\n",
       "    <tr>\n",
       "      <th>497</th>\n",
       "      <td>AZE</td>\n",
       "      <td>2008</td>\n",
       "      <td>98</td>\n",
       "      <td>100</td>\n",
       "      <td>6366.05900</td>\n",
       "      <td>8101.0</td>\n",
       "    </tr>\n",
       "    <tr>\n",
       "      <th>498</th>\n",
       "      <td>AZE</td>\n",
       "      <td>2008</td>\n",
       "      <td>99</td>\n",
       "      <td>100</td>\n",
       "      <td>7459.71140</td>\n",
       "      <td>8101.0</td>\n",
       "    </tr>\n",
       "    <tr>\n",
       "      <th>499</th>\n",
       "      <td>AZE</td>\n",
       "      <td>2008</td>\n",
       "      <td>100</td>\n",
       "      <td>100</td>\n",
       "      <td>12023.72700</td>\n",
       "      <td>8101.0</td>\n",
       "    </tr>\n",
       "  </tbody>\n",
       "</table>\n",
       "<p>100 rows × 6 columns</p>\n",
       "</div>"
      ],
      "text/plain": [
       "    country  year_survey  quantile  nb_quantiles       income  gdpppp\n",
       "400     AZE         2008         1           100    397.53983  8101.0\n",
       "401     AZE         2008         2           100    597.77320  8101.0\n",
       "402     AZE         2008         3           100    705.47003  8101.0\n",
       "403     AZE         2008         4           100    785.52610  8101.0\n",
       "404     AZE         2008         5           100    841.75244  8101.0\n",
       "..      ...          ...       ...           ...          ...     ...\n",
       "495     AZE         2008        96           100   5283.54700  8101.0\n",
       "496     AZE         2008        97           100   5802.63800  8101.0\n",
       "497     AZE         2008        98           100   6366.05900  8101.0\n",
       "498     AZE         2008        99           100   7459.71140  8101.0\n",
       "499     AZE         2008       100           100  12023.72700  8101.0\n",
       "\n",
       "[100 rows x 6 columns]"
      ]
     },
     "execution_count": 20,
     "metadata": {},
     "output_type": "execute_result"
    }
   ],
   "source": [
    "df_distrib_revenus[df_distrib_revenus['country'] == 'AZE']"
   ]
  },
  {
   "cell_type": "code",
   "execution_count": 21,
   "metadata": {},
   "outputs": [
    {
     "data": {
      "text/html": [
       "<div>\n",
       "<style scoped>\n",
       "    .dataframe tbody tr th:only-of-type {\n",
       "        vertical-align: middle;\n",
       "    }\n",
       "\n",
       "    .dataframe tbody tr th {\n",
       "        vertical-align: top;\n",
       "    }\n",
       "\n",
       "    .dataframe thead th {\n",
       "        text-align: right;\n",
       "    }\n",
       "</style>\n",
       "<table border=\"1\" class=\"dataframe\">\n",
       "  <thead>\n",
       "    <tr style=\"text-align: right;\">\n",
       "      <th></th>\n",
       "      <th>country</th>\n",
       "      <th>year_survey</th>\n",
       "      <th>quantile</th>\n",
       "      <th>nb_quantiles</th>\n",
       "      <th>income</th>\n",
       "      <th>gdpppp</th>\n",
       "    </tr>\n",
       "  </thead>\n",
       "  <tbody>\n",
       "    <tr>\n",
       "      <th>11399</th>\n",
       "      <td>ZAF</td>\n",
       "      <td>2008</td>\n",
       "      <td>1</td>\n",
       "      <td>100</td>\n",
       "      <td>60.490383</td>\n",
       "      <td>9602.0</td>\n",
       "    </tr>\n",
       "    <tr>\n",
       "      <th>11400</th>\n",
       "      <td>ZAF</td>\n",
       "      <td>2008</td>\n",
       "      <td>2</td>\n",
       "      <td>100</td>\n",
       "      <td>138.341550</td>\n",
       "      <td>9602.0</td>\n",
       "    </tr>\n",
       "    <tr>\n",
       "      <th>11401</th>\n",
       "      <td>ZAF</td>\n",
       "      <td>2008</td>\n",
       "      <td>3</td>\n",
       "      <td>100</td>\n",
       "      <td>192.294500</td>\n",
       "      <td>9602.0</td>\n",
       "    </tr>\n",
       "    <tr>\n",
       "      <th>11402</th>\n",
       "      <td>ZAF</td>\n",
       "      <td>2008</td>\n",
       "      <td>4</td>\n",
       "      <td>100</td>\n",
       "      <td>236.994000</td>\n",
       "      <td>9602.0</td>\n",
       "    </tr>\n",
       "    <tr>\n",
       "      <th>11403</th>\n",
       "      <td>ZAF</td>\n",
       "      <td>2008</td>\n",
       "      <td>5</td>\n",
       "      <td>100</td>\n",
       "      <td>279.367580</td>\n",
       "      <td>9602.0</td>\n",
       "    </tr>\n",
       "    <tr>\n",
       "      <th>...</th>\n",
       "      <td>...</td>\n",
       "      <td>...</td>\n",
       "      <td>...</td>\n",
       "      <td>...</td>\n",
       "      <td>...</td>\n",
       "      <td>...</td>\n",
       "    </tr>\n",
       "    <tr>\n",
       "      <th>11494</th>\n",
       "      <td>ZAF</td>\n",
       "      <td>2008</td>\n",
       "      <td>96</td>\n",
       "      <td>100</td>\n",
       "      <td>24553.568000</td>\n",
       "      <td>9602.0</td>\n",
       "    </tr>\n",
       "    <tr>\n",
       "      <th>11495</th>\n",
       "      <td>ZAF</td>\n",
       "      <td>2008</td>\n",
       "      <td>97</td>\n",
       "      <td>100</td>\n",
       "      <td>28858.031000</td>\n",
       "      <td>9602.0</td>\n",
       "    </tr>\n",
       "    <tr>\n",
       "      <th>11496</th>\n",
       "      <td>ZAF</td>\n",
       "      <td>2008</td>\n",
       "      <td>98</td>\n",
       "      <td>100</td>\n",
       "      <td>35750.290000</td>\n",
       "      <td>9602.0</td>\n",
       "    </tr>\n",
       "    <tr>\n",
       "      <th>11497</th>\n",
       "      <td>ZAF</td>\n",
       "      <td>2008</td>\n",
       "      <td>99</td>\n",
       "      <td>100</td>\n",
       "      <td>46297.316000</td>\n",
       "      <td>9602.0</td>\n",
       "    </tr>\n",
       "    <tr>\n",
       "      <th>11498</th>\n",
       "      <td>ZAF</td>\n",
       "      <td>2008</td>\n",
       "      <td>100</td>\n",
       "      <td>100</td>\n",
       "      <td>82408.550000</td>\n",
       "      <td>9602.0</td>\n",
       "    </tr>\n",
       "  </tbody>\n",
       "</table>\n",
       "<p>100 rows × 6 columns</p>\n",
       "</div>"
      ],
      "text/plain": [
       "      country  year_survey  quantile  nb_quantiles        income  gdpppp\n",
       "11399     ZAF         2008         1           100     60.490383  9602.0\n",
       "11400     ZAF         2008         2           100    138.341550  9602.0\n",
       "11401     ZAF         2008         3           100    192.294500  9602.0\n",
       "11402     ZAF         2008         4           100    236.994000  9602.0\n",
       "11403     ZAF         2008         5           100    279.367580  9602.0\n",
       "...       ...          ...       ...           ...           ...     ...\n",
       "11494     ZAF         2008        96           100  24553.568000  9602.0\n",
       "11495     ZAF         2008        97           100  28858.031000  9602.0\n",
       "11496     ZAF         2008        98           100  35750.290000  9602.0\n",
       "11497     ZAF         2008        99           100  46297.316000  9602.0\n",
       "11498     ZAF         2008       100           100  82408.550000  9602.0\n",
       "\n",
       "[100 rows x 6 columns]"
      ]
     },
     "execution_count": 21,
     "metadata": {},
     "output_type": "execute_result"
    }
   ],
   "source": [
    "df_distrib_revenus[df_distrib_revenus['country']=='ZAF']"
   ]
  },
  {
   "cell_type": "markdown",
   "metadata": {},
   "source": [
    "### Mission 1 <a class=\"anchor\" id=\"mission_1\"></a>\n",
    "#### - Année(s) des données utilisées \n",
    "#### - Nombre de pays présents \n",
    "#### - population couverte par l'analyse (en termes de pourcentage de la population mondiale)"
   ]
  },
  {
   "cell_type": "markdown",
   "metadata": {},
   "source": [
    "### Année(s) des données utilisées <a class=\"anchor\" id=\"annee_donnee_revenus\"></a>"
   ]
  },
  {
   "cell_type": "code",
   "execution_count": 22,
   "metadata": {
    "scrolled": true
   },
   "outputs": [
    {
     "data": {
      "text/plain": [
       "array([2004, 2006, 2007, 2008, 2009, 2010, 2011], dtype=int64)"
      ]
     },
     "execution_count": 22,
     "metadata": {},
     "output_type": "execute_result"
    }
   ],
   "source": [
    "df_distrib_revenus.year_survey.sort_values( ascending = True).unique()"
   ]
  },
  {
   "cell_type": "markdown",
   "metadata": {},
   "source": [
    "#### Remarque : les données couvrent les années de 2004 à 2011 inclus"
   ]
  },
  {
   "cell_type": "markdown",
   "metadata": {},
   "source": [
    "#### Visualisation du nombre de pays analysés pour chaque année"
   ]
  },
  {
   "cell_type": "code",
   "execution_count": 23,
   "metadata": {
    "scrolled": false
   },
   "outputs": [
    {
     "data": {
      "text/html": [
       "<div>\n",
       "<style scoped>\n",
       "    .dataframe tbody tr th:only-of-type {\n",
       "        vertical-align: middle;\n",
       "    }\n",
       "\n",
       "    .dataframe tbody tr th {\n",
       "        vertical-align: top;\n",
       "    }\n",
       "\n",
       "    .dataframe thead th {\n",
       "        text-align: right;\n",
       "    }\n",
       "</style>\n",
       "<table border=\"1\" class=\"dataframe\">\n",
       "  <thead>\n",
       "    <tr style=\"text-align: right;\">\n",
       "      <th></th>\n",
       "      <th>year_survey</th>\n",
       "      <th>nbre_pays</th>\n",
       "    </tr>\n",
       "  </thead>\n",
       "  <tbody>\n",
       "    <tr>\n",
       "      <th>0</th>\n",
       "      <td>2004</td>\n",
       "      <td>1</td>\n",
       "    </tr>\n",
       "    <tr>\n",
       "      <th>1</th>\n",
       "      <td>2006</td>\n",
       "      <td>5</td>\n",
       "    </tr>\n",
       "    <tr>\n",
       "      <th>2</th>\n",
       "      <td>2007</td>\n",
       "      <td>15</td>\n",
       "    </tr>\n",
       "    <tr>\n",
       "      <th>3</th>\n",
       "      <td>2008</td>\n",
       "      <td>76</td>\n",
       "    </tr>\n",
       "    <tr>\n",
       "      <th>4</th>\n",
       "      <td>2009</td>\n",
       "      <td>12</td>\n",
       "    </tr>\n",
       "    <tr>\n",
       "      <th>5</th>\n",
       "      <td>2010</td>\n",
       "      <td>6</td>\n",
       "    </tr>\n",
       "    <tr>\n",
       "      <th>6</th>\n",
       "      <td>2011</td>\n",
       "      <td>1</td>\n",
       "    </tr>\n",
       "  </tbody>\n",
       "</table>\n",
       "</div>"
      ],
      "text/plain": [
       "   year_survey  nbre_pays\n",
       "0         2004          1\n",
       "1         2006          5\n",
       "2         2007         15\n",
       "3         2008         76\n",
       "4         2009         12\n",
       "5         2010          6\n",
       "6         2011          1"
      ]
     },
     "execution_count": 23,
     "metadata": {},
     "output_type": "execute_result"
    }
   ],
   "source": [
    "df_distr_pays = df_distrib_revenus.groupby(['year_survey'])['country'].nunique().reset_index(name='nbre_pays')\n",
    "df_distr_pays"
   ]
  },
  {
   "cell_type": "code",
   "execution_count": 24,
   "metadata": {},
   "outputs": [
    {
     "data": {
      "text/plain": [
       "<Figure size 720x720 with 0 Axes>"
      ]
     },
     "metadata": {},
     "output_type": "display_data"
    },
    {
     "data": {
      "image/png": "[encoded data removed]",
      "text/plain": [
       "<Figure size 360x360 with 1 Axes>"
      ]
     },
     "metadata": {},
     "output_type": "display_data"
    }
   ],
   "source": [
    "# distribustion du nombre de pays en fonction de la date\n",
    "plt.figure(figsize=(10,10))\n",
    "ax = sns.catplot(x='year_survey', y='nbre_pays', data=df_distr_pays, kind=\"bar\")\n",
    "for axe in ax.axes.ravel():\n",
    "    for p in axe.patches:\n",
    "                 axe.annotate(format(p.get_height(), '.0f'), (p.get_x() + p.get_width() / 2., p.get_height()),\n",
    "                     ha='center', va='center', fontsize=11, color='grey', rotation=0, xytext=(0, 10),\n",
    "                     textcoords='offset points')\n",
    "plt.title('Répartition du nombre de pays\\n en fonction de l\\'année', size= 14)\n",
    "plt.xlabel('année', size= 12)\n",
    "plt.ylabel('nombre de pays', size= 12)\n",
    "plt.savefig(\"Répartition du nombre de pays en fonction de l\\'année.jpg\")\n",
    "# plt.show()"
   ]
  },
  {
   "cell_type": "markdown",
   "metadata": {},
   "source": [
    "Autre visualisation de la distribution des années"
   ]
  },
  {
   "cell_type": "code",
   "execution_count": 25,
   "metadata": {
    "scrolled": true
   },
   "outputs": [
    {
     "data": {
      "text/plain": [
       "<AxesSubplot:xlabel='year_survey', ylabel='Count'>"
      ]
     },
     "execution_count": 25,
     "metadata": {},
     "output_type": "execute_result"
    },
    {
     "data": {
      "image/png": "[encoded data removed]",
      "text/plain": [
       "<Figure size 576x396 with 1 Axes>"
      ]
     },
     "metadata": {},
     "output_type": "display_data"
    }
   ],
   "source": [
    "sns.histplot(x='year_survey', data=df_distrib_revenus)"
   ]
  },
  {
   "cell_type": "markdown",
   "metadata": {},
   "source": [
    "#### Remarque : forte proportion pour 2008"
   ]
  },
  {
   "cell_type": "markdown",
   "metadata": {},
   "source": [
    "### Renommage des colonnes"
   ]
  },
  {
   "cell_type": "code",
   "execution_count": 26,
   "metadata": {},
   "outputs": [],
   "source": [
    "df_distrib_revenus_bis = df_distrib_revenus.rename(columns = {'country' : 'country_code', 'year_survey' : 'year'})"
   ]
  },
  {
   "cell_type": "code",
   "execution_count": 27,
   "metadata": {
    "scrolled": true
   },
   "outputs": [
    {
     "data": {
      "text/html": [
       "<div>\n",
       "<style scoped>\n",
       "    .dataframe tbody tr th:only-of-type {\n",
       "        vertical-align: middle;\n",
       "    }\n",
       "\n",
       "    .dataframe tbody tr th {\n",
       "        vertical-align: top;\n",
       "    }\n",
       "\n",
       "    .dataframe thead th {\n",
       "        text-align: right;\n",
       "    }\n",
       "</style>\n",
       "<table border=\"1\" class=\"dataframe\">\n",
       "  <thead>\n",
       "    <tr style=\"text-align: right;\">\n",
       "      <th></th>\n",
       "      <th>country_code</th>\n",
       "      <th>year</th>\n",
       "      <th>quantile</th>\n",
       "      <th>nb_quantiles</th>\n",
       "      <th>income</th>\n",
       "      <th>gdpppp</th>\n",
       "    </tr>\n",
       "  </thead>\n",
       "  <tbody>\n",
       "    <tr>\n",
       "      <th>0</th>\n",
       "      <td>ALB</td>\n",
       "      <td>2008</td>\n",
       "      <td>1</td>\n",
       "      <td>100</td>\n",
       "      <td>728.89795</td>\n",
       "      <td>7297.0</td>\n",
       "    </tr>\n",
       "    <tr>\n",
       "      <th>1</th>\n",
       "      <td>ALB</td>\n",
       "      <td>2008</td>\n",
       "      <td>2</td>\n",
       "      <td>100</td>\n",
       "      <td>916.66235</td>\n",
       "      <td>7297.0</td>\n",
       "    </tr>\n",
       "  </tbody>\n",
       "</table>\n",
       "</div>"
      ],
      "text/plain": [
       "  country_code  year  quantile  nb_quantiles     income  gdpppp\n",
       "0          ALB  2008         1           100  728.89795  7297.0\n",
       "1          ALB  2008         2           100  916.66235  7297.0"
      ]
     },
     "execution_count": 27,
     "metadata": {},
     "output_type": "execute_result"
    }
   ],
   "source": [
    "df_distrib_revenus_bis.head(2)"
   ]
  },
  {
   "cell_type": "code",
   "execution_count": 28,
   "metadata": {},
   "outputs": [
    {
     "data": {
      "text/plain": [
       "array(['ALB', 'ARG', 'ARM', 'AUT', 'AZE', 'BEL', 'BFA', 'BGD', 'BGR',\n",
       "       'BIH', 'BLR', 'BOL', 'BRA', 'BTN', 'CAF', 'CAN', 'CHL', 'CHN',\n",
       "       'CIV', 'CMR', 'COD', 'COL', 'CRI', 'CYP', 'CZE', 'DEU', 'DNK',\n",
       "       'DOM', 'ECU', 'EGY', 'ESP', 'EST', 'FIN', 'FJI', 'FRA', 'GBR',\n",
       "       'GEO', 'GHA', 'GIN', 'GRC', 'GTM', 'HND', 'HRV', 'HUN', 'IDN',\n",
       "       'IND', 'IRL', 'IRN', 'IRQ', 'ISL', 'ISR', 'ITA', 'JOR', 'JPN',\n",
       "       'KAZ', 'KEN', 'KGZ', 'KHM', 'KOR', 'LAO', 'LBR', 'LKA', 'LTU',\n",
       "       'LUX', 'LVA', 'MAR', 'MDA', 'MDG', 'MEX', 'MKD', 'MLI', 'MNE',\n",
       "       'MNG', 'MOZ', 'MRT', 'MWI', 'MYS', 'NER', 'NGA', 'NIC', 'NLD',\n",
       "       'NOR', 'NPL', 'PAK', 'PAN', 'PER', 'PHL', 'POL', 'PRT', 'PRY',\n",
       "       'PSE', 'ROU', 'RUS', 'SDN', 'SLV', 'SRB', 'SVK', 'SVN', 'SWE',\n",
       "       'SWZ', 'SYR', 'THA', 'TJK', 'TLS', 'TUR', 'TWN', 'TZA', 'UGA',\n",
       "       'UKR', 'URY', 'USA', 'VEN', 'VNM', 'XKX', 'YEM', 'ZAF'],\n",
       "      dtype=object)"
      ]
     },
     "execution_count": 28,
     "metadata": {},
     "output_type": "execute_result"
    }
   ],
   "source": [
    "# Liste des codes alpha 3\n",
    "ff = df_distrib_revenus_bis.country_code.sort_values(ascending=True).unique()\n",
    "ff"
   ]
  },
  {
   "cell_type": "markdown",
   "metadata": {},
   "source": [
    "### Création d'un dataframe avec code alpha 3 du pays et son nom (\"df_dist_revenus_code)  \n",
    "#### (https://stefangabos.github.io/world_countries/#top)\n",
    "<a class=\"anchor\" id=\"crea_code_revenus\"></a>\n",
    "### Importation et lecture des codes pays (code ISO 3166-1) (https://satvasolutions.com/)"
   ]
  },
  {
   "cell_type": "code",
   "execution_count": 29,
   "metadata": {},
   "outputs": [],
   "source": [
    "# Importation du dataframe comprenant les codes ISO 3166-1)\n",
    "df_pays_code = pd.read_csv('code_pays.csv',usecols=[0,4])"
   ]
  },
  {
   "cell_type": "code",
   "execution_count": 30,
   "metadata": {},
   "outputs": [
    {
     "data": {
      "text/plain": [
       "(266, 2)"
      ]
     },
     "execution_count": 30,
     "metadata": {},
     "output_type": "execute_result"
    }
   ],
   "source": [
    "df_pays_code.shape"
   ]
  },
  {
   "cell_type": "code",
   "execution_count": 31,
   "metadata": {
    "scrolled": true
   },
   "outputs": [
    {
     "data": {
      "text/html": [
       "<div>\n",
       "<style scoped>\n",
       "    .dataframe tbody tr th:only-of-type {\n",
       "        vertical-align: middle;\n",
       "    }\n",
       "\n",
       "    .dataframe tbody tr th {\n",
       "        vertical-align: top;\n",
       "    }\n",
       "\n",
       "    .dataframe thead th {\n",
       "        text-align: right;\n",
       "    }\n",
       "</style>\n",
       "<table border=\"1\" class=\"dataframe\">\n",
       "  <thead>\n",
       "    <tr style=\"text-align: right;\">\n",
       "      <th></th>\n",
       "      <th>Country Code</th>\n",
       "      <th>TableName</th>\n",
       "    </tr>\n",
       "  </thead>\n",
       "  <tbody>\n",
       "    <tr>\n",
       "      <th>0</th>\n",
       "      <td>ABW</td>\n",
       "      <td>Aruba</td>\n",
       "    </tr>\n",
       "    <tr>\n",
       "      <th>1</th>\n",
       "      <td>AFE</td>\n",
       "      <td>Africa Eastern and Southern</td>\n",
       "    </tr>\n",
       "    <tr>\n",
       "      <th>2</th>\n",
       "      <td>AFG</td>\n",
       "      <td>Afghanistan</td>\n",
       "    </tr>\n",
       "    <tr>\n",
       "      <th>3</th>\n",
       "      <td>AFW</td>\n",
       "      <td>Africa Western and Central</td>\n",
       "    </tr>\n",
       "    <tr>\n",
       "      <th>4</th>\n",
       "      <td>AGO</td>\n",
       "      <td>Angola</td>\n",
       "    </tr>\n",
       "  </tbody>\n",
       "</table>\n",
       "</div>"
      ],
      "text/plain": [
       "  Country Code                    TableName\n",
       "0          ABW                        Aruba\n",
       "1          AFE  Africa Eastern and Southern\n",
       "2          AFG                  Afghanistan\n",
       "3          AFW   Africa Western and Central\n",
       "4          AGO                       Angola"
      ]
     },
     "execution_count": 31,
     "metadata": {},
     "output_type": "execute_result"
    }
   ],
   "source": [
    "df_pays_code.head()"
   ]
  },
  {
   "cell_type": "code",
   "execution_count": 32,
   "metadata": {
    "scrolled": true
   },
   "outputs": [
    {
     "name": "stdout",
     "output_type": "stream",
     "text": [
      "<class 'pandas.core.frame.DataFrame'>\n",
      "RangeIndex: 266 entries, 0 to 265\n",
      "Data columns (total 2 columns):\n",
      " #   Column        Non-Null Count  Dtype \n",
      "---  ------        --------------  ----- \n",
      " 0   Country Code  266 non-null    object\n",
      " 1   TableName     266 non-null    object\n",
      "dtypes: object(2)\n",
      "memory usage: 4.3+ KB\n"
     ]
    }
   ],
   "source": [
    "df_pays_code.info()"
   ]
  },
  {
   "cell_type": "code",
   "execution_count": 33,
   "metadata": {},
   "outputs": [
    {
     "data": {
      "text/plain": [
       "Country Code    0\n",
       "TableName       0\n",
       "dtype: int64"
      ]
     },
     "execution_count": 33,
     "metadata": {},
     "output_type": "execute_result"
    }
   ],
   "source": [
    "# valeur null => aucune valeur nulle\n",
    "df_pays_code.isnull().sum(axis=0)"
   ]
  },
  {
   "cell_type": "code",
   "execution_count": 34,
   "metadata": {},
   "outputs": [
    {
     "data": {
      "text/plain": [
       "0"
      ]
     },
     "execution_count": 34,
     "metadata": {},
     "output_type": "execute_result"
    }
   ],
   "source": [
    "#  valeur dupliquée => aucune valeur dupliquée\n",
    "df_pays_code.duplicated().sum(axis=0)"
   ]
  },
  {
   "cell_type": "markdown",
   "metadata": {},
   "source": [
    "### Renommage des colonnes du dataframe comprenant les codes"
   ]
  },
  {
   "cell_type": "code",
   "execution_count": 35,
   "metadata": {},
   "outputs": [],
   "source": [
    "# renommage des colonnes de \"df_pays_code\" en vue d'une prochaine fusion\n",
    "df_pays_code_bis = df_pays_code.rename(columns ={'Country Code': 'country_code', 'TableName': 'country' })"
   ]
  },
  {
   "cell_type": "code",
   "execution_count": 36,
   "metadata": {
    "scrolled": true
   },
   "outputs": [
    {
     "data": {
      "text/html": [
       "<div>\n",
       "<style scoped>\n",
       "    .dataframe tbody tr th:only-of-type {\n",
       "        vertical-align: middle;\n",
       "    }\n",
       "\n",
       "    .dataframe tbody tr th {\n",
       "        vertical-align: top;\n",
       "    }\n",
       "\n",
       "    .dataframe thead th {\n",
       "        text-align: right;\n",
       "    }\n",
       "</style>\n",
       "<table border=\"1\" class=\"dataframe\">\n",
       "  <thead>\n",
       "    <tr style=\"text-align: right;\">\n",
       "      <th></th>\n",
       "      <th>country_code</th>\n",
       "      <th>country</th>\n",
       "    </tr>\n",
       "  </thead>\n",
       "  <tbody>\n",
       "    <tr>\n",
       "      <th>0</th>\n",
       "      <td>ABW</td>\n",
       "      <td>Aruba</td>\n",
       "    </tr>\n",
       "    <tr>\n",
       "      <th>1</th>\n",
       "      <td>AFE</td>\n",
       "      <td>Africa Eastern and Southern</td>\n",
       "    </tr>\n",
       "  </tbody>\n",
       "</table>\n",
       "</div>"
      ],
      "text/plain": [
       "  country_code                      country\n",
       "0          ABW                        Aruba\n",
       "1          AFE  Africa Eastern and Southern"
      ]
     },
     "execution_count": 36,
     "metadata": {},
     "output_type": "execute_result"
    }
   ],
   "source": [
    "df_pays_code_bis.head(2)"
   ]
  },
  {
   "cell_type": "code",
   "execution_count": 37,
   "metadata": {},
   "outputs": [
    {
     "data": {
      "text/plain": [
       "array(['ABW', 'AFE', 'AFG', 'AFW', 'AGO', 'ALB', 'AND', 'ARB', 'ARE',\n",
       "       'ARG', 'ARM', 'ASM', 'ATG', 'AUS', 'AUT', 'AZE', 'BDI', 'BEL',\n",
       "       'BEN', 'BFA', 'BGD', 'BGR', 'BHR', 'BHS', 'BIH', 'BLR', 'BLZ',\n",
       "       'BMU', 'BOL', 'BRA', 'BRB', 'BRN', 'BTN', 'BWA', 'CAF', 'CAN',\n",
       "       'CEB', 'CHE', 'CHI', 'CHL', 'CHN', 'CIV', 'CMR', 'COD', 'COG',\n",
       "       'COL', 'COM', 'CPV', 'CRI', 'CSS', 'CUB', 'CUW', 'CYM', 'CYP',\n",
       "       'CZE', 'DEU', 'DJI', 'DMA', 'DNK', 'DOM', 'DZA', 'EAP', 'EAR',\n",
       "       'EAS', 'ECA', 'ECS', 'ECU', 'EGY', 'EMU', 'ERI', 'ESP', 'EST',\n",
       "       'ETH', 'EUU', 'FCS', 'FIN', 'FJI', 'FRA', 'FRO', 'FSM', 'GAB',\n",
       "       'GBR', 'GEO', 'GHA', 'GIB', 'GIN', 'GMB', 'GNB', 'GNQ', 'GRC',\n",
       "       'GRD', 'GRL', 'GTM', 'GUM', 'GUY', 'HIC', 'HKG', 'HND', 'HPC',\n",
       "       'HRV', 'HTI', 'HUN', 'IBD', 'IBT', 'IDA', 'IDB', 'IDN', 'IDX',\n",
       "       'IMN', 'IND', 'IRL', 'IRN', 'IRQ', 'ISL', 'ISR', 'ITA', 'JAM',\n",
       "       'JOR', 'JPN', 'KAZ', 'KEN', 'KGZ', 'KHM', 'KIR', 'KNA', 'KOR',\n",
       "       'KWT', 'LAC', 'LAO', 'LBN', 'LBR', 'LBY', 'LCA', 'LCN', 'LDC',\n",
       "       'LIC', 'LIE', 'LKA', 'LMC', 'LMY', 'LSO', 'LTE', 'LTU', 'LUX',\n",
       "       'LVA', 'MAC', 'MAF', 'MAR', 'MCO', 'MDA', 'MDG', 'MDV', 'MEA',\n",
       "       'MEX', 'MHL', 'MIC', 'MKD', 'MLI', 'MLT', 'MMR', 'MNA', 'MNE',\n",
       "       'MNG', 'MNP', 'MOZ', 'MRT', 'MUS', 'MWI', 'MYS', 'NAC', 'NAM',\n",
       "       'NCL', 'NER', 'NGA', 'NIC', 'NLD', 'NOR', 'NPL', 'NRU', 'NZL',\n",
       "       'OED', 'OMN', 'OSS', 'PAK', 'PAN', 'PER', 'PHL', 'PLW', 'PNG',\n",
       "       'POL', 'PRE', 'PRI', 'PRK', 'PRT', 'PRY', 'PSE', 'PSS', 'PST',\n",
       "       'PYF', 'QAT', 'ROU', 'RUS', 'RWA', 'SAS', 'SAU', 'SDN', 'SEN',\n",
       "       'SGP', 'SLB', 'SLE', 'SLV', 'SMR', 'SOM', 'SRB', 'SSA', 'SSD',\n",
       "       'SSF', 'SST', 'STP', 'SUR', 'SVK', 'SVN', 'SWE', 'SWZ', 'SXM',\n",
       "       'SYC', 'SYR', 'TCA', 'TCD', 'TEA', 'TEC', 'TGO', 'THA', 'TJK',\n",
       "       'TKM', 'TLA', 'TLS', 'TMN', 'TON', 'TSA', 'TSS', 'TTO', 'TUN',\n",
       "       'TUR', 'TUV', 'TWN', 'TZA', 'UGA', 'UKR', 'UMC', 'URY', 'USA',\n",
       "       'UZB', 'VCT', 'VEN', 'VGB', 'VIR', 'VNM', 'VUT', 'WLD', 'WSM',\n",
       "       'XKX', 'YEM', 'ZAF', 'ZMB', 'ZWE'], dtype=object)"
      ]
     },
     "execution_count": 37,
     "metadata": {},
     "output_type": "execute_result"
    }
   ],
   "source": [
    "# Liste des codes alpha 3\n",
    "ee = df_pays_code_bis.country_code.sort_values().unique()\n",
    "ee"
   ]
  },
  {
   "cell_type": "code",
   "execution_count": 38,
   "metadata": {
    "scrolled": true
   },
   "outputs": [
    {
     "data": {
      "text/plain": [
       "array(['ALB', 'ARG', 'ARM', 'AUT', 'AZE', 'BEL', 'BFA', 'BGD', 'BGR',\n",
       "       'BIH', 'BLR', 'BOL', 'BRA', 'BTN', 'CAF', 'CAN', 'CHL', 'CHN',\n",
       "       'CIV', 'CMR', 'COD', 'COL', 'CRI', 'CYP', 'CZE', 'DEU', 'DNK',\n",
       "       'DOM', 'ECU', 'EGY', 'ESP', 'EST', 'FIN', 'FJI', 'FRA', 'GBR',\n",
       "       'GEO', 'GHA', 'GIN', 'GRC', 'GTM', 'HND', 'HRV', 'HUN', 'IDN',\n",
       "       'IND', 'IRL', 'IRN', 'IRQ', 'ISL', 'ISR', 'ITA', 'JOR', 'JPN',\n",
       "       'KAZ', 'KEN', 'KGZ', 'KHM', 'KOR', 'LAO', 'LBR', 'LKA', 'LTU',\n",
       "       'LUX', 'LVA', 'MAR', 'MDA', 'MDG', 'MEX', 'MKD', 'MLI', 'MNE',\n",
       "       'MNG', 'MOZ', 'MRT', 'MWI', 'MYS', 'NER', 'NGA', 'NIC', 'NLD',\n",
       "       'NOR', 'NPL', 'PAK', 'PAN', 'PER', 'PHL', 'POL', 'PRT', 'PRY',\n",
       "       'PSE', 'ROU', 'RUS', 'SDN', 'SLV', 'SRB', 'SVK', 'SVN', 'SWE',\n",
       "       'SWZ', 'SYR', 'THA', 'TJK', 'TLS', 'TUR', 'TWN', 'TZA', 'UGA',\n",
       "       'UKR', 'URY', 'USA', 'VEN', 'VNM', 'XKX', 'YEM', 'ZAF'],\n",
       "      dtype=object)"
      ]
     },
     "execution_count": 38,
     "metadata": {},
     "output_type": "execute_result"
    }
   ],
   "source": [
    "# df_distrib_revenus_bis\n",
    "ff"
   ]
  },
  {
   "cell_type": "markdown",
   "metadata": {},
   "source": [
    "### Fusion du dataset \"pays_codes\" avec \"distribution revenus\" afin de récupérer le nom des pays pour chaque code"
   ]
  },
  {
   "cell_type": "code",
   "execution_count": 39,
   "metadata": {},
   "outputs": [
    {
     "data": {
      "text/html": [
       "<div>\n",
       "<style scoped>\n",
       "    .dataframe tbody tr th:only-of-type {\n",
       "        vertical-align: middle;\n",
       "    }\n",
       "\n",
       "    .dataframe tbody tr th {\n",
       "        vertical-align: top;\n",
       "    }\n",
       "\n",
       "    .dataframe thead th {\n",
       "        text-align: right;\n",
       "    }\n",
       "</style>\n",
       "<table border=\"1\" class=\"dataframe\">\n",
       "  <thead>\n",
       "    <tr style=\"text-align: right;\">\n",
       "      <th></th>\n",
       "      <th>country_code</th>\n",
       "      <th>year</th>\n",
       "      <th>quantile</th>\n",
       "      <th>nb_quantiles</th>\n",
       "      <th>income</th>\n",
       "      <th>gdpppp</th>\n",
       "    </tr>\n",
       "  </thead>\n",
       "  <tbody>\n",
       "    <tr>\n",
       "      <th>0</th>\n",
       "      <td>ALB</td>\n",
       "      <td>2008</td>\n",
       "      <td>1</td>\n",
       "      <td>100</td>\n",
       "      <td>728.89795</td>\n",
       "      <td>7297.0</td>\n",
       "    </tr>\n",
       "    <tr>\n",
       "      <th>1</th>\n",
       "      <td>ALB</td>\n",
       "      <td>2008</td>\n",
       "      <td>2</td>\n",
       "      <td>100</td>\n",
       "      <td>916.66235</td>\n",
       "      <td>7297.0</td>\n",
       "    </tr>\n",
       "  </tbody>\n",
       "</table>\n",
       "</div>"
      ],
      "text/plain": [
       "  country_code  year  quantile  nb_quantiles     income  gdpppp\n",
       "0          ALB  2008         1           100  728.89795  7297.0\n",
       "1          ALB  2008         2           100  916.66235  7297.0"
      ]
     },
     "execution_count": 39,
     "metadata": {},
     "output_type": "execute_result"
    }
   ],
   "source": [
    "df_distrib_revenus_bis.head(2)"
   ]
  },
  {
   "cell_type": "code",
   "execution_count": 40,
   "metadata": {},
   "outputs": [
    {
     "data": {
      "text/html": [
       "<div>\n",
       "<style scoped>\n",
       "    .dataframe tbody tr th:only-of-type {\n",
       "        vertical-align: middle;\n",
       "    }\n",
       "\n",
       "    .dataframe tbody tr th {\n",
       "        vertical-align: top;\n",
       "    }\n",
       "\n",
       "    .dataframe thead th {\n",
       "        text-align: right;\n",
       "    }\n",
       "</style>\n",
       "<table border=\"1\" class=\"dataframe\">\n",
       "  <thead>\n",
       "    <tr style=\"text-align: right;\">\n",
       "      <th></th>\n",
       "      <th>country_code</th>\n",
       "      <th>country</th>\n",
       "    </tr>\n",
       "  </thead>\n",
       "  <tbody>\n",
       "    <tr>\n",
       "      <th>0</th>\n",
       "      <td>ABW</td>\n",
       "      <td>Aruba</td>\n",
       "    </tr>\n",
       "    <tr>\n",
       "      <th>1</th>\n",
       "      <td>AFE</td>\n",
       "      <td>Africa Eastern and Southern</td>\n",
       "    </tr>\n",
       "  </tbody>\n",
       "</table>\n",
       "</div>"
      ],
      "text/plain": [
       "  country_code                      country\n",
       "0          ABW                        Aruba\n",
       "1          AFE  Africa Eastern and Southern"
      ]
     },
     "execution_count": 40,
     "metadata": {},
     "output_type": "execute_result"
    }
   ],
   "source": [
    "df_pays_code_bis.head(2)"
   ]
  },
  {
   "cell_type": "code",
   "execution_count": 41,
   "metadata": {},
   "outputs": [],
   "source": [
    "df_dist_revenus_code = pd.merge(df_distrib_revenus_bis, df_pays_code_bis, on='country_code', how='left')"
   ]
  },
  {
   "cell_type": "code",
   "execution_count": 42,
   "metadata": {
    "scrolled": true
   },
   "outputs": [
    {
     "data": {
      "text/html": [
       "<div>\n",
       "<style scoped>\n",
       "    .dataframe tbody tr th:only-of-type {\n",
       "        vertical-align: middle;\n",
       "    }\n",
       "\n",
       "    .dataframe tbody tr th {\n",
       "        vertical-align: top;\n",
       "    }\n",
       "\n",
       "    .dataframe thead th {\n",
       "        text-align: right;\n",
       "    }\n",
       "</style>\n",
       "<table border=\"1\" class=\"dataframe\">\n",
       "  <thead>\n",
       "    <tr style=\"text-align: right;\">\n",
       "      <th></th>\n",
       "      <th>country_code</th>\n",
       "      <th>year</th>\n",
       "      <th>quantile</th>\n",
       "      <th>nb_quantiles</th>\n",
       "      <th>income</th>\n",
       "      <th>gdpppp</th>\n",
       "      <th>country</th>\n",
       "    </tr>\n",
       "  </thead>\n",
       "  <tbody>\n",
       "    <tr>\n",
       "      <th>0</th>\n",
       "      <td>ALB</td>\n",
       "      <td>2008</td>\n",
       "      <td>1</td>\n",
       "      <td>100</td>\n",
       "      <td>728.89795</td>\n",
       "      <td>7297.0</td>\n",
       "      <td>Albania</td>\n",
       "    </tr>\n",
       "    <tr>\n",
       "      <th>1</th>\n",
       "      <td>ALB</td>\n",
       "      <td>2008</td>\n",
       "      <td>2</td>\n",
       "      <td>100</td>\n",
       "      <td>916.66235</td>\n",
       "      <td>7297.0</td>\n",
       "      <td>Albania</td>\n",
       "    </tr>\n",
       "  </tbody>\n",
       "</table>\n",
       "</div>"
      ],
      "text/plain": [
       "  country_code  year  quantile  nb_quantiles     income  gdpppp  country\n",
       "0          ALB  2008         1           100  728.89795  7297.0  Albania\n",
       "1          ALB  2008         2           100  916.66235  7297.0  Albania"
      ]
     },
     "execution_count": 42,
     "metadata": {},
     "output_type": "execute_result"
    }
   ],
   "source": [
    "df_dist_revenus_code.head(2)"
   ]
  },
  {
   "cell_type": "code",
   "execution_count": 43,
   "metadata": {
    "scrolled": true
   },
   "outputs": [
    {
     "data": {
      "text/plain": [
       "(11599, 7)"
      ]
     },
     "execution_count": 43,
     "metadata": {},
     "output_type": "execute_result"
    }
   ],
   "source": [
    "df_dist_revenus_code.shape"
   ]
  },
  {
   "cell_type": "code",
   "execution_count": 44,
   "metadata": {
    "scrolled": true
   },
   "outputs": [
    {
     "data": {
      "text/plain": [
       "(11599, 6)"
      ]
     },
     "execution_count": 44,
     "metadata": {},
     "output_type": "execute_result"
    }
   ],
   "source": [
    "df_distrib_revenus_bis.shape"
   ]
  },
  {
   "cell_type": "code",
   "execution_count": 45,
   "metadata": {
    "scrolled": false
   },
   "outputs": [
    {
     "data": {
      "text/plain": [
       "country_code      0\n",
       "year              0\n",
       "quantile          0\n",
       "nb_quantiles      0\n",
       "income            0\n",
       "gdpppp          200\n",
       "country           0\n",
       "dtype: int64"
      ]
     },
     "execution_count": 45,
     "metadata": {},
     "output_type": "execute_result"
    }
   ],
   "source": [
    "# Valeur null => 200 valeurs null\n",
    "df_dist_revenus_code.isnull().sum(axis=0)"
   ]
  },
  {
   "cell_type": "code",
   "execution_count": 46,
   "metadata": {},
   "outputs": [
    {
     "data": {
      "text/plain": [
       "0"
      ]
     },
     "execution_count": 46,
     "metadata": {},
     "output_type": "execute_result"
    }
   ],
   "source": [
    "# Valeur dupliquée => aucune valeur \n",
    "df_dist_revenus_code.duplicated().sum(axis=0)"
   ]
  },
  {
   "cell_type": "markdown",
   "metadata": {},
   "source": [
    "### Récupération des noms des 2 pays dont la gdpppp est absente ('XKX' et 'PSE')"
   ]
  },
  {
   "cell_type": "code",
   "execution_count": 47,
   "metadata": {
    "scrolled": false
   },
   "outputs": [
    {
     "data": {
      "text/html": [
       "<div>\n",
       "<style scoped>\n",
       "    .dataframe tbody tr th:only-of-type {\n",
       "        vertical-align: middle;\n",
       "    }\n",
       "\n",
       "    .dataframe tbody tr th {\n",
       "        vertical-align: top;\n",
       "    }\n",
       "\n",
       "    .dataframe thead th {\n",
       "        text-align: right;\n",
       "    }\n",
       "</style>\n",
       "<table border=\"1\" class=\"dataframe\">\n",
       "  <thead>\n",
       "    <tr style=\"text-align: right;\">\n",
       "      <th></th>\n",
       "      <th>country_code</th>\n",
       "      <th>year</th>\n",
       "      <th>quantile</th>\n",
       "      <th>nb_quantiles</th>\n",
       "      <th>income</th>\n",
       "      <th>gdpppp</th>\n",
       "      <th>country</th>\n",
       "    </tr>\n",
       "  </thead>\n",
       "  <tbody>\n",
       "    <tr>\n",
       "      <th>11199</th>\n",
       "      <td>PSE</td>\n",
       "      <td>2009</td>\n",
       "      <td>1</td>\n",
       "      <td>100</td>\n",
       "      <td>195.2899</td>\n",
       "      <td>NaN</td>\n",
       "      <td>West Bank and Gaza</td>\n",
       "    </tr>\n",
       "  </tbody>\n",
       "</table>\n",
       "</div>"
      ],
      "text/plain": [
       "      country_code  year  quantile  nb_quantiles    income  gdpppp  \\\n",
       "11199          PSE  2009         1           100  195.2899     NaN   \n",
       "\n",
       "                  country  \n",
       "11199  West Bank and Gaza  "
      ]
     },
     "execution_count": 47,
     "metadata": {},
     "output_type": "execute_result"
    }
   ],
   "source": [
    "df_dist_revenus_code[df_dist_revenus_code['country_code']=='PSE'].head(1)"
   ]
  },
  {
   "cell_type": "markdown",
   "metadata": {},
   "source": [
    "- PSE est le code alpha 3 des terrictoires de **Palestine (West Bank and Gaza)**"
   ]
  },
  {
   "cell_type": "code",
   "execution_count": 48,
   "metadata": {
    "scrolled": true
   },
   "outputs": [
    {
     "data": {
      "text/html": [
       "<div>\n",
       "<style scoped>\n",
       "    .dataframe tbody tr th:only-of-type {\n",
       "        vertical-align: middle;\n",
       "    }\n",
       "\n",
       "    .dataframe tbody tr th {\n",
       "        vertical-align: top;\n",
       "    }\n",
       "\n",
       "    .dataframe thead th {\n",
       "        text-align: right;\n",
       "    }\n",
       "</style>\n",
       "<table border=\"1\" class=\"dataframe\">\n",
       "  <thead>\n",
       "    <tr style=\"text-align: right;\">\n",
       "      <th></th>\n",
       "      <th>country_code</th>\n",
       "      <th>year</th>\n",
       "      <th>quantile</th>\n",
       "      <th>nb_quantiles</th>\n",
       "      <th>income</th>\n",
       "      <th>gdpppp</th>\n",
       "      <th>country</th>\n",
       "    </tr>\n",
       "  </thead>\n",
       "  <tbody>\n",
       "    <tr>\n",
       "      <th>5800</th>\n",
       "      <td>XKX</td>\n",
       "      <td>2008</td>\n",
       "      <td>1</td>\n",
       "      <td>100</td>\n",
       "      <td>437.8937</td>\n",
       "      <td>NaN</td>\n",
       "      <td>Kosovo</td>\n",
       "    </tr>\n",
       "  </tbody>\n",
       "</table>\n",
       "</div>"
      ],
      "text/plain": [
       "     country_code  year  quantile  nb_quantiles    income  gdpppp country\n",
       "5800          XKX  2008         1           100  437.8937     NaN  Kosovo"
      ]
     },
     "execution_count": 48,
     "metadata": {},
     "output_type": "execute_result"
    }
   ],
   "source": [
    "df_dist_revenus_code[df_dist_revenus_code['country_code']=='XKX'].head(1)"
   ]
  },
  {
   "cell_type": "markdown",
   "metadata": {},
   "source": [
    "- XKE est le code alpha 3 du **Kosovo**"
   ]
  },
  {
   "cell_type": "markdown",
   "metadata": {},
   "source": [
    "### Implémentation des valeurs GDPPPP null avec les valeurs trouvées sur internet\n",
    "https://www.indexmundi.com/g/g.aspx?c=kv&v=65"
   ]
  },
  {
   "cell_type": "markdown",
   "metadata": {},
   "source": [
    "####  Pour la Palestine (West Bank and Gaza)"
   ]
  },
  {
   "cell_type": "code",
   "execution_count": 49,
   "metadata": {},
   "outputs": [
    {
     "data": {
      "text/html": [
       "<div>\n",
       "<style scoped>\n",
       "    .dataframe tbody tr th:only-of-type {\n",
       "        vertical-align: middle;\n",
       "    }\n",
       "\n",
       "    .dataframe tbody tr th {\n",
       "        vertical-align: top;\n",
       "    }\n",
       "\n",
       "    .dataframe thead th {\n",
       "        text-align: right;\n",
       "    }\n",
       "</style>\n",
       "<table border=\"1\" class=\"dataframe\">\n",
       "  <thead>\n",
       "    <tr style=\"text-align: right;\">\n",
       "      <th></th>\n",
       "      <th>country_code</th>\n",
       "      <th>year</th>\n",
       "      <th>quantile</th>\n",
       "      <th>nb_quantiles</th>\n",
       "      <th>income</th>\n",
       "      <th>gdpppp</th>\n",
       "      <th>country</th>\n",
       "    </tr>\n",
       "  </thead>\n",
       "  <tbody>\n",
       "    <tr>\n",
       "      <th>11199</th>\n",
       "      <td>PSE</td>\n",
       "      <td>2009</td>\n",
       "      <td>1</td>\n",
       "      <td>100</td>\n",
       "      <td>195.2899</td>\n",
       "      <td>NaN</td>\n",
       "      <td>West Bank and Gaza</td>\n",
       "    </tr>\n",
       "  </tbody>\n",
       "</table>\n",
       "</div>"
      ],
      "text/plain": [
       "      country_code  year  quantile  nb_quantiles    income  gdpppp  \\\n",
       "11199          PSE  2009         1           100  195.2899     NaN   \n",
       "\n",
       "                  country  \n",
       "11199  West Bank and Gaza  "
      ]
     },
     "execution_count": 49,
     "metadata": {},
     "output_type": "execute_result"
    }
   ],
   "source": [
    "df_dist_revenus_code[df_dist_revenus_code['country_code']=='PSE'].head(1)"
   ]
  },
  {
   "cell_type": "code",
   "execution_count": 50,
   "metadata": {},
   "outputs": [],
   "source": [
    "df_dist_revenus_code.loc[(df_dist_revenus_code['gdpppp'].isnull()) & (df_dist_revenus_code['country_code']=='PSE'),'gdpppp'] = 2900"
   ]
  },
  {
   "cell_type": "code",
   "execution_count": 51,
   "metadata": {
    "scrolled": true
   },
   "outputs": [
    {
     "data": {
      "text/html": [
       "<div>\n",
       "<style scoped>\n",
       "    .dataframe tbody tr th:only-of-type {\n",
       "        vertical-align: middle;\n",
       "    }\n",
       "\n",
       "    .dataframe tbody tr th {\n",
       "        vertical-align: top;\n",
       "    }\n",
       "\n",
       "    .dataframe thead th {\n",
       "        text-align: right;\n",
       "    }\n",
       "</style>\n",
       "<table border=\"1\" class=\"dataframe\">\n",
       "  <thead>\n",
       "    <tr style=\"text-align: right;\">\n",
       "      <th></th>\n",
       "      <th>country_code</th>\n",
       "      <th>year</th>\n",
       "      <th>quantile</th>\n",
       "      <th>nb_quantiles</th>\n",
       "      <th>income</th>\n",
       "      <th>gdpppp</th>\n",
       "      <th>country</th>\n",
       "    </tr>\n",
       "  </thead>\n",
       "  <tbody>\n",
       "    <tr>\n",
       "      <th>11199</th>\n",
       "      <td>PSE</td>\n",
       "      <td>2009</td>\n",
       "      <td>1</td>\n",
       "      <td>100</td>\n",
       "      <td>195.2899</td>\n",
       "      <td>2900.0</td>\n",
       "      <td>West Bank and Gaza</td>\n",
       "    </tr>\n",
       "  </tbody>\n",
       "</table>\n",
       "</div>"
      ],
      "text/plain": [
       "      country_code  year  quantile  nb_quantiles    income  gdpppp  \\\n",
       "11199          PSE  2009         1           100  195.2899  2900.0   \n",
       "\n",
       "                  country  \n",
       "11199  West Bank and Gaza  "
      ]
     },
     "execution_count": 51,
     "metadata": {},
     "output_type": "execute_result"
    }
   ],
   "source": [
    "df_dist_revenus_code[df_dist_revenus_code['country_code']=='PSE'].head(1)"
   ]
  },
  {
   "cell_type": "code",
   "execution_count": 52,
   "metadata": {
    "scrolled": true
   },
   "outputs": [
    {
     "data": {
      "text/plain": [
       "country_code      0\n",
       "year              0\n",
       "quantile          0\n",
       "nb_quantiles      0\n",
       "income            0\n",
       "gdpppp          100\n",
       "country           0\n",
       "dtype: int64"
      ]
     },
     "execution_count": 52,
     "metadata": {},
     "output_type": "execute_result"
    }
   ],
   "source": [
    "df_dist_revenus_code.isnull().sum(axis=0)"
   ]
  },
  {
   "cell_type": "markdown",
   "metadata": {},
   "source": [
    "#### Pour le Kosovo "
   ]
  },
  {
   "cell_type": "code",
   "execution_count": 53,
   "metadata": {
    "scrolled": true
   },
   "outputs": [
    {
     "data": {
      "text/html": [
       "<div>\n",
       "<style scoped>\n",
       "    .dataframe tbody tr th:only-of-type {\n",
       "        vertical-align: middle;\n",
       "    }\n",
       "\n",
       "    .dataframe tbody tr th {\n",
       "        vertical-align: top;\n",
       "    }\n",
       "\n",
       "    .dataframe thead th {\n",
       "        text-align: right;\n",
       "    }\n",
       "</style>\n",
       "<table border=\"1\" class=\"dataframe\">\n",
       "  <thead>\n",
       "    <tr style=\"text-align: right;\">\n",
       "      <th></th>\n",
       "      <th>country_code</th>\n",
       "      <th>year</th>\n",
       "      <th>quantile</th>\n",
       "      <th>nb_quantiles</th>\n",
       "      <th>income</th>\n",
       "      <th>gdpppp</th>\n",
       "      <th>country</th>\n",
       "    </tr>\n",
       "  </thead>\n",
       "  <tbody>\n",
       "    <tr>\n",
       "      <th>5800</th>\n",
       "      <td>XKX</td>\n",
       "      <td>2008</td>\n",
       "      <td>1</td>\n",
       "      <td>100</td>\n",
       "      <td>437.8937</td>\n",
       "      <td>NaN</td>\n",
       "      <td>Kosovo</td>\n",
       "    </tr>\n",
       "  </tbody>\n",
       "</table>\n",
       "</div>"
      ],
      "text/plain": [
       "     country_code  year  quantile  nb_quantiles    income  gdpppp country\n",
       "5800          XKX  2008         1           100  437.8937     NaN  Kosovo"
      ]
     },
     "execution_count": 53,
     "metadata": {},
     "output_type": "execute_result"
    }
   ],
   "source": [
    "df_dist_revenus_code[df_dist_revenus_code['country_code']=='XKX'].head(1)"
   ]
  },
  {
   "cell_type": "code",
   "execution_count": 54,
   "metadata": {},
   "outputs": [],
   "source": [
    "df_dist_revenus_code.loc[(df_dist_revenus_code['gdpppp'].isnull()) & (df_dist_revenus_code['country_code']=='XKX'),'gdpppp'] = 3800"
   ]
  },
  {
   "cell_type": "code",
   "execution_count": 55,
   "metadata": {},
   "outputs": [],
   "source": [
    "# df_dist_revenus_code['gdpppp'].fillna(3800, inplace=True)"
   ]
  },
  {
   "cell_type": "code",
   "execution_count": 56,
   "metadata": {
    "scrolled": true
   },
   "outputs": [
    {
     "data": {
      "text/html": [
       "<div>\n",
       "<style scoped>\n",
       "    .dataframe tbody tr th:only-of-type {\n",
       "        vertical-align: middle;\n",
       "    }\n",
       "\n",
       "    .dataframe tbody tr th {\n",
       "        vertical-align: top;\n",
       "    }\n",
       "\n",
       "    .dataframe thead th {\n",
       "        text-align: right;\n",
       "    }\n",
       "</style>\n",
       "<table border=\"1\" class=\"dataframe\">\n",
       "  <thead>\n",
       "    <tr style=\"text-align: right;\">\n",
       "      <th></th>\n",
       "      <th>country_code</th>\n",
       "      <th>year</th>\n",
       "      <th>quantile</th>\n",
       "      <th>nb_quantiles</th>\n",
       "      <th>income</th>\n",
       "      <th>gdpppp</th>\n",
       "      <th>country</th>\n",
       "    </tr>\n",
       "  </thead>\n",
       "  <tbody>\n",
       "    <tr>\n",
       "      <th>5800</th>\n",
       "      <td>XKX</td>\n",
       "      <td>2008</td>\n",
       "      <td>1</td>\n",
       "      <td>100</td>\n",
       "      <td>437.8937</td>\n",
       "      <td>3800.0</td>\n",
       "      <td>Kosovo</td>\n",
       "    </tr>\n",
       "  </tbody>\n",
       "</table>\n",
       "</div>"
      ],
      "text/plain": [
       "     country_code  year  quantile  nb_quantiles    income  gdpppp country\n",
       "5800          XKX  2008         1           100  437.8937  3800.0  Kosovo"
      ]
     },
     "execution_count": 56,
     "metadata": {},
     "output_type": "execute_result"
    }
   ],
   "source": [
    "df_dist_revenus_code[df_dist_revenus_code['country_code']=='XKX'].head(1)"
   ]
  },
  {
   "cell_type": "code",
   "execution_count": 57,
   "metadata": {
    "scrolled": true
   },
   "outputs": [
    {
     "data": {
      "text/plain": [
       "country_code    0\n",
       "year            0\n",
       "quantile        0\n",
       "nb_quantiles    0\n",
       "income          0\n",
       "gdpppp          0\n",
       "country         0\n",
       "dtype: int64"
      ]
     },
     "execution_count": 57,
     "metadata": {},
     "output_type": "execute_result"
    }
   ],
   "source": [
    "df_dist_revenus_code.isnull().sum(axis=0)"
   ]
  },
  {
   "cell_type": "markdown",
   "metadata": {},
   "source": [
    "#### Remarque : il n'y a plus de valeurs null"
   ]
  },
  {
   "cell_type": "markdown",
   "metadata": {},
   "source": [
    "### Nombre de pays présents pour l'analyse <a class=\"anchor\" id=\"nb_pays_analyse\"></a>"
   ]
  },
  {
   "cell_type": "code",
   "execution_count": 58,
   "metadata": {},
   "outputs": [
    {
     "name": "stdout",
     "output_type": "stream",
     "text": [
      "Il y a 116 pays pour l'analyse \n"
     ]
    }
   ],
   "source": [
    "print('Il y a {} pays pour l\\'analyse '.format(df_dist_revenus_code.country_code.nunique()))"
   ]
  },
  {
   "cell_type": "code",
   "execution_count": 59,
   "metadata": {
    "scrolled": true
   },
   "outputs": [
    {
     "data": {
      "text/plain": [
       "array(['Albania', 'Argentina', 'Armenia', 'Austria', 'Azerbaijan',\n",
       "       'Bangladesh', 'Belarus', 'Belgium', 'Bhutan', 'Bolivia',\n",
       "       'Bosnia and Herzegovina', 'Brazil', 'Bulgaria', 'Burkina Faso',\n",
       "       'Cambodia', 'Cameroon', 'Canada', 'Central African Republic',\n",
       "       'Chile', 'China', 'Colombia', 'Congo, Dem. Rep.', 'Costa Rica',\n",
       "       'Croatia', 'Cyprus', 'Czech Republic', \"Côte d'Ivoire\", 'Denmark',\n",
       "       'Dominican Republic', 'Ecuador', 'Egypt, Arab Rep.', 'El Salvador',\n",
       "       'Estonia', 'Eswatini', 'Fiji', 'Finland', 'France', 'Georgia',\n",
       "       'Germany', 'Ghana', 'Greece', 'Guatemala', 'Guinea', 'Honduras',\n",
       "       'Hungary', 'Iceland', 'India', 'Indonesia', 'Iran, Islamic Rep.',\n",
       "       'Iraq', 'Ireland', 'Israel', 'Italy', 'Japan', 'Jordan',\n",
       "       'Kazakhstan', 'Kenya', 'Korea, Rep.', 'Kosovo', 'Kyrgyz Republic',\n",
       "       'Lao PDR', 'Latvia', 'Liberia', 'Lithuania', 'Luxembourg',\n",
       "       'Madagascar', 'Malawi', 'Malaysia', 'Mali', 'Mauritania', 'Mexico',\n",
       "       'Moldova', 'Mongolia', 'Montenegro', 'Morocco', 'Mozambique',\n",
       "       'Nepal', 'Netherlands', 'Nicaragua', 'Niger', 'Nigeria',\n",
       "       'North Macedonia', 'Norway', 'Pakistan', 'Panama', 'Paraguay',\n",
       "       'Peru', 'Philippines', 'Poland', 'Portugal', 'Romania',\n",
       "       'Russian Federation', 'Serbia', 'Slovak Republic', 'Slovenia',\n",
       "       'South Africa', 'Spain', 'Sri Lanka', 'Sudan', 'Sweden',\n",
       "       'Syrian Arab Republic', 'Tajikistan', 'Tanzania', 'Taïwan',\n",
       "       'Thailand', 'Timor-Leste', 'Turkey', 'Uganda', 'Ukraine',\n",
       "       'United Kingdom', 'United States', 'Uruguay', 'Venezuela, RB',\n",
       "       'Vietnam', 'West Bank and Gaza', 'Yemen, Rep.'], dtype=object)"
      ]
     },
     "execution_count": 59,
     "metadata": {},
     "output_type": "execute_result"
    }
   ],
   "source": [
    "# Liste des pays par ordre alphabétique \n",
    "df_dist_revenus_code.country.sort_values(ascending=True).unique()"
   ]
  },
  {
   "cell_type": "markdown",
   "metadata": {},
   "source": [
    "#### Remarque : il y a 116 pays et 100 quantiles par pays. Il devrait donc y avoir 116000 données et non 115999. Il manque donc un centile... "
   ]
  },
  {
   "cell_type": "markdown",
   "metadata": {},
   "source": [
    "### Recherche du pays au centile manquant ... <a class=\"anchor\" id=\"recherche_centile\"></a>"
   ]
  },
  {
   "cell_type": "code",
   "execution_count": 60,
   "metadata": {
    "scrolled": false
   },
   "outputs": [
    {
     "data": {
      "text/html": [
       "<div>\n",
       "<style scoped>\n",
       "    .dataframe tbody tr th:only-of-type {\n",
       "        vertical-align: middle;\n",
       "    }\n",
       "\n",
       "    .dataframe tbody tr th {\n",
       "        vertical-align: top;\n",
       "    }\n",
       "\n",
       "    .dataframe thead th {\n",
       "        text-align: right;\n",
       "    }\n",
       "</style>\n",
       "<table border=\"1\" class=\"dataframe\">\n",
       "  <thead>\n",
       "    <tr style=\"text-align: right;\">\n",
       "      <th></th>\n",
       "      <th>country_code</th>\n",
       "      <th>year</th>\n",
       "      <th>quantile</th>\n",
       "      <th>nb_quantiles</th>\n",
       "      <th>income</th>\n",
       "      <th>gdpppp</th>\n",
       "      <th>country</th>\n",
       "    </tr>\n",
       "  </thead>\n",
       "  <tbody>\n",
       "    <tr>\n",
       "      <th>0</th>\n",
       "      <td>ALB</td>\n",
       "      <td>2008</td>\n",
       "      <td>1</td>\n",
       "      <td>100</td>\n",
       "      <td>728.89795</td>\n",
       "      <td>7297.0</td>\n",
       "      <td>Albania</td>\n",
       "    </tr>\n",
       "    <tr>\n",
       "      <th>1</th>\n",
       "      <td>ALB</td>\n",
       "      <td>2008</td>\n",
       "      <td>2</td>\n",
       "      <td>100</td>\n",
       "      <td>916.66235</td>\n",
       "      <td>7297.0</td>\n",
       "      <td>Albania</td>\n",
       "    </tr>\n",
       "  </tbody>\n",
       "</table>\n",
       "</div>"
      ],
      "text/plain": [
       "  country_code  year  quantile  nb_quantiles     income  gdpppp  country\n",
       "0          ALB  2008         1           100  728.89795  7297.0  Albania\n",
       "1          ALB  2008         2           100  916.66235  7297.0  Albania"
      ]
     },
     "execution_count": 60,
     "metadata": {},
     "output_type": "execute_result"
    }
   ],
   "source": [
    "df_dist_revenus_code.head(2)"
   ]
  },
  {
   "cell_type": "code",
   "execution_count": 61,
   "metadata": {},
   "outputs": [
    {
     "data": {
      "text/html": [
       "<div>\n",
       "<style scoped>\n",
       "    .dataframe tbody tr th:only-of-type {\n",
       "        vertical-align: middle;\n",
       "    }\n",
       "\n",
       "    .dataframe tbody tr th {\n",
       "        vertical-align: top;\n",
       "    }\n",
       "\n",
       "    .dataframe thead th {\n",
       "        text-align: right;\n",
       "    }\n",
       "</style>\n",
       "<table border=\"1\" class=\"dataframe\">\n",
       "  <thead>\n",
       "    <tr style=\"text-align: right;\">\n",
       "      <th></th>\n",
       "      <th>year</th>\n",
       "      <th>quantile</th>\n",
       "      <th>nb_quantiles</th>\n",
       "      <th>income</th>\n",
       "      <th>gdpppp</th>\n",
       "    </tr>\n",
       "  </thead>\n",
       "  <tbody>\n",
       "    <tr>\n",
       "      <th>count</th>\n",
       "      <td>11599.000000</td>\n",
       "      <td>11599.000000</td>\n",
       "      <td>11599.0</td>\n",
       "      <td>11599.000000</td>\n",
       "      <td>1.159900e+04</td>\n",
       "    </tr>\n",
       "    <tr>\n",
       "      <th>mean</th>\n",
       "      <td>2007.982757</td>\n",
       "      <td>50.500819</td>\n",
       "      <td>100.0</td>\n",
       "      <td>6069.224260</td>\n",
       "      <td>4.941308e+04</td>\n",
       "    </tr>\n",
       "    <tr>\n",
       "      <th>std</th>\n",
       "      <td>0.909633</td>\n",
       "      <td>28.868424</td>\n",
       "      <td>0.0</td>\n",
       "      <td>9414.185972</td>\n",
       "      <td>3.966512e+05</td>\n",
       "    </tr>\n",
       "    <tr>\n",
       "      <th>min</th>\n",
       "      <td>2004.000000</td>\n",
       "      <td>1.000000</td>\n",
       "      <td>100.0</td>\n",
       "      <td>16.719418</td>\n",
       "      <td>3.031931e+02</td>\n",
       "    </tr>\n",
       "    <tr>\n",
       "      <th>25%</th>\n",
       "      <td>2008.000000</td>\n",
       "      <td>25.500000</td>\n",
       "      <td>100.0</td>\n",
       "      <td>900.685515</td>\n",
       "      <td>2.577000e+03</td>\n",
       "    </tr>\n",
       "    <tr>\n",
       "      <th>50%</th>\n",
       "      <td>2008.000000</td>\n",
       "      <td>51.000000</td>\n",
       "      <td>100.0</td>\n",
       "      <td>2403.244900</td>\n",
       "      <td>7.505000e+03</td>\n",
       "    </tr>\n",
       "    <tr>\n",
       "      <th>75%</th>\n",
       "      <td>2008.000000</td>\n",
       "      <td>75.500000</td>\n",
       "      <td>100.0</td>\n",
       "      <td>7515.420900</td>\n",
       "      <td>1.838850e+04</td>\n",
       "    </tr>\n",
       "    <tr>\n",
       "      <th>max</th>\n",
       "      <td>2011.000000</td>\n",
       "      <td>100.000000</td>\n",
       "      <td>100.0</td>\n",
       "      <td>176928.550000</td>\n",
       "      <td>4.300332e+06</td>\n",
       "    </tr>\n",
       "  </tbody>\n",
       "</table>\n",
       "</div>"
      ],
      "text/plain": [
       "               year      quantile  nb_quantiles         income        gdpppp\n",
       "count  11599.000000  11599.000000       11599.0   11599.000000  1.159900e+04\n",
       "mean    2007.982757     50.500819         100.0    6069.224260  4.941308e+04\n",
       "std        0.909633     28.868424           0.0    9414.185972  3.966512e+05\n",
       "min     2004.000000      1.000000         100.0      16.719418  3.031931e+02\n",
       "25%     2008.000000     25.500000         100.0     900.685515  2.577000e+03\n",
       "50%     2008.000000     51.000000         100.0    2403.244900  7.505000e+03\n",
       "75%     2008.000000     75.500000         100.0    7515.420900  1.838850e+04\n",
       "max     2011.000000    100.000000         100.0  176928.550000  4.300332e+06"
      ]
     },
     "execution_count": 61,
     "metadata": {},
     "output_type": "execute_result"
    }
   ],
   "source": [
    "df_dist_revenus_code.describe()"
   ]
  },
  {
   "cell_type": "markdown",
   "metadata": {},
   "source": [
    "#### Chaque pays doit avoir 100 quantiles."
   ]
  },
  {
   "cell_type": "code",
   "execution_count": 62,
   "metadata": {
    "scrolled": true
   },
   "outputs": [
    {
     "data": {
      "text/html": [
       "<div>\n",
       "<style scoped>\n",
       "    .dataframe tbody tr th:only-of-type {\n",
       "        vertical-align: middle;\n",
       "    }\n",
       "\n",
       "    .dataframe tbody tr th {\n",
       "        vertical-align: top;\n",
       "    }\n",
       "\n",
       "    .dataframe thead th {\n",
       "        text-align: right;\n",
       "    }\n",
       "</style>\n",
       "<table border=\"1\" class=\"dataframe\">\n",
       "  <thead>\n",
       "    <tr style=\"text-align: right;\">\n",
       "      <th></th>\n",
       "      <th>year</th>\n",
       "      <th>quantile</th>\n",
       "      <th>nb_quantiles</th>\n",
       "      <th>income</th>\n",
       "      <th>gdpppp</th>\n",
       "      <th>country</th>\n",
       "    </tr>\n",
       "    <tr>\n",
       "      <th>country_code</th>\n",
       "      <th></th>\n",
       "      <th></th>\n",
       "      <th></th>\n",
       "      <th></th>\n",
       "      <th></th>\n",
       "      <th></th>\n",
       "    </tr>\n",
       "  </thead>\n",
       "  <tbody>\n",
       "    <tr>\n",
       "      <th>ALB</th>\n",
       "      <td>100</td>\n",
       "      <td>100</td>\n",
       "      <td>100</td>\n",
       "      <td>100</td>\n",
       "      <td>100</td>\n",
       "      <td>100</td>\n",
       "    </tr>\n",
       "    <tr>\n",
       "      <th>ARG</th>\n",
       "      <td>100</td>\n",
       "      <td>100</td>\n",
       "      <td>100</td>\n",
       "      <td>100</td>\n",
       "      <td>100</td>\n",
       "      <td>100</td>\n",
       "    </tr>\n",
       "  </tbody>\n",
       "</table>\n",
       "</div>"
      ],
      "text/plain": [
       "              year  quantile  nb_quantiles  income  gdpppp  country\n",
       "country_code                                                       \n",
       "ALB            100       100           100     100     100      100\n",
       "ARG            100       100           100     100     100      100"
      ]
     },
     "execution_count": 62,
     "metadata": {},
     "output_type": "execute_result"
    }
   ],
   "source": [
    "df_quantile = df_dist_revenus_code.groupby('country_code').count()\n",
    "df_quantile.head(2)"
   ]
  },
  {
   "cell_type": "code",
   "execution_count": 63,
   "metadata": {
    "scrolled": false
   },
   "outputs": [
    {
     "data": {
      "text/html": [
       "<div>\n",
       "<style scoped>\n",
       "    .dataframe tbody tr th:only-of-type {\n",
       "        vertical-align: middle;\n",
       "    }\n",
       "\n",
       "    .dataframe tbody tr th {\n",
       "        vertical-align: top;\n",
       "    }\n",
       "\n",
       "    .dataframe thead th {\n",
       "        text-align: right;\n",
       "    }\n",
       "</style>\n",
       "<table border=\"1\" class=\"dataframe\">\n",
       "  <thead>\n",
       "    <tr style=\"text-align: right;\">\n",
       "      <th></th>\n",
       "      <th>year</th>\n",
       "      <th>quantile</th>\n",
       "      <th>nb_quantiles</th>\n",
       "      <th>income</th>\n",
       "      <th>gdpppp</th>\n",
       "      <th>country</th>\n",
       "    </tr>\n",
       "    <tr>\n",
       "      <th>country_code</th>\n",
       "      <th></th>\n",
       "      <th></th>\n",
       "      <th></th>\n",
       "      <th></th>\n",
       "      <th></th>\n",
       "      <th></th>\n",
       "    </tr>\n",
       "  </thead>\n",
       "  <tbody>\n",
       "    <tr>\n",
       "      <th>LTU</th>\n",
       "      <td>99</td>\n",
       "      <td>99</td>\n",
       "      <td>99</td>\n",
       "      <td>99</td>\n",
       "      <td>99</td>\n",
       "      <td>99</td>\n",
       "    </tr>\n",
       "  </tbody>\n",
       "</table>\n",
       "</div>"
      ],
      "text/plain": [
       "              year  quantile  nb_quantiles  income  gdpppp  country\n",
       "country_code                                                       \n",
       "LTU             99        99            99      99      99       99"
      ]
     },
     "execution_count": 63,
     "metadata": {},
     "output_type": "execute_result"
    }
   ],
   "source": [
    "df_quantile[df_quantile['quantile'] != 100]"
   ]
  },
  {
   "cell_type": "markdown",
   "metadata": {},
   "source": [
    "#### Remarque : le pays dont il manque un quantile est la Lituanie "
   ]
  },
  {
   "cell_type": "code",
   "execution_count": 64,
   "metadata": {
    "scrolled": true
   },
   "outputs": [
    {
     "data": {
      "text/html": [
       "<div>\n",
       "<style scoped>\n",
       "    .dataframe tbody tr th:only-of-type {\n",
       "        vertical-align: middle;\n",
       "    }\n",
       "\n",
       "    .dataframe tbody tr th {\n",
       "        vertical-align: top;\n",
       "    }\n",
       "\n",
       "    .dataframe thead th {\n",
       "        text-align: right;\n",
       "    }\n",
       "</style>\n",
       "<table border=\"1\" class=\"dataframe\">\n",
       "  <thead>\n",
       "    <tr style=\"text-align: right;\">\n",
       "      <th></th>\n",
       "      <th>country_code</th>\n",
       "      <th>year</th>\n",
       "      <th>quantile</th>\n",
       "      <th>nb_quantiles</th>\n",
       "      <th>income</th>\n",
       "      <th>gdpppp</th>\n",
       "      <th>country</th>\n",
       "    </tr>\n",
       "  </thead>\n",
       "  <tbody>\n",
       "    <tr>\n",
       "      <th>6200</th>\n",
       "      <td>LTU</td>\n",
       "      <td>2008</td>\n",
       "      <td>1</td>\n",
       "      <td>100</td>\n",
       "      <td>566.3453</td>\n",
       "      <td>17571.0</td>\n",
       "      <td>Lithuania</td>\n",
       "    </tr>\n",
       "    <tr>\n",
       "      <th>6201</th>\n",
       "      <td>LTU</td>\n",
       "      <td>2008</td>\n",
       "      <td>2</td>\n",
       "      <td>100</td>\n",
       "      <td>1147.0587</td>\n",
       "      <td>17571.0</td>\n",
       "      <td>Lithuania</td>\n",
       "    </tr>\n",
       "  </tbody>\n",
       "</table>\n",
       "</div>"
      ],
      "text/plain": [
       "     country_code  year  quantile  nb_quantiles     income   gdpppp    country\n",
       "6200          LTU  2008         1           100   566.3453  17571.0  Lithuania\n",
       "6201          LTU  2008         2           100  1147.0587  17571.0  Lithuania"
      ]
     },
     "execution_count": 64,
     "metadata": {},
     "output_type": "execute_result"
    }
   ],
   "source": [
    "df_lituanie = df_dist_revenus_code[df_dist_revenus_code['country_code'] == 'LTU']\n",
    "df_lituanie.head(2)"
   ]
  },
  {
   "cell_type": "code",
   "execution_count": 65,
   "metadata": {},
   "outputs": [],
   "source": [
    "lituanie_quantile = df_lituanie['quantile'].values"
   ]
  },
  {
   "cell_type": "code",
   "execution_count": 66,
   "metadata": {
    "scrolled": true
   },
   "outputs": [
    {
     "name": "stdout",
     "output_type": "stream",
     "text": [
      "Le quantile manquant est le 41\n"
     ]
    }
   ],
   "source": [
    "for quantile_recherche in range(1, 101) : \n",
    "    if quantile_recherche not in lituanie_quantile :\n",
    "        print(f'Le quantile manquant est le {quantile_recherche}')\n",
    "        break"
   ]
  },
  {
   "cell_type": "markdown",
   "metadata": {},
   "source": [
    "### Implémentation du quantile manquant   <a class=\"anchor\" id=\"reg41\"></a>"
   ]
  },
  {
   "cell_type": "markdown",
   "metadata": {},
   "source": [
    "###  par régression linéaire"
   ]
  },
  {
   "cell_type": "code",
   "execution_count": 67,
   "metadata": {
    "scrolled": false
   },
   "outputs": [
    {
     "data": {
      "image/png": "[encoded data removed]",
      "text/plain": [
       "<Figure size 576x396 with 1 Axes>"
      ]
     },
     "metadata": {},
     "output_type": "display_data"
    }
   ],
   "source": [
    "sns.scatterplot(data=df_lituanie, x='quantile', y='income')\n",
    "plt.title(\"Distribution de l\\'income en fonction du quantile\", size=14)\n",
    "plt.savefig(\"Distribution de l\\'income en fonction du quantile.jpg\")\n",
    "# plt.show()"
   ]
  },
  {
   "cell_type": "markdown",
   "metadata": {},
   "source": [
    "On prend les centiles entre 20 et 60"
   ]
  },
  {
   "cell_type": "code",
   "execution_count": 68,
   "metadata": {},
   "outputs": [
    {
     "data": {
      "text/html": [
       "<div>\n",
       "<style scoped>\n",
       "    .dataframe tbody tr th:only-of-type {\n",
       "        vertical-align: middle;\n",
       "    }\n",
       "\n",
       "    .dataframe tbody tr th {\n",
       "        vertical-align: top;\n",
       "    }\n",
       "\n",
       "    .dataframe thead th {\n",
       "        text-align: right;\n",
       "    }\n",
       "</style>\n",
       "<table border=\"1\" class=\"dataframe\">\n",
       "  <thead>\n",
       "    <tr style=\"text-align: right;\">\n",
       "      <th></th>\n",
       "      <th>country_code</th>\n",
       "      <th>year</th>\n",
       "      <th>quantile</th>\n",
       "      <th>nb_quantiles</th>\n",
       "      <th>income</th>\n",
       "      <th>gdpppp</th>\n",
       "      <th>country</th>\n",
       "    </tr>\n",
       "  </thead>\n",
       "  <tbody>\n",
       "    <tr>\n",
       "      <th>6219</th>\n",
       "      <td>LTU</td>\n",
       "      <td>2008</td>\n",
       "      <td>20</td>\n",
       "      <td>100</td>\n",
       "      <td>3405.926</td>\n",
       "      <td>17571.0</td>\n",
       "      <td>Lithuania</td>\n",
       "    </tr>\n",
       "  </tbody>\n",
       "</table>\n",
       "</div>"
      ],
      "text/plain": [
       "     country_code  year  quantile  nb_quantiles    income   gdpppp    country\n",
       "6219          LTU  2008        20           100  3405.926  17571.0  Lithuania"
      ]
     },
     "execution_count": 68,
     "metadata": {},
     "output_type": "execute_result"
    }
   ],
   "source": [
    "df_implement_quantile = df_lituanie.loc[(df_lituanie['quantile'] >= 20) & (df_lituanie['quantile'] <= 60), :]\n",
    "df_implement_quantile.head(1)"
   ]
  },
  {
   "cell_type": "code",
   "execution_count": 69,
   "metadata": {},
   "outputs": [],
   "source": [
    "x = df_implement_quantile['quantile'].values.reshape((-1, 1))\n",
    "y = df_implement_quantile['income'].values"
   ]
  },
  {
   "cell_type": "code",
   "execution_count": 70,
   "metadata": {},
   "outputs": [
    {
     "data": {
      "text/plain": [
       "LinearRegression()"
      ]
     },
     "execution_count": 70,
     "metadata": {},
     "output_type": "execute_result"
    }
   ],
   "source": [
    "from sklearn.linear_model import LinearRegression\n",
    "#instancier modèle\n",
    "model_linReg = LinearRegression()\n",
    "#entrainement du modèle\n",
    "model_linReg.fit(x, y)"
   ]
  },
  {
   "cell_type": "code",
   "execution_count": 71,
   "metadata": {},
   "outputs": [
    {
     "name": "stdout",
     "output_type": "stream",
     "text": [
      "Précision du modèle : 99.29973155844326\n"
     ]
    }
   ],
   "source": [
    "#précision du modèle\n",
    "precision = model_linReg.score(x, y)\n",
    "print('Précision du modèle : {}'.format(precision*100))"
   ]
  },
  {
   "cell_type": "code",
   "execution_count": 72,
   "metadata": {},
   "outputs": [],
   "source": [
    "#  prédiction de l'income pour le centile 41\n",
    "# X = np.array([41]).reshape((-1, 1))\n",
    "# model_linReg.predict(X)"
   ]
  },
  {
   "cell_type": "code",
   "execution_count": 73,
   "metadata": {},
   "outputs": [
    {
     "name": "stdout",
     "output_type": "stream",
     "text": [
      "La valeur de \"income\" pour le centile 41 de Lituanie est : [4892.11300702]\n"
     ]
    }
   ],
   "source": [
    "#  prédiction de l'income pour le centile 41\n",
    "quantile_concerne = 41\n",
    "prediction = model_linReg.predict([[quantile_concerne]])\n",
    "print('La valeur de \"income\" pour le centile 41 de Lituanie est : {}'.format(prediction))"
   ]
  },
  {
   "cell_type": "code",
   "execution_count": 74,
   "metadata": {
    "scrolled": true
   },
   "outputs": [
    {
     "data": {
      "image/png": "[encoded data removed]",
      "text/plain": [
       "<Figure size 576x396 with 1 Axes>"
      ]
     },
     "metadata": {},
     "output_type": "display_data"
    }
   ],
   "source": [
    "sns.regplot(data=df_implement_quantile, x='quantile', y='income', label=True)\n",
    "plt.axhline(y = 4892.1130, color =\"green\", linestyle =\"--\", xmax =0.515, linewidth=0.7)\n",
    "plt.axvline(x = 41, color =\"green\", linestyle =\"--\", ymax =0.515, linewidth=0.7)\n",
    "plt.title('Détermination de la valeur \"income\" pour le centile 41 \\n de la Lituanie par régression linéaire\\n', size=14)\n",
    "plt.savefig(\"Détermination de la valeur income pour le centile 41 de la Lituanie par régression linéaire.jpg\")\n",
    "plt.show()"
   ]
  },
  {
   "cell_type": "markdown",
   "metadata": {},
   "source": [
    "### par interpolation"
   ]
  },
  {
   "cell_type": "code",
   "execution_count": 75,
   "metadata": {
    "scrolled": false
   },
   "outputs": [
    {
     "data": {
      "text/plain": [
       "array(4882.14065)"
      ]
     },
     "execution_count": 75,
     "metadata": {},
     "output_type": "execute_result"
    }
   ],
   "source": [
    "# Implementation par interpolation\n",
    "x = df_implement_quantile['quantile'].values\n",
    "y = df_implement_quantile['income'].values\n",
    "f = interpolate.interp1d(x, y)\n",
    "y = f(41)\n",
    "y"
   ]
  },
  {
   "cell_type": "markdown",
   "metadata": {},
   "source": [
    "### par calcul de l'écart moyenne"
   ]
  },
  {
   "cell_type": "code",
   "execution_count": 76,
   "metadata": {
    "scrolled": true
   },
   "outputs": [
    {
     "data": {
      "text/plain": [
       "array([4882.14065])"
      ]
     },
     "execution_count": 76,
     "metadata": {},
     "output_type": "execute_result"
    }
   ],
   "source": [
    "# Implementation par calcul écart moyenne entre quantile 42 et 40\n",
    "(df_lituanie.loc[df_lituanie['quantile'] == 42, 'income']\n",
    " .values + df_lituanie.loc[df_lituanie['quantile'] == 40, 'income'].values) / 2"
   ]
  },
  {
   "cell_type": "code",
   "execution_count": 77,
   "metadata": {},
   "outputs": [
    {
     "data": {
      "text/html": [
       "<div>\n",
       "<style scoped>\n",
       "    .dataframe tbody tr th:only-of-type {\n",
       "        vertical-align: middle;\n",
       "    }\n",
       "\n",
       "    .dataframe tbody tr th {\n",
       "        vertical-align: top;\n",
       "    }\n",
       "\n",
       "    .dataframe thead th {\n",
       "        text-align: right;\n",
       "    }\n",
       "</style>\n",
       "<table border=\"1\" class=\"dataframe\">\n",
       "  <thead>\n",
       "    <tr style=\"text-align: right;\">\n",
       "      <th></th>\n",
       "      <th>country_code</th>\n",
       "      <th>year</th>\n",
       "      <th>quantile</th>\n",
       "      <th>nb_quantiles</th>\n",
       "      <th>income</th>\n",
       "      <th>gdpppp</th>\n",
       "      <th>country</th>\n",
       "    </tr>\n",
       "  </thead>\n",
       "  <tbody>\n",
       "    <tr>\n",
       "      <th>0</th>\n",
       "      <td>ALB</td>\n",
       "      <td>2008</td>\n",
       "      <td>1</td>\n",
       "      <td>100</td>\n",
       "      <td>728.89795</td>\n",
       "      <td>7297.00000</td>\n",
       "      <td>Albania</td>\n",
       "    </tr>\n",
       "    <tr>\n",
       "      <th>1</th>\n",
       "      <td>ALB</td>\n",
       "      <td>2008</td>\n",
       "      <td>2</td>\n",
       "      <td>100</td>\n",
       "      <td>916.66235</td>\n",
       "      <td>7297.00000</td>\n",
       "      <td>Albania</td>\n",
       "    </tr>\n",
       "    <tr>\n",
       "      <th>2</th>\n",
       "      <td>ALB</td>\n",
       "      <td>2008</td>\n",
       "      <td>3</td>\n",
       "      <td>100</td>\n",
       "      <td>1010.91600</td>\n",
       "      <td>7297.00000</td>\n",
       "      <td>Albania</td>\n",
       "    </tr>\n",
       "    <tr>\n",
       "      <th>3</th>\n",
       "      <td>ALB</td>\n",
       "      <td>2008</td>\n",
       "      <td>4</td>\n",
       "      <td>100</td>\n",
       "      <td>1086.90780</td>\n",
       "      <td>7297.00000</td>\n",
       "      <td>Albania</td>\n",
       "    </tr>\n",
       "    <tr>\n",
       "      <th>4</th>\n",
       "      <td>ALB</td>\n",
       "      <td>2008</td>\n",
       "      <td>5</td>\n",
       "      <td>100</td>\n",
       "      <td>1132.69970</td>\n",
       "      <td>7297.00000</td>\n",
       "      <td>Albania</td>\n",
       "    </tr>\n",
       "    <tr>\n",
       "      <th>...</th>\n",
       "      <td>...</td>\n",
       "      <td>...</td>\n",
       "      <td>...</td>\n",
       "      <td>...</td>\n",
       "      <td>...</td>\n",
       "      <td>...</td>\n",
       "      <td>...</td>\n",
       "    </tr>\n",
       "    <tr>\n",
       "      <th>11594</th>\n",
       "      <td>COD</td>\n",
       "      <td>2008</td>\n",
       "      <td>96</td>\n",
       "      <td>100</td>\n",
       "      <td>810.62330</td>\n",
       "      <td>303.19305</td>\n",
       "      <td>Congo, Dem. Rep.</td>\n",
       "    </tr>\n",
       "    <tr>\n",
       "      <th>11595</th>\n",
       "      <td>COD</td>\n",
       "      <td>2008</td>\n",
       "      <td>97</td>\n",
       "      <td>100</td>\n",
       "      <td>911.78340</td>\n",
       "      <td>303.19305</td>\n",
       "      <td>Congo, Dem. Rep.</td>\n",
       "    </tr>\n",
       "    <tr>\n",
       "      <th>11596</th>\n",
       "      <td>COD</td>\n",
       "      <td>2008</td>\n",
       "      <td>98</td>\n",
       "      <td>100</td>\n",
       "      <td>1057.80740</td>\n",
       "      <td>303.19305</td>\n",
       "      <td>Congo, Dem. Rep.</td>\n",
       "    </tr>\n",
       "    <tr>\n",
       "      <th>11597</th>\n",
       "      <td>COD</td>\n",
       "      <td>2008</td>\n",
       "      <td>99</td>\n",
       "      <td>100</td>\n",
       "      <td>1286.60290</td>\n",
       "      <td>303.19305</td>\n",
       "      <td>Congo, Dem. Rep.</td>\n",
       "    </tr>\n",
       "    <tr>\n",
       "      <th>11598</th>\n",
       "      <td>COD</td>\n",
       "      <td>2008</td>\n",
       "      <td>100</td>\n",
       "      <td>100</td>\n",
       "      <td>2243.12260</td>\n",
       "      <td>303.19305</td>\n",
       "      <td>Congo, Dem. Rep.</td>\n",
       "    </tr>\n",
       "  </tbody>\n",
       "</table>\n",
       "<p>11599 rows × 7 columns</p>\n",
       "</div>"
      ],
      "text/plain": [
       "      country_code  year  quantile  nb_quantiles      income      gdpppp  \\\n",
       "0              ALB  2008         1           100   728.89795  7297.00000   \n",
       "1              ALB  2008         2           100   916.66235  7297.00000   \n",
       "2              ALB  2008         3           100  1010.91600  7297.00000   \n",
       "3              ALB  2008         4           100  1086.90780  7297.00000   \n",
       "4              ALB  2008         5           100  1132.69970  7297.00000   \n",
       "...            ...   ...       ...           ...         ...         ...   \n",
       "11594          COD  2008        96           100   810.62330   303.19305   \n",
       "11595          COD  2008        97           100   911.78340   303.19305   \n",
       "11596          COD  2008        98           100  1057.80740   303.19305   \n",
       "11597          COD  2008        99           100  1286.60290   303.19305   \n",
       "11598          COD  2008       100           100  2243.12260   303.19305   \n",
       "\n",
       "                country  \n",
       "0               Albania  \n",
       "1               Albania  \n",
       "2               Albania  \n",
       "3               Albania  \n",
       "4               Albania  \n",
       "...                 ...  \n",
       "11594  Congo, Dem. Rep.  \n",
       "11595  Congo, Dem. Rep.  \n",
       "11596  Congo, Dem. Rep.  \n",
       "11597  Congo, Dem. Rep.  \n",
       "11598  Congo, Dem. Rep.  \n",
       "\n",
       "[11599 rows x 7 columns]"
      ]
     },
     "execution_count": 77,
     "metadata": {},
     "output_type": "execute_result"
    }
   ],
   "source": [
    "df_dist_revenus_code"
   ]
  },
  {
   "cell_type": "markdown",
   "metadata": {},
   "source": [
    "#### Introduction des données relatives au centile 41 dans le dataframe"
   ]
  },
  {
   "cell_type": "code",
   "execution_count": 78,
   "metadata": {},
   "outputs": [],
   "source": [
    "df_dist_revenus_code = df_dist_revenus_code.append({'country_code' : 'LTU' , 'year' : 2008, 'quantile' : 41,\n",
    "                               'nb_quantiles' : 100, 'income' : 4882.1406, 'gdpppp': 17571.0, 'country' : 'Lithuania'} , ignore_index=True)"
   ]
  },
  {
   "cell_type": "code",
   "execution_count": 79,
   "metadata": {
    "scrolled": false
   },
   "outputs": [
    {
     "data": {
      "text/html": [
       "<div>\n",
       "<style scoped>\n",
       "    .dataframe tbody tr th:only-of-type {\n",
       "        vertical-align: middle;\n",
       "    }\n",
       "\n",
       "    .dataframe tbody tr th {\n",
       "        vertical-align: top;\n",
       "    }\n",
       "\n",
       "    .dataframe thead th {\n",
       "        text-align: right;\n",
       "    }\n",
       "</style>\n",
       "<table border=\"1\" class=\"dataframe\">\n",
       "  <thead>\n",
       "    <tr style=\"text-align: right;\">\n",
       "      <th></th>\n",
       "      <th>year</th>\n",
       "      <th>quantile</th>\n",
       "      <th>nb_quantiles</th>\n",
       "      <th>income</th>\n",
       "      <th>gdpppp</th>\n",
       "    </tr>\n",
       "  </thead>\n",
       "  <tbody>\n",
       "    <tr>\n",
       "      <th>count</th>\n",
       "      <td>11600.000000</td>\n",
       "      <td>11600.000000</td>\n",
       "      <td>11600.0</td>\n",
       "      <td>11600.000000</td>\n",
       "      <td>1.160000e+04</td>\n",
       "    </tr>\n",
       "    <tr>\n",
       "      <th>mean</th>\n",
       "      <td>2007.982759</td>\n",
       "      <td>50.500000</td>\n",
       "      <td>100.0</td>\n",
       "      <td>6069.121925</td>\n",
       "      <td>4.941034e+04</td>\n",
       "    </tr>\n",
       "    <tr>\n",
       "      <th>std</th>\n",
       "      <td>0.909593</td>\n",
       "      <td>28.867314</td>\n",
       "      <td>0.0</td>\n",
       "      <td>9413.786596</td>\n",
       "      <td>3.966342e+05</td>\n",
       "    </tr>\n",
       "    <tr>\n",
       "      <th>min</th>\n",
       "      <td>2004.000000</td>\n",
       "      <td>1.000000</td>\n",
       "      <td>100.0</td>\n",
       "      <td>16.719418</td>\n",
       "      <td>3.031931e+02</td>\n",
       "    </tr>\n",
       "    <tr>\n",
       "      <th>25%</th>\n",
       "      <td>2008.000000</td>\n",
       "      <td>25.750000</td>\n",
       "      <td>100.0</td>\n",
       "      <td>900.768508</td>\n",
       "      <td>2.577500e+03</td>\n",
       "    </tr>\n",
       "    <tr>\n",
       "      <th>50%</th>\n",
       "      <td>2008.000000</td>\n",
       "      <td>50.500000</td>\n",
       "      <td>100.0</td>\n",
       "      <td>2403.492950</td>\n",
       "      <td>7.532500e+03</td>\n",
       "    </tr>\n",
       "    <tr>\n",
       "      <th>75%</th>\n",
       "      <td>2008.000000</td>\n",
       "      <td>75.250000</td>\n",
       "      <td>100.0</td>\n",
       "      <td>7515.313700</td>\n",
       "      <td>1.819625e+04</td>\n",
       "    </tr>\n",
       "    <tr>\n",
       "      <th>max</th>\n",
       "      <td>2011.000000</td>\n",
       "      <td>100.000000</td>\n",
       "      <td>100.0</td>\n",
       "      <td>176928.550000</td>\n",
       "      <td>4.300332e+06</td>\n",
       "    </tr>\n",
       "  </tbody>\n",
       "</table>\n",
       "</div>"
      ],
      "text/plain": [
       "               year      quantile  nb_quantiles         income        gdpppp\n",
       "count  11600.000000  11600.000000       11600.0   11600.000000  1.160000e+04\n",
       "mean    2007.982759     50.500000         100.0    6069.121925  4.941034e+04\n",
       "std        0.909593     28.867314           0.0    9413.786596  3.966342e+05\n",
       "min     2004.000000      1.000000         100.0      16.719418  3.031931e+02\n",
       "25%     2008.000000     25.750000         100.0     900.768508  2.577500e+03\n",
       "50%     2008.000000     50.500000         100.0    2403.492950  7.532500e+03\n",
       "75%     2008.000000     75.250000         100.0    7515.313700  1.819625e+04\n",
       "max     2011.000000    100.000000         100.0  176928.550000  4.300332e+06"
      ]
     },
     "execution_count": 79,
     "metadata": {},
     "output_type": "execute_result"
    }
   ],
   "source": [
    "df_dist_revenus_code.describe()"
   ]
  },
  {
   "cell_type": "code",
   "execution_count": 80,
   "metadata": {
    "scrolled": true
   },
   "outputs": [
    {
     "data": {
      "text/plain": [
       "country_code    0\n",
       "year            0\n",
       "quantile        0\n",
       "nb_quantiles    0\n",
       "income          0\n",
       "gdpppp          0\n",
       "country         0\n",
       "dtype: int64"
      ]
     },
     "execution_count": 80,
     "metadata": {},
     "output_type": "execute_result"
    }
   ],
   "source": [
    "df_dist_revenus_code.isnull().sum()"
   ]
  },
  {
   "cell_type": "markdown",
   "metadata": {},
   "source": [
    "#### Il n'y a plus de valeurs manquantes"
   ]
  },
  {
   "cell_type": "markdown",
   "metadata": {},
   "source": [
    "### Création d'un dataframe avec nombre d'habitants du pays (\"df_revenus_pop\") \n",
    "<a class=\"anchor\" id=\"df_revenus_pop\"></a>\n",
    "### Importation et lecture des données population  \n",
    "(https://data.worldbank.org/indicator/SP.POP.TOTL)\n",
    "#### Les données portant essentiellemnt sur les distributions de revenus de 2008, les données concernant le nombre d'habitants portent sur cette même année."
   ]
  },
  {
   "cell_type": "code",
   "execution_count": 81,
   "metadata": {},
   "outputs": [
    {
     "data": {
      "text/html": [
       "<div>\n",
       "<style scoped>\n",
       "    .dataframe tbody tr th:only-of-type {\n",
       "        vertical-align: middle;\n",
       "    }\n",
       "\n",
       "    .dataframe tbody tr th {\n",
       "        vertical-align: top;\n",
       "    }\n",
       "\n",
       "    .dataframe thead th {\n",
       "        text-align: right;\n",
       "    }\n",
       "</style>\n",
       "<table border=\"1\" class=\"dataframe\">\n",
       "  <thead>\n",
       "    <tr style=\"text-align: right;\">\n",
       "      <th></th>\n",
       "      <th>Country Code</th>\n",
       "      <th>2008</th>\n",
       "    </tr>\n",
       "  </thead>\n",
       "  <tbody>\n",
       "    <tr>\n",
       "      <th>0</th>\n",
       "      <td>ABW</td>\n",
       "      <td>101362.0</td>\n",
       "    </tr>\n",
       "    <tr>\n",
       "      <th>1</th>\n",
       "      <td>AFE</td>\n",
       "      <td>491173160.0</td>\n",
       "    </tr>\n",
       "    <tr>\n",
       "      <th>2</th>\n",
       "      <td>AFG</td>\n",
       "      <td>27722281.0</td>\n",
       "    </tr>\n",
       "    <tr>\n",
       "      <th>3</th>\n",
       "      <td>AFW</td>\n",
       "      <td>331772330.0</td>\n",
       "    </tr>\n",
       "    <tr>\n",
       "      <th>4</th>\n",
       "      <td>AGO</td>\n",
       "      <td>21695636.0</td>\n",
       "    </tr>\n",
       "  </tbody>\n",
       "</table>\n",
       "</div>"
      ],
      "text/plain": [
       "  Country Code         2008\n",
       "0          ABW     101362.0\n",
       "1          AFE  491173160.0\n",
       "2          AFG   27722281.0\n",
       "3          AFW  331772330.0\n",
       "4          AGO   21695636.0"
      ]
     },
     "execution_count": 81,
     "metadata": {},
     "output_type": "execute_result"
    }
   ],
   "source": [
    "cols = ['Country Code', '2008']\n",
    "df_pop = pd.read_csv('WORLD_BANK_pop.csv', encoding=ENCODAGE, sep=',', skiprows=4, usecols=cols).copy()\n",
    "# pop_index = pop.set_index('Country Code')\n",
    "# pop_index\n",
    "df_pop.head(5)"
   ]
  },
  {
   "cell_type": "code",
   "execution_count": 82,
   "metadata": {
    "scrolled": true
   },
   "outputs": [
    {
     "data": {
      "text/plain": [
       "Index(['Country Code', '2008'], dtype='object')"
      ]
     },
     "execution_count": 82,
     "metadata": {},
     "output_type": "execute_result"
    }
   ],
   "source": [
    "df_pop.columns"
   ]
  },
  {
   "cell_type": "markdown",
   "metadata": {},
   "source": [
    "### Renommage des colonnes en vue d'une future fusion"
   ]
  },
  {
   "cell_type": "code",
   "execution_count": 83,
   "metadata": {
    "scrolled": true
   },
   "outputs": [
    {
     "data": {
      "text/html": [
       "<div>\n",
       "<style scoped>\n",
       "    .dataframe tbody tr th:only-of-type {\n",
       "        vertical-align: middle;\n",
       "    }\n",
       "\n",
       "    .dataframe tbody tr th {\n",
       "        vertical-align: top;\n",
       "    }\n",
       "\n",
       "    .dataframe thead th {\n",
       "        text-align: right;\n",
       "    }\n",
       "</style>\n",
       "<table border=\"1\" class=\"dataframe\">\n",
       "  <thead>\n",
       "    <tr style=\"text-align: right;\">\n",
       "      <th></th>\n",
       "      <th>country_code</th>\n",
       "      <th>nb_habitants_2008</th>\n",
       "    </tr>\n",
       "  </thead>\n",
       "  <tbody>\n",
       "    <tr>\n",
       "      <th>0</th>\n",
       "      <td>ABW</td>\n",
       "      <td>101362.0</td>\n",
       "    </tr>\n",
       "    <tr>\n",
       "      <th>1</th>\n",
       "      <td>AFE</td>\n",
       "      <td>491173160.0</td>\n",
       "    </tr>\n",
       "    <tr>\n",
       "      <th>2</th>\n",
       "      <td>AFG</td>\n",
       "      <td>27722281.0</td>\n",
       "    </tr>\n",
       "    <tr>\n",
       "      <th>3</th>\n",
       "      <td>AFW</td>\n",
       "      <td>331772330.0</td>\n",
       "    </tr>\n",
       "    <tr>\n",
       "      <th>4</th>\n",
       "      <td>AGO</td>\n",
       "      <td>21695636.0</td>\n",
       "    </tr>\n",
       "  </tbody>\n",
       "</table>\n",
       "</div>"
      ],
      "text/plain": [
       "  country_code  nb_habitants_2008\n",
       "0          ABW           101362.0\n",
       "1          AFE        491173160.0\n",
       "2          AFG         27722281.0\n",
       "3          AFW        331772330.0\n",
       "4          AGO         21695636.0"
      ]
     },
     "execution_count": 83,
     "metadata": {},
     "output_type": "execute_result"
    }
   ],
   "source": [
    "df_pop.columns = ['country_code', 'nb_habitants_2008']\n",
    "df_pop.head(5)"
   ]
  },
  {
   "cell_type": "code",
   "execution_count": 84,
   "metadata": {
    "scrolled": true
   },
   "outputs": [
    {
     "data": {
      "text/plain": [
       "(266, 2)"
      ]
     },
     "execution_count": 84,
     "metadata": {},
     "output_type": "execute_result"
    }
   ],
   "source": [
    "df_pop.shape"
   ]
  },
  {
   "cell_type": "code",
   "execution_count": 85,
   "metadata": {
    "scrolled": true
   },
   "outputs": [
    {
     "data": {
      "text/plain": [
       "country_code         266\n",
       "nb_habitants_2008    263\n",
       "dtype: int64"
      ]
     },
     "execution_count": 85,
     "metadata": {},
     "output_type": "execute_result"
    }
   ],
   "source": [
    "df_pop.nunique()"
   ]
  },
  {
   "cell_type": "markdown",
   "metadata": {},
   "source": [
    "#### Remarque : tous les pays n'ont pas le nombre d'habitants renseigné"
   ]
  },
  {
   "cell_type": "code",
   "execution_count": 86,
   "metadata": {},
   "outputs": [
    {
     "name": "stdout",
     "output_type": "stream",
     "text": [
      "<class 'pandas.core.frame.DataFrame'>\n",
      "RangeIndex: 266 entries, 0 to 265\n",
      "Data columns (total 2 columns):\n",
      " #   Column             Non-Null Count  Dtype  \n",
      "---  ------             --------------  -----  \n",
      " 0   country_code       266 non-null    object \n",
      " 1   nb_habitants_2008  265 non-null    float64\n",
      "dtypes: float64(1), object(1)\n",
      "memory usage: 4.3+ KB\n"
     ]
    }
   ],
   "source": [
    "df_pop.info()"
   ]
  },
  {
   "cell_type": "code",
   "execution_count": 87,
   "metadata": {
    "scrolled": false
   },
   "outputs": [
    {
     "data": {
      "text/html": [
       "<div>\n",
       "<style scoped>\n",
       "    .dataframe tbody tr th:only-of-type {\n",
       "        vertical-align: middle;\n",
       "    }\n",
       "\n",
       "    .dataframe tbody tr th {\n",
       "        vertical-align: top;\n",
       "    }\n",
       "\n",
       "    .dataframe thead th {\n",
       "        text-align: right;\n",
       "    }\n",
       "</style>\n",
       "<table border=\"1\" class=\"dataframe\">\n",
       "  <thead>\n",
       "    <tr style=\"text-align: right;\">\n",
       "      <th></th>\n",
       "      <th>country_code</th>\n",
       "      <th>nb_habitants_2008</th>\n",
       "    </tr>\n",
       "  </thead>\n",
       "  <tbody>\n",
       "    <tr>\n",
       "      <th>count</th>\n",
       "      <td>266</td>\n",
       "      <td>2.650000e+02</td>\n",
       "    </tr>\n",
       "    <tr>\n",
       "      <th>unique</th>\n",
       "      <td>266</td>\n",
       "      <td>NaN</td>\n",
       "    </tr>\n",
       "    <tr>\n",
       "      <th>top</th>\n",
       "      <td>UZB</td>\n",
       "      <td>NaN</td>\n",
       "    </tr>\n",
       "    <tr>\n",
       "      <th>freq</th>\n",
       "      <td>1</td>\n",
       "      <td>NaN</td>\n",
       "    </tr>\n",
       "    <tr>\n",
       "      <th>mean</th>\n",
       "      <td>NaN</td>\n",
       "      <td>2.721130e+08</td>\n",
       "    </tr>\n",
       "    <tr>\n",
       "      <th>std</th>\n",
       "      <td>NaN</td>\n",
       "      <td>8.590467e+08</td>\n",
       "    </tr>\n",
       "    <tr>\n",
       "      <th>min</th>\n",
       "      <td>NaN</td>\n",
       "      <td>9.880000e+03</td>\n",
       "    </tr>\n",
       "    <tr>\n",
       "      <th>25%</th>\n",
       "      <td>NaN</td>\n",
       "      <td>1.436670e+06</td>\n",
       "    </tr>\n",
       "    <tr>\n",
       "      <th>50%</th>\n",
       "      <td>NaN</td>\n",
       "      <td>9.219637e+06</td>\n",
       "    </tr>\n",
       "    <tr>\n",
       "      <th>75%</th>\n",
       "      <td>NaN</td>\n",
       "      <td>5.882673e+07</td>\n",
       "    </tr>\n",
       "    <tr>\n",
       "      <th>max</th>\n",
       "      <td>NaN</td>\n",
       "      <td>6.757021e+09</td>\n",
       "    </tr>\n",
       "  </tbody>\n",
       "</table>\n",
       "</div>"
      ],
      "text/plain": [
       "       country_code  nb_habitants_2008\n",
       "count           266       2.650000e+02\n",
       "unique          266                NaN\n",
       "top             UZB                NaN\n",
       "freq              1                NaN\n",
       "mean            NaN       2.721130e+08\n",
       "std             NaN       8.590467e+08\n",
       "min             NaN       9.880000e+03\n",
       "25%             NaN       1.436670e+06\n",
       "50%             NaN       9.219637e+06\n",
       "75%             NaN       5.882673e+07\n",
       "max             NaN       6.757021e+09"
      ]
     },
     "execution_count": 87,
     "metadata": {},
     "output_type": "execute_result"
    }
   ],
   "source": [
    "df_pop.describe(include='all')"
   ]
  },
  {
   "cell_type": "markdown",
   "metadata": {},
   "source": [
    "#### Attention : le dataset comprend la valeur de la population mondiale en 2008 ('WLD'). Ce n'est pas les données d'un pays."
   ]
  },
  {
   "cell_type": "code",
   "execution_count": 88,
   "metadata": {},
   "outputs": [
    {
     "data": {
      "text/html": [
       "<div>\n",
       "<style scoped>\n",
       "    .dataframe tbody tr th:only-of-type {\n",
       "        vertical-align: middle;\n",
       "    }\n",
       "\n",
       "    .dataframe tbody tr th {\n",
       "        vertical-align: top;\n",
       "    }\n",
       "\n",
       "    .dataframe thead th {\n",
       "        text-align: right;\n",
       "    }\n",
       "</style>\n",
       "<table border=\"1\" class=\"dataframe\">\n",
       "  <thead>\n",
       "    <tr style=\"text-align: right;\">\n",
       "      <th></th>\n",
       "      <th>country_code</th>\n",
       "      <th>nb_habitants_2008</th>\n",
       "    </tr>\n",
       "  </thead>\n",
       "  <tbody>\n",
       "    <tr>\n",
       "      <th>259</th>\n",
       "      <td>WLD</td>\n",
       "      <td>6.757021e+09</td>\n",
       "    </tr>\n",
       "  </tbody>\n",
       "</table>\n",
       "</div>"
      ],
      "text/plain": [
       "    country_code  nb_habitants_2008\n",
       "259          WLD       6.757021e+09"
      ]
     },
     "execution_count": 88,
     "metadata": {},
     "output_type": "execute_result"
    }
   ],
   "source": [
    "df_pop[df_pop.country_code == 'WLD']"
   ]
  },
  {
   "cell_type": "code",
   "execution_count": 89,
   "metadata": {},
   "outputs": [
    {
     "data": {
      "text/plain": [
       "country_code         0\n",
       "nb_habitants_2008    1\n",
       "dtype: int64"
      ]
     },
     "execution_count": 89,
     "metadata": {},
     "output_type": "execute_result"
    }
   ],
   "source": [
    "#  recherche de valeur null => 1 pour \"nb_habitants_2008\"\n",
    "df_pop.isnull().sum(axis=0)"
   ]
  },
  {
   "cell_type": "code",
   "execution_count": 90,
   "metadata": {
    "scrolled": true
   },
   "outputs": [
    {
     "data": {
      "text/html": [
       "<div>\n",
       "<style scoped>\n",
       "    .dataframe tbody tr th:only-of-type {\n",
       "        vertical-align: middle;\n",
       "    }\n",
       "\n",
       "    .dataframe tbody tr th {\n",
       "        vertical-align: top;\n",
       "    }\n",
       "\n",
       "    .dataframe thead th {\n",
       "        text-align: right;\n",
       "    }\n",
       "</style>\n",
       "<table border=\"1\" class=\"dataframe\">\n",
       "  <thead>\n",
       "    <tr style=\"text-align: right;\">\n",
       "      <th></th>\n",
       "      <th>country_code</th>\n",
       "      <th>nb_habitants_2008</th>\n",
       "    </tr>\n",
       "  </thead>\n",
       "  <tbody>\n",
       "    <tr>\n",
       "      <th>110</th>\n",
       "      <td>INX</td>\n",
       "      <td>NaN</td>\n",
       "    </tr>\n",
       "  </tbody>\n",
       "</table>\n",
       "</div>"
      ],
      "text/plain": [
       "    country_code  nb_habitants_2008\n",
       "110          INX                NaN"
      ]
     },
     "execution_count": 90,
     "metadata": {},
     "output_type": "execute_result"
    }
   ],
   "source": [
    "# Valeur null => INX\n",
    "df_pop[df_pop.nb_habitants_2008.isnull()]"
   ]
  },
  {
   "cell_type": "markdown",
   "metadata": {},
   "source": [
    "#### Remarque : INX n'est pas référencé dans la liste des codes alpha 3. Suppression de cette donnée"
   ]
  },
  {
   "cell_type": "code",
   "execution_count": 91,
   "metadata": {},
   "outputs": [],
   "source": [
    "#  Suppression des données de \"INX\"\n",
    "df_pop = df_pop.dropna(axis=0)"
   ]
  },
  {
   "cell_type": "code",
   "execution_count": 92,
   "metadata": {},
   "outputs": [
    {
     "data": {
      "text/plain": [
       "country_code         0\n",
       "nb_habitants_2008    0\n",
       "dtype: int64"
      ]
     },
     "execution_count": 92,
     "metadata": {},
     "output_type": "execute_result"
    }
   ],
   "source": [
    "# Valeur null => aucune valeur null\n",
    "df_pop.isnull().sum(axis=0)"
   ]
  },
  {
   "cell_type": "code",
   "execution_count": 93,
   "metadata": {
    "scrolled": true
   },
   "outputs": [
    {
     "data": {
      "text/plain": [
       "0"
      ]
     },
     "execution_count": 93,
     "metadata": {},
     "output_type": "execute_result"
    }
   ],
   "source": [
    "# Valuer dupliquée => aucune valeur dupliquée\n",
    "df_pop.duplicated().sum(axis=0)"
   ]
  },
  {
   "cell_type": "markdown",
   "metadata": {},
   "source": [
    "### Fusion des dataframes \"df_dist_revenus_code\" et \" pop\" => \"df_revenus_pop\""
   ]
  },
  {
   "cell_type": "code",
   "execution_count": 94,
   "metadata": {
    "scrolled": true
   },
   "outputs": [
    {
     "data": {
      "text/html": [
       "<div>\n",
       "<style scoped>\n",
       "    .dataframe tbody tr th:only-of-type {\n",
       "        vertical-align: middle;\n",
       "    }\n",
       "\n",
       "    .dataframe tbody tr th {\n",
       "        vertical-align: top;\n",
       "    }\n",
       "\n",
       "    .dataframe thead th {\n",
       "        text-align: right;\n",
       "    }\n",
       "</style>\n",
       "<table border=\"1\" class=\"dataframe\">\n",
       "  <thead>\n",
       "    <tr style=\"text-align: right;\">\n",
       "      <th></th>\n",
       "      <th>country_code</th>\n",
       "      <th>nb_habitants_2008</th>\n",
       "      <th>year</th>\n",
       "      <th>quantile</th>\n",
       "      <th>nb_quantiles</th>\n",
       "      <th>income</th>\n",
       "      <th>gdpppp</th>\n",
       "      <th>country</th>\n",
       "    </tr>\n",
       "  </thead>\n",
       "  <tbody>\n",
       "    <tr>\n",
       "      <th>0</th>\n",
       "      <td>ALB</td>\n",
       "      <td>2947314.0</td>\n",
       "      <td>2008</td>\n",
       "      <td>1</td>\n",
       "      <td>100</td>\n",
       "      <td>728.89795</td>\n",
       "      <td>7297.0</td>\n",
       "      <td>Albania</td>\n",
       "    </tr>\n",
       "    <tr>\n",
       "      <th>1</th>\n",
       "      <td>ALB</td>\n",
       "      <td>2947314.0</td>\n",
       "      <td>2008</td>\n",
       "      <td>2</td>\n",
       "      <td>100</td>\n",
       "      <td>916.66235</td>\n",
       "      <td>7297.0</td>\n",
       "      <td>Albania</td>\n",
       "    </tr>\n",
       "  </tbody>\n",
       "</table>\n",
       "</div>"
      ],
      "text/plain": [
       "  country_code  nb_habitants_2008  year  quantile  nb_quantiles     income  \\\n",
       "0          ALB          2947314.0  2008         1           100  728.89795   \n",
       "1          ALB          2947314.0  2008         2           100  916.66235   \n",
       "\n",
       "   gdpppp  country  \n",
       "0  7297.0  Albania  \n",
       "1  7297.0  Albania  "
      ]
     },
     "execution_count": 94,
     "metadata": {},
     "output_type": "execute_result"
    }
   ],
   "source": [
    "# jointure droite pour récupérer toutes les données de \"df_dist_revenus_code\"\n",
    "df_revenus_pop = pd.merge(df_pop, df_dist_revenus_code, on= 'country_code', how='right')\n",
    "df_revenus_pop.head(2)"
   ]
  },
  {
   "cell_type": "code",
   "execution_count": 95,
   "metadata": {},
   "outputs": [
    {
     "data": {
      "text/plain": [
       "(11600, 8)"
      ]
     },
     "execution_count": 95,
     "metadata": {},
     "output_type": "execute_result"
    }
   ],
   "source": [
    "df_revenus_pop.shape"
   ]
  },
  {
   "cell_type": "code",
   "execution_count": 96,
   "metadata": {
    "scrolled": false
   },
   "outputs": [
    {
     "data": {
      "text/plain": [
       "country_code           0\n",
       "nb_habitants_2008    100\n",
       "year                   0\n",
       "quantile               0\n",
       "nb_quantiles           0\n",
       "income                 0\n",
       "gdpppp                 0\n",
       "country                0\n",
       "dtype: int64"
      ]
     },
     "execution_count": 96,
     "metadata": {},
     "output_type": "execute_result"
    }
   ],
   "source": [
    "# valeur null\n",
    "df_revenus_pop.isnull().sum(axis=0)"
   ]
  },
  {
   "cell_type": "code",
   "execution_count": 97,
   "metadata": {
    "scrolled": true
   },
   "outputs": [
    {
     "data": {
      "text/html": [
       "<div>\n",
       "<style scoped>\n",
       "    .dataframe tbody tr th:only-of-type {\n",
       "        vertical-align: middle;\n",
       "    }\n",
       "\n",
       "    .dataframe tbody tr th {\n",
       "        vertical-align: top;\n",
       "    }\n",
       "\n",
       "    .dataframe thead th {\n",
       "        text-align: right;\n",
       "    }\n",
       "</style>\n",
       "<table border=\"1\" class=\"dataframe\">\n",
       "  <thead>\n",
       "    <tr style=\"text-align: right;\">\n",
       "      <th></th>\n",
       "      <th>country_code</th>\n",
       "      <th>nb_habitants_2008</th>\n",
       "      <th>year</th>\n",
       "      <th>quantile</th>\n",
       "      <th>nb_quantiles</th>\n",
       "      <th>income</th>\n",
       "      <th>gdpppp</th>\n",
       "      <th>country</th>\n",
       "    </tr>\n",
       "  </thead>\n",
       "  <tbody>\n",
       "    <tr>\n",
       "      <th>10400</th>\n",
       "      <td>TWN</td>\n",
       "      <td>NaN</td>\n",
       "      <td>2008</td>\n",
       "      <td>1</td>\n",
       "      <td>100</td>\n",
       "      <td>3477.1800</td>\n",
       "      <td>25342.0</td>\n",
       "      <td>Taïwan</td>\n",
       "    </tr>\n",
       "    <tr>\n",
       "      <th>10401</th>\n",
       "      <td>TWN</td>\n",
       "      <td>NaN</td>\n",
       "      <td>2008</td>\n",
       "      <td>2</td>\n",
       "      <td>100</td>\n",
       "      <td>4740.2637</td>\n",
       "      <td>25342.0</td>\n",
       "      <td>Taïwan</td>\n",
       "    </tr>\n",
       "  </tbody>\n",
       "</table>\n",
       "</div>"
      ],
      "text/plain": [
       "      country_code  nb_habitants_2008  year  quantile  nb_quantiles  \\\n",
       "10400          TWN                NaN  2008         1           100   \n",
       "10401          TWN                NaN  2008         2           100   \n",
       "\n",
       "          income   gdpppp country  \n",
       "10400  3477.1800  25342.0  Taïwan  \n",
       "10401  4740.2637  25342.0  Taïwan  "
      ]
     },
     "execution_count": 97,
     "metadata": {},
     "output_type": "execute_result"
    }
   ],
   "source": [
    "df_revenus_pop[df_revenus_pop.nb_habitants_2008.isnull()].head(2)"
   ]
  },
  {
   "cell_type": "markdown",
   "metadata": {},
   "source": [
    "#### Le nombre d'habitants pour la Taïwan n'est pas indiqué dans le dataset importé. \n",
    "-  Ajout \"manuel\" du  nombre d'habitants de Taïwan dans le dataset \"df_revenus_pop\"\n",
    "-  Compte tenu de la faible part des habitants de Taïwan par rapport aux habitants chinois, je décide de ne pas soustraire le nombre de Taïwannais aux chinois même s'il y a doublon."
   ]
  },
  {
   "cell_type": "code",
   "execution_count": 98,
   "metadata": {},
   "outputs": [],
   "source": [
    "df_revenus_pop['nb_habitants_2008'].fillna(23037000.0, inplace=True)"
   ]
  },
  {
   "cell_type": "code",
   "execution_count": 99,
   "metadata": {
    "scrolled": false
   },
   "outputs": [
    {
     "data": {
      "text/html": [
       "<div>\n",
       "<style scoped>\n",
       "    .dataframe tbody tr th:only-of-type {\n",
       "        vertical-align: middle;\n",
       "    }\n",
       "\n",
       "    .dataframe tbody tr th {\n",
       "        vertical-align: top;\n",
       "    }\n",
       "\n",
       "    .dataframe thead th {\n",
       "        text-align: right;\n",
       "    }\n",
       "</style>\n",
       "<table border=\"1\" class=\"dataframe\">\n",
       "  <thead>\n",
       "    <tr style=\"text-align: right;\">\n",
       "      <th></th>\n",
       "      <th>country_code</th>\n",
       "      <th>nb_habitants_2008</th>\n",
       "      <th>year</th>\n",
       "      <th>quantile</th>\n",
       "      <th>nb_quantiles</th>\n",
       "      <th>income</th>\n",
       "      <th>gdpppp</th>\n",
       "      <th>country</th>\n",
       "    </tr>\n",
       "  </thead>\n",
       "  <tbody>\n",
       "    <tr>\n",
       "      <th>10400</th>\n",
       "      <td>TWN</td>\n",
       "      <td>23037000.0</td>\n",
       "      <td>2008</td>\n",
       "      <td>1</td>\n",
       "      <td>100</td>\n",
       "      <td>3477.1800</td>\n",
       "      <td>25342.0</td>\n",
       "      <td>Taïwan</td>\n",
       "    </tr>\n",
       "    <tr>\n",
       "      <th>10401</th>\n",
       "      <td>TWN</td>\n",
       "      <td>23037000.0</td>\n",
       "      <td>2008</td>\n",
       "      <td>2</td>\n",
       "      <td>100</td>\n",
       "      <td>4740.2637</td>\n",
       "      <td>25342.0</td>\n",
       "      <td>Taïwan</td>\n",
       "    </tr>\n",
       "  </tbody>\n",
       "</table>\n",
       "</div>"
      ],
      "text/plain": [
       "      country_code  nb_habitants_2008  year  quantile  nb_quantiles  \\\n",
       "10400          TWN         23037000.0  2008         1           100   \n",
       "10401          TWN         23037000.0  2008         2           100   \n",
       "\n",
       "          income   gdpppp country  \n",
       "10400  3477.1800  25342.0  Taïwan  \n",
       "10401  4740.2637  25342.0  Taïwan  "
      ]
     },
     "execution_count": 99,
     "metadata": {},
     "output_type": "execute_result"
    }
   ],
   "source": [
    "df_revenus_pop[df_revenus_pop['country_code'] == 'TWN'].head(2)"
   ]
  },
  {
   "cell_type": "code",
   "execution_count": 100,
   "metadata": {
    "scrolled": true
   },
   "outputs": [
    {
     "data": {
      "image/png": "[encoded data removed]",
      "text/plain": [
       "<Figure size 576x396 with 2 Axes>"
      ]
     },
     "metadata": {},
     "output_type": "display_data"
    }
   ],
   "source": [
    "# Corrélation entre les différentes variables\n",
    "df_revenus_popNoquant = df_revenus_pop.drop(['nb_quantiles'], axis=1)\n",
    "sns.heatmap(df_revenus_popNoquant.corr(), annot=True, fmt=\".2f\")\n",
    "plt.show()"
   ]
  },
  {
   "cell_type": "markdown",
   "metadata": {},
   "source": [
    "### Pourcentage de population couverte par l'analyse (en termes de pourcentage de la population mondiale)\n",
    "<a class=\"anchor\" id=\"nb_hab_analyse\"></a>"
   ]
  },
  {
   "cell_type": "code",
   "execution_count": 101,
   "metadata": {},
   "outputs": [
    {
     "name": "stdout",
     "output_type": "stream",
     "text": [
      "La population mondiale en 2008 s'élève à : 6757020825.0 habitants \n"
     ]
    }
   ],
   "source": [
    "pop_totale = df_pop[df_pop.country_code == 'WLD'].nb_habitants_2008.values[0]\n",
    "print('La population mondiale en 2008 s\\'élève à : {} habitants '.format(pop_totale))"
   ]
  },
  {
   "cell_type": "code",
   "execution_count": 102,
   "metadata": {},
   "outputs": [
    {
     "data": {
      "text/plain": [
       "country_code\n",
       "ALB     2947314.0\n",
       "ARG    40080159.0\n",
       "ARM     2907615.0\n",
       "AUT     8321496.0\n",
       "AZE     8763400.0\n",
       "          ...    \n",
       "VEN    27635827.0\n",
       "VNM    86243424.0\n",
       "XKX     1747383.0\n",
       "YEM    21892149.0\n",
       "ZAF    49779472.0\n",
       "Name: nb_habitants_2008, Length: 116, dtype: float64"
      ]
     },
     "execution_count": 102,
     "metadata": {},
     "output_type": "execute_result"
    }
   ],
   "source": [
    "nb_habitants_pays = df_revenus_pop.groupby('country_code')['nb_habitants_2008'].mean()\n",
    "nb_habitants_pays"
   ]
  },
  {
   "cell_type": "code",
   "execution_count": 103,
   "metadata": {},
   "outputs": [
    {
     "name": "stdout",
     "output_type": "stream",
     "text": [
      "Le nombre d'habitants compris dans l'analyse est de 6203882355.0\n"
     ]
    }
   ],
   "source": [
    "habitant_analyse = np.sum(nb_habitants_pays)\n",
    "print('Le nombre d\\'habitants compris dans l\\'analyse est de {}'.format(habitant_analyse))"
   ]
  },
  {
   "cell_type": "code",
   "execution_count": 104,
   "metadata": {},
   "outputs": [
    {
     "name": "stdout",
     "output_type": "stream",
     "text": [
      "Le pourcentage de population couverte par l'analyse \n",
      "(en termes de pourcentage de la population mondiale) est de 92 %\n"
     ]
    }
   ],
   "source": [
    "print('Le pourcentage de population couverte par l\\'analyse \\n(en termes de pourcentage de la population mondiale) est de {} %'.\n",
    "      format(round((habitant_analyse / pop_totale) * 100), 2))"
   ]
  },
  {
   "cell_type": "markdown",
   "metadata": {},
   "source": [
    "### Les données de la World Income Distribution présentent pour chaque pays les quantiles de la distribution des revenus de leur population respective <a class=\"anchor\" id=\"mission_1_questions\"></a>\n",
    "\n",
    "- de quel type de quantiles s'agit-il (quartiles, déciles, etc.) ?\n",
    "- échantillonner une population en utilisant des quantiles est-il selon vous une bonne méthode ? Pourquoi ?\n"
   ]
  },
  {
   "cell_type": "code",
   "execution_count": 105,
   "metadata": {},
   "outputs": [
    {
     "data": {
      "text/html": [
       "<div>\n",
       "<style scoped>\n",
       "    .dataframe tbody tr th:only-of-type {\n",
       "        vertical-align: middle;\n",
       "    }\n",
       "\n",
       "    .dataframe tbody tr th {\n",
       "        vertical-align: top;\n",
       "    }\n",
       "\n",
       "    .dataframe thead th {\n",
       "        text-align: right;\n",
       "    }\n",
       "</style>\n",
       "<table border=\"1\" class=\"dataframe\">\n",
       "  <thead>\n",
       "    <tr style=\"text-align: right;\">\n",
       "      <th></th>\n",
       "      <th>country_code</th>\n",
       "      <th>nb_habitants_2008</th>\n",
       "      <th>year</th>\n",
       "      <th>quantile</th>\n",
       "      <th>nb_quantiles</th>\n",
       "      <th>income</th>\n",
       "      <th>gdpppp</th>\n",
       "      <th>country</th>\n",
       "    </tr>\n",
       "  </thead>\n",
       "  <tbody>\n",
       "    <tr>\n",
       "      <th>10449</th>\n",
       "      <td>TWN</td>\n",
       "      <td>23037000.0</td>\n",
       "      <td>2008</td>\n",
       "      <td>50</td>\n",
       "      <td>100</td>\n",
       "      <td>13398.69</td>\n",
       "      <td>25342.0</td>\n",
       "      <td>Taïwan</td>\n",
       "    </tr>\n",
       "  </tbody>\n",
       "</table>\n",
       "</div>"
      ],
      "text/plain": [
       "      country_code  nb_habitants_2008  year  quantile  nb_quantiles    income  \\\n",
       "10449          TWN         23037000.0  2008        50           100  13398.69   \n",
       "\n",
       "        gdpppp country  \n",
       "10449  25342.0  Taïwan  "
      ]
     },
     "execution_count": 105,
     "metadata": {},
     "output_type": "execute_result"
    }
   ],
   "source": [
    "df_revenus_pop.loc[(df_revenus_pop['quantile'] == 50) & (df_revenus_pop['country_code']=='TWN')]                  "
   ]
  },
  {
   "cell_type": "markdown",
   "metadata": {},
   "source": [
    "#### Il s'agit de centile (percentile) moyen. tranche de 1% => 100 tranches => 99 séparations\n",
    "- par ex TWN en 2008 : 1% de la pop la plus pauvre avait en moyenne 3477.18 dollars de revenus annuel\n",
    "- C50 = médiane : le revenu médian de la pop de TWN en 2008 est de 13398.69 ou 50% de la pop de Taïwan ont plus de  13398.69 en revenu et 50% de la pop de Taïwan ont moins de 13398.69 en revenu\n",
    "- rapport intercentile : C1/C99 rend compte des inégalités : \n",
    "    - plus il est élevé plus les inégalités dans un pays sont importantes \n",
    "    - plus il se rapproche de 1 et moins les inégalités dans un pays sont importantes\n",
    "        - ex: rapport = 2 : les 1% les plus riches ont un revenu au moins 2 fois plus élevé que les 1% les plus pauvres\n",
    "- d1 = c10, d9 = c90. c1 et c99 s’utilisent pour avoir des renseignements sur les valeurs\n",
    "extrêmes de séries statistiques longues"
   ]
  },
  {
   "cell_type": "markdown",
   "metadata": {},
   "source": [
    "#### Il est pertinent d'échantillonner la population en utilisant les centiles. Ainsi, on obtient des \"paquets\" de population de 100 plus pratique pour un dataset de grande taille."
   ]
  },
  {
   "cell_type": "code",
   "execution_count": 106,
   "metadata": {},
   "outputs": [
    {
     "data": {
      "text/plain": [
       "(11600, 8)"
      ]
     },
     "execution_count": 106,
     "metadata": {},
     "output_type": "execute_result"
    }
   ],
   "source": [
    "df_revenus_pop.shape\n"
   ]
  },
  {
   "cell_type": "markdown",
   "metadata": {},
   "source": [
    "### Export en csv des différents dataframes nettoyés <a class=\"anchor\" id=\"export_df_csv\"></a>"
   ]
  },
  {
   "cell_type": "code",
   "execution_count": 107,
   "metadata": {},
   "outputs": [],
   "source": [
    "# Export du dataframe 'customers_clean' en csv\n",
    "df_revenus_pop.to_csv(\"revenus_pays_code_pop.csv\", index = False, encoding='UTF-8')"
   ]
  },
  {
   "cell_type": "code",
   "execution_count": 108,
   "metadata": {},
   "outputs": [],
   "source": [
    "df_dist_revenus_code.to_csv(\"revenus_pays.csv\", index = False, encoding='UTF-8')"
   ]
  },
  {
   "cell_type": "markdown",
   "metadata": {},
   "source": [
    "### Juste pour voir ... <a class=\"anchor\" id=\"juste_voir\"></a>\n",
    "- https://community.plotly.com/t/adding-best-fit-line-linear-regression-line-in-a-scatter-plot/6069\n",
    "- https://www.it-swarm-fr.com/fr/python/afficher-lequation-de-regression-dans-le-regplot-ne-en-mer/1056619165/\n",
    "- https://stackoverflow.com/questions/33336343/recover-data-from-matplotlib-scatter-plot"
   ]
  },
  {
   "cell_type": "code",
   "execution_count": 109,
   "metadata": {
    "scrolled": true
   },
   "outputs": [
    {
     "data": {
      "image/png": "[encoded data removed]",
      "text/plain": [
       "<Figure size 360x360 with 1 Axes>"
      ]
     },
     "metadata": {},
     "output_type": "display_data"
    }
   ],
   "source": [
    "# https://www.it-swarm-fr.com/fr/python/afficher-lequation-de-regression-dans-le-regplot-ne-en-mer/1056619165/\n",
    "# https://stackoverflow.com/questions/33336343/recover-data-from-matplotlib-scatter-plot\n",
    "f =plt.figure(figsize=(5,5))\n",
    "ax = f.add_subplot(1,1,1)\n",
    "p = sns.regplot(data=df_implement_quantile, x='quantile', y='income', label=True,ax=ax)"
   ]
  },
  {
   "cell_type": "code",
   "execution_count": 110,
   "metadata": {},
   "outputs": [
    {
     "data": {
      "text/plain": [
       "array([3478.20232663, 3505.40599532, 3532.60966402, 3559.81333271,\n",
       "       3587.01700141, 3614.2206701 , 3641.42433879, 3668.62800749,\n",
       "       3695.83167618, 3723.03534488, 3750.23901357, 3777.44268227,\n",
       "       3804.64635096, 3831.85001965, 3859.05368835, 3886.25735704,\n",
       "       3913.46102574, 3940.66469443, 3967.86836313, 3995.07203182,\n",
       "       4022.27570052, 4049.47936921, 4076.6830379 , 4103.8867066 ,\n",
       "       4131.09037529, 4158.29404399, 4185.49771268, 4212.70138138,\n",
       "       4239.90505007, 4267.10871877, 4294.31238746, 4321.51605615,\n",
       "       4348.71972485, 4375.92339354, 4403.12706224, 4430.33073093,\n",
       "       4457.53439963, 4484.73806832, 4511.94173701, 4539.14540571,\n",
       "       4566.3490744 , 4593.5527431 , 4620.75641179, 4647.96008049,\n",
       "       4675.16374918, 4702.36741788, 4729.57108657, 4756.77475526,\n",
       "       4783.97842396, 4811.18209265, 4838.38576135, 4865.58943004,\n",
       "       4892.79309874, 4919.99676743, 4947.20043613, 4974.40410482,\n",
       "       5001.60777351, 5028.81144221, 5056.0151109 , 5083.2187796 ,\n",
       "       5110.42244829, 5137.62611699, 5164.82978568, 5192.03345437,\n",
       "       5219.23712307, 5246.44079176, 5273.64446046, 5300.84812915,\n",
       "       5328.05179785, 5355.25546654, 5382.45913524, 5409.66280393,\n",
       "       5436.86647262, 5464.07014132, 5491.27381001, 5518.47747871,\n",
       "       5545.6811474 , 5572.8848161 , 5600.08848479, 5627.29215349,\n",
       "       5654.49582218, 5681.69949087, 5708.90315957, 5736.10682826,\n",
       "       5763.31049696, 5790.51416565, 5817.71783435, 5844.92150304,\n",
       "       5872.12517173, 5899.32884043, 5926.53250912, 5953.73617782,\n",
       "       5980.93984651, 6008.14351521, 6035.3471839 , 6062.5508526 ,\n",
       "       6089.75452129, 6116.95818998, 6144.16185868, 6171.36552737])"
      ]
     },
     "execution_count": 110,
     "metadata": {},
     "output_type": "execute_result"
    }
   ],
   "source": [
    "# données de la régression linéaire\n",
    "# ax1.get_lines() gives the line that is plotted and lg1.get_lines() gives the actual lines drawn in the legend box\n",
    "p.get_lines()[0].get_xdata()\n",
    "p.get_lines()[0].get_ydata()"
   ]
  },
  {
   "cell_type": "code",
   "execution_count": 111,
   "metadata": {
    "scrolled": false
   },
   "outputs": [
    {
     "data": {
      "text/plain": [
       "[Path(array([[  20.        , 3513.28246861],\n",
       "        [  20.        , 3450.161646  ],\n",
       "        [  20.4040404 , 3477.8353221 ],\n",
       "        [  20.80808081, 3505.35488856],\n",
       "        [  21.21212121, 3533.07825235],\n",
       "        [  21.61616162, 3560.66256413],\n",
       "        [  22.02020202, 3588.1046743 ],\n",
       "        [  22.42424242, 3615.77606102],\n",
       "        [  22.82828283, 3642.93161499],\n",
       "        [  23.23232323, 3670.00904602],\n",
       "        [  23.63636364, 3697.11210521],\n",
       "        [  24.04040404, 3724.85276688],\n",
       "        [  24.44444444, 3752.59720387],\n",
       "        [  24.84848485, 3780.34333091],\n",
       "        [  25.25252525, 3808.08945794],\n",
       "        [  25.65656566, 3835.75579343],\n",
       "        [  26.06060606, 3863.41488252],\n",
       "        [  26.46464646, 3890.91446002],\n",
       "        [  26.86868687, 3918.61125647],\n",
       "        [  27.27272727, 3946.22886951],\n",
       "        [  27.67676768, 3973.64633891],\n",
       "        [  28.08080808, 4001.12121102],\n",
       "        [  28.48484848, 4028.45712098],\n",
       "        [  28.88888889, 4056.19635105],\n",
       "        [  29.29292929, 4083.77258196],\n",
       "        [  29.6969697 , 4111.01438986],\n",
       "        [  30.1010101 , 4138.10876198],\n",
       "        [  30.50505051, 4165.42222052],\n",
       "        [  30.90909091, 4192.7202817 ],\n",
       "        [  31.31313131, 4219.96496245],\n",
       "        [  31.71717172, 4247.41981738],\n",
       "        [  32.12121212, 4274.72961359],\n",
       "        [  32.52525253, 4302.2450144 ],\n",
       "        [  32.92929293, 4329.76460553],\n",
       "        [  33.33333333, 4357.29152443],\n",
       "        [  33.73737374, 4384.80353749],\n",
       "        [  34.14141414, 4412.07892994],\n",
       "        [  34.54545455, 4439.06094825],\n",
       "        [  34.94949495, 4466.16670491],\n",
       "        [  35.35353535, 4493.03127841],\n",
       "        [  35.75757576, 4519.8734682 ],\n",
       "        [  36.16161616, 4546.60894793],\n",
       "        [  36.56565657, 4573.22833368],\n",
       "        [  36.96969697, 4599.98807513],\n",
       "        [  37.37373737, 4626.83164236],\n",
       "        [  37.77777778, 4653.52754236],\n",
       "        [  38.18181818, 4680.29035671],\n",
       "        [  38.58585859, 4707.08309834],\n",
       "        [  38.98989899, 4733.82664102],\n",
       "        [  39.39393939, 4760.7220582 ],\n",
       "        [  39.7979798 , 4787.35940678],\n",
       "        [  40.2020202 , 4814.11878351],\n",
       "        [  40.60606061, 4841.02253709],\n",
       "        [  41.01010101, 4867.21387279],\n",
       "        [  41.41414141, 4893.85756372],\n",
       "        [  41.81818182, 4920.53419581],\n",
       "        [  42.22222222, 4947.21598044],\n",
       "        [  42.62626263, 4973.60079347],\n",
       "        [  43.03030303, 5000.24949575],\n",
       "        [  43.43434343, 5026.99751153],\n",
       "        [  43.83838384, 5053.05775388],\n",
       "        [  44.24242424, 5079.37212852],\n",
       "        [  44.64646465, 5105.50650622],\n",
       "        [  45.05050505, 5132.00496378],\n",
       "        [  45.45454545, 5158.61146176],\n",
       "        [  45.85858586, 5184.93956058],\n",
       "        [  46.26262626, 5211.30179637],\n",
       "        [  46.66666667, 5237.63358623],\n",
       "        [  47.07070707, 5263.81620166],\n",
       "        [  47.47474747, 5290.20619294],\n",
       "        [  47.87878788, 5316.3177036 ],\n",
       "        [  48.28282828, 5342.95917429],\n",
       "        [  48.68686869, 5369.37249164],\n",
       "        [  49.09090909, 5395.56487383],\n",
       "        [  49.49494949, 5421.72738223],\n",
       "        [  49.8989899 , 5447.8962304 ],\n",
       "        [  50.3030303 , 5474.15489329],\n",
       "        [  50.70707071, 5500.50682331],\n",
       "        [  51.11111111, 5526.85875334],\n",
       "        [  51.51515152, 5553.21068337],\n",
       "        [  51.91919192, 5579.5626134 ],\n",
       "        [  52.32323232, 5605.91454343],\n",
       "        [  52.72727273, 5632.26647345],\n",
       "        [  53.13131313, 5658.61840348],\n",
       "        [  53.53535354, 5684.97033351],\n",
       "        [  53.93939394, 5711.32226354],\n",
       "        [  54.34343434, 5737.67671037],\n",
       "        [  54.74747475, 5764.04040812],\n",
       "        [  55.15151515, 5790.40410588],\n",
       "        [  55.55555556, 5816.76780363],\n",
       "        [  55.95959596, 5843.13150138],\n",
       "        [  56.36363636, 5869.49519914],\n",
       "        [  56.76767677, 5895.85889689],\n",
       "        [  57.17171717, 5922.22691969],\n",
       "        [  57.57575758, 5948.57818135],\n",
       "        [  57.97979798, 5974.93426349],\n",
       "        [  58.38383838, 6001.29034564],\n",
       "        [  58.78787879, 6027.64642779],\n",
       "        [  59.19191919, 6054.00250993],\n",
       "        [  59.5959596 , 6080.35859208],\n",
       "        [  60.        , 6106.71467422],\n",
       "        [  60.        , 6210.96821152],\n",
       "        [  60.        , 6210.96821152],\n",
       "        [  59.5959596 , 6183.18482588],\n",
       "        [  59.19191919, 6155.38117258],\n",
       "        [  58.78787879, 6127.75260361],\n",
       "        [  58.38383838, 6100.0922162 ],\n",
       "        [  57.97979798, 6072.37554549],\n",
       "        [  57.57575758, 6044.65887479],\n",
       "        [  57.17171717, 6016.94220408],\n",
       "        [  56.76767677, 5989.22553338],\n",
       "        [  56.36363636, 5961.50886267],\n",
       "        [  55.95959596, 5934.0497292 ],\n",
       "        [  55.55555556, 5906.18769042],\n",
       "        [  55.15151515, 5878.35885056],\n",
       "        [  54.74747475, 5850.65820944],\n",
       "        [  54.34343434, 5823.10574751],\n",
       "        [  53.93939394, 5795.55328559],\n",
       "        [  53.53535354, 5768.04693703],\n",
       "        [  53.13131313, 5740.46448126],\n",
       "        [  52.72727273, 5712.90336197],\n",
       "        [  52.32323232, 5685.35320799],\n",
       "        [  51.91919192, 5657.71822334],\n",
       "        [  51.51515152, 5629.87860107],\n",
       "        [  51.11111111, 5602.14059466],\n",
       "        [  50.70707071, 5574.67589461],\n",
       "        [  50.3030303 , 5547.21085461],\n",
       "        [  49.8989899 , 5519.74419315],\n",
       "        [  49.49494949, 5492.25621392],\n",
       "        [  49.09090909, 5464.54216432],\n",
       "        [  48.68686869, 5436.82632422],\n",
       "        [  48.28282828, 5409.10584593],\n",
       "        [  47.87878788, 5381.38503367],\n",
       "        [  47.47474747, 5353.63361297],\n",
       "        [  47.07070707, 5325.81115095],\n",
       "        [  46.66666667, 5297.99680644],\n",
       "        [  46.26262626, 5270.51126067],\n",
       "        [  45.85858586, 5242.79971631],\n",
       "        [  45.45454545, 5215.21971581],\n",
       "        [  45.05050505, 5187.65574541],\n",
       "        [  44.64646465, 5160.25600263],\n",
       "        [  44.24242424, 5132.58006855],\n",
       "        [  43.83838384, 5105.02758438],\n",
       "        [  43.43434343, 5077.50234163],\n",
       "        [  43.03030303, 5049.98442363],\n",
       "        [  42.62626263, 5022.46566333],\n",
       "        [  42.22222222, 4994.87125663],\n",
       "        [  41.81818182, 4967.33234842],\n",
       "        [  41.41414141, 4939.79153478],\n",
       "        [  41.01010101, 4912.25349922],\n",
       "        [  40.60606061, 4884.71562379],\n",
       "        [  40.2020202 , 4857.34115479],\n",
       "        [  39.7979798 , 4829.92497964],\n",
       "        [  39.39393939, 4802.63768545],\n",
       "        [  38.98989899, 4775.17545621],\n",
       "        [  38.58585859, 4747.8006945 ],\n",
       "        [  38.18181818, 4720.57681516],\n",
       "        [  37.77777778, 4693.30939981],\n",
       "        [  37.37373737, 4666.13005949],\n",
       "        [  36.96969697, 4638.54932107],\n",
       "        [  36.56565657, 4611.16879768],\n",
       "        [  36.16161616, 4583.78827429],\n",
       "        [  35.75757576, 4556.721738  ],\n",
       "        [  35.35353535, 4529.26843761],\n",
       "        [  34.94949495, 4501.91459065],\n",
       "        [  34.54545455, 4474.51254816],\n",
       "        [  34.14141414, 4447.21292061],\n",
       "        [  33.73737374, 4420.10890785],\n",
       "        [  33.33333333, 4393.20290394],\n",
       "        [  32.92929293, 4365.81378672],\n",
       "        [  32.52525253, 4338.5184619 ],\n",
       "        [  32.12121212, 4311.39170342],\n",
       "        [  31.71717172, 4284.11917139],\n",
       "        [  31.31313131, 4257.04883865],\n",
       "        [  30.90909091, 4229.93238429],\n",
       "        [  30.50505051, 4203.04148377],\n",
       "        [  30.1010101 , 4176.30784538],\n",
       "        [  29.6969697 , 4149.19500694],\n",
       "        [  29.29292929, 4122.66382993],\n",
       "        [  28.88888889, 4095.98338999],\n",
       "        [  28.48484848, 4069.18765772],\n",
       "        [  28.08080808, 4042.63965344],\n",
       "        [  27.67676768, 4016.04893457],\n",
       "        [  27.27272727, 3989.24326924],\n",
       "        [  26.86868687, 3962.44054293],\n",
       "        [  26.46464646, 3935.94389043],\n",
       "        [  26.06060606, 3909.24381225],\n",
       "        [  25.65656566, 3882.67490031],\n",
       "        [  25.25252525, 3856.3688249 ],\n",
       "        [  24.84848485, 3829.47922077],\n",
       "        [  24.44444444, 3803.11293651],\n",
       "        [  24.04040404, 3777.03939348],\n",
       "        [  23.63636364, 3750.80110457],\n",
       "        [  23.23232323, 3723.68063655],\n",
       "        [  22.82828283, 3697.3780789 ],\n",
       "        [  22.42424242, 3671.07552124],\n",
       "        [  22.02020202, 3644.77296358],\n",
       "        [  21.61616162, 3618.56151826],\n",
       "        [  21.21212121, 3592.17041944],\n",
       "        [  20.80808081, 3565.88154131],\n",
       "        [  20.4040404 , 3539.58635845],\n",
       "        [  20.        , 3513.28246861],\n",
       "        [  20.        , 3513.28246861]]), array([ 1,  2,  2,  2,  2,  2,  2,  2,  2,  2,  2,  2,  2,  2,  2,  2,  2,\n",
       "         2,  2,  2,  2,  2,  2,  2,  2,  2,  2,  2,  2,  2,  2,  2,  2,  2,\n",
       "         2,  2,  2,  2,  2,  2,  2,  2,  2,  2,  2,  2,  2,  2,  2,  2,  2,\n",
       "         2,  2,  2,  2,  2,  2,  2,  2,  2,  2,  2,  2,  2,  2,  2,  2,  2,\n",
       "         2,  2,  2,  2,  2,  2,  2,  2,  2,  2,  2,  2,  2,  2,  2,  2,  2,\n",
       "         2,  2,  2,  2,  2,  2,  2,  2,  2,  2,  2,  2,  2,  2,  2,  2,  2,\n",
       "         2,  2,  2,  2,  2,  2,  2,  2,  2,  2,  2,  2,  2,  2,  2,  2,  2,\n",
       "         2,  2,  2,  2,  2,  2,  2,  2,  2,  2,  2,  2,  2,  2,  2,  2,  2,\n",
       "         2,  2,  2,  2,  2,  2,  2,  2,  2,  2,  2,  2,  2,  2,  2,  2,  2,\n",
       "         2,  2,  2,  2,  2,  2,  2,  2,  2,  2,  2,  2,  2,  2,  2,  2,  2,\n",
       "         2,  2,  2,  2,  2,  2,  2,  2,  2,  2,  2,  2,  2,  2,  2,  2,  2,\n",
       "         2,  2,  2,  2,  2,  2,  2,  2,  2,  2,  2,  2,  2,  2,  2, 79],\n",
       "       dtype=uint8))]"
      ]
     },
     "execution_count": 111,
     "metadata": {},
     "output_type": "execute_result"
    }
   ],
   "source": [
    "#  https://www.py4u.net/discuss/184199\n",
    "# Récupération de tuples (x, y)\n",
    "# Using p.get_children() you get a list of the individual elements of the plot\n",
    "# .get_paths() : The path information of the confidence interval plot can be found with \n",
    "p.get_children()[1].get_paths()"
   ]
  },
  {
   "cell_type": "code",
   "execution_count": 112,
   "metadata": {},
   "outputs": [
    {
     "data": {
      "text/plain": [
       "masked_array(\n",
       "  data=[[20.0, 3405.926],\n",
       "        [21.0, 3516.2354],\n",
       "        [22.0, 3588.2507],\n",
       "        [23.0, 3673.9355],\n",
       "        [24.0, 3781.466],\n",
       "        [25.0, 3864.0429999999997],\n",
       "        [26.0, 3930.2112],\n",
       "        [27.0, 3990.3855],\n",
       "        [28.0, 4048.922],\n",
       "        [29.0, 4109.7764],\n",
       "        [30.0, 4190.661],\n",
       "        [31.0, 4254.907],\n",
       "        [32.0, 4317.0664],\n",
       "        [33.0, 4360.104],\n",
       "        [34.0, 4425.0396],\n",
       "        [35.0, 4503.2373],\n",
       "        [36.0, 4591.1064],\n",
       "        [37.0, 4701.133],\n",
       "        [38.0, 4756.4336],\n",
       "        [39.0, 4802.3679999999995],\n",
       "        [40.0, 4868.4507],\n",
       "        [42.0, 4895.8306],\n",
       "        [43.0, 4950.638],\n",
       "        [44.0, 5006.786],\n",
       "        [45.0, 5028.5444],\n",
       "        [46.0, 5088.509],\n",
       "        [47.0, 5165.558],\n",
       "        [48.0, 5239.3403],\n",
       "        [49.0, 5327.573],\n",
       "        [50.0, 5444.465],\n",
       "        [51.0, 5504.883000000001],\n",
       "        [52.0, 5603.514],\n",
       "        [53.0, 5696.463000000001],\n",
       "        [54.0, 5781.1665],\n",
       "        [55.0, 5901.3584],\n",
       "        [56.0, 5991.137],\n",
       "        [57.0, 6047.4106],\n",
       "        [58.0, 6109.068],\n",
       "        [59.0, 6174.019],\n",
       "        [60.0, 6288.1055]],\n",
       "  mask=[[False, False],\n",
       "        [False, False],\n",
       "        [False, False],\n",
       "        [False, False],\n",
       "        [False, False],\n",
       "        [False, False],\n",
       "        [False, False],\n",
       "        [False, False],\n",
       "        [False, False],\n",
       "        [False, False],\n",
       "        [False, False],\n",
       "        [False, False],\n",
       "        [False, False],\n",
       "        [False, False],\n",
       "        [False, False],\n",
       "        [False, False],\n",
       "        [False, False],\n",
       "        [False, False],\n",
       "        [False, False],\n",
       "        [False, False],\n",
       "        [False, False],\n",
       "        [False, False],\n",
       "        [False, False],\n",
       "        [False, False],\n",
       "        [False, False],\n",
       "        [False, False],\n",
       "        [False, False],\n",
       "        [False, False],\n",
       "        [False, False],\n",
       "        [False, False],\n",
       "        [False, False],\n",
       "        [False, False],\n",
       "        [False, False],\n",
       "        [False, False],\n",
       "        [False, False],\n",
       "        [False, False],\n",
       "        [False, False],\n",
       "        [False, False],\n",
       "        [False, False],\n",
       "        [False, False]],\n",
       "  fill_value=1e+20)"
      ]
     },
     "execution_count": 112,
     "metadata": {},
     "output_type": "execute_result"
    }
   ],
   "source": [
    "ax = f.get_axes()[0]\n",
    "ax.collections[0].get_offsets()"
   ]
  }
 ],
 "metadata": {
  "kernelspec": {
   "display_name": "Python 3",
   "language": "python",
   "name": "python3"
  },
  "language_info": {
   "codemirror_mode": {
    "name": "ipython",
    "version": 3
   },
   "file_extension": ".py",
   "mimetype": "text/x-python",
   "name": "python",
   "nbconvert_exporter": "python",
   "pygments_lexer": "ipython3",
   "version": "3.8.5"
  }
 },
 "nbformat": 4,
 "nbformat_minor": 4
}
