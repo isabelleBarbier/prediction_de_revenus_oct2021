{
 "cells": [
  {
   "cell_type": "markdown",
   "metadata": {},
   "source": [
    "# Effectuez une prédiction de revenus"
   ]
  },
  {
   "cell_type": "markdown",
   "metadata": {},
   "source": [
    "### Mission 3\n",
    "\n",
    "- Nous supposons ici que l'on associe à chaque individu i une unique classe c(i,parent)  quel que soit le nombre de parents de i.\n",
    "- Nous allons donc simuler cette information grâce à un coefficient **pj** (propre à chaque pays **j**) mesurant une corrélation entre le revenu de l'individu i et le revenu de ses parents. Ce coefficient sera ici appelé **coefficient d'élasticité**. Il mesure la **mobilité intergénérationnelle du revenu**."
   ]
  },
  {
   "cell_type": "markdown",
   "metadata": {},
   "source": [
    " - IGEincome is the measure of relative mobility in income which is generated in three steps: (1) estimate an income equation from an older sample that is representative of the current population of parents (when they were younger, i.e. pseudo-parents), (2) use the estimated model coefficients (i.e. returns to education and experience) to predict parental earnings at the reference age using the retrospective data on parental age and education as explanatory variables, and (3) regress child earnings at the reference age on predicted parental earnings at the reference age. The resulting regression coefficients from step 3 are reported as IGEincome."
   ]
  },
  {
   "cell_type": "markdown",
   "metadata": {},
   "source": [
    "### Sommaire\n",
    "- [importation des librairies](#librairies)\n",
    "- [importation et lecture des données](#donnee_revenus)\n",
    "- [générez un grand nombre de réalisations d'une variable que nous appellerons selon une loi normale. Le choix de la moyenne et de l'écart-type n'auront pas d'incidence sur le résultat final. ln(yparent) doit être supérieur à 1000 fois le nombre de quantiles](#gd_nb)"
   ]
  },
  {
   "cell_type": "markdown",
   "metadata": {},
   "source": [
    "### Importation des librairies <a class=\"anchor\" id=\"librairies\"></a>"
   ]
  },
  {
   "cell_type": "code",
   "execution_count": 1,
   "metadata": {},
   "outputs": [],
   "source": [
    "# Importation des librairies\n",
    "import pandas as pd\n",
    "import numpy as np\n",
    "import matplotlib.pyplot as plt\n",
    "import seaborn as sns\n",
    "import pickle\n",
    "import scipy.stats as st"
   ]
  },
  {
   "cell_type": "code",
   "execution_count": 2,
   "metadata": {},
   "outputs": [],
   "source": [
    "ENCODAGE = 'UTF-8'"
   ]
  },
  {
   "cell_type": "code",
   "execution_count": 3,
   "metadata": {},
   "outputs": [],
   "source": [
    "sns.set(style=\"darkgrid\")"
   ]
  },
  {
   "cell_type": "markdown",
   "metadata": {},
   "source": [
    "### Importation et lecture des données  <a class=\"anchor\" id=\"donnee_revenus\"></a>\n",
    "http://www.worldbank.org/en/topic/poverty/brief/what-is-the-global-database-on-intergenerational-mobility-gdim"
   ]
  },
  {
   "cell_type": "code",
   "execution_count": 4,
   "metadata": {
    "scrolled": true
   },
   "outputs": [],
   "source": [
    "# fichier de mission 2 (country_code, year, quantile, nb_quantiles, income, gdpppp, country, gini_mean)\n",
    "df_distrib_revenus_mean_gini = pd.read_csv('revenu_pays_mean_gini.csv', encoding= ENCODAGE).copy()"
   ]
  },
  {
   "cell_type": "code",
   "execution_count": 5,
   "metadata": {},
   "outputs": [
    {
     "data": {
      "text/html": [
       "<div>\n",
       "<style scoped>\n",
       "    .dataframe tbody tr th:only-of-type {\n",
       "        vertical-align: middle;\n",
       "    }\n",
       "\n",
       "    .dataframe tbody tr th {\n",
       "        vertical-align: top;\n",
       "    }\n",
       "\n",
       "    .dataframe thead th {\n",
       "        text-align: right;\n",
       "    }\n",
       "</style>\n",
       "<table border=\"1\" class=\"dataframe\">\n",
       "  <thead>\n",
       "    <tr style=\"text-align: right;\">\n",
       "      <th></th>\n",
       "      <th>country_code</th>\n",
       "      <th>year</th>\n",
       "      <th>quantile</th>\n",
       "      <th>nb_quantiles</th>\n",
       "      <th>income</th>\n",
       "      <th>gdpppp</th>\n",
       "      <th>country</th>\n",
       "      <th>gini_mean</th>\n",
       "    </tr>\n",
       "  </thead>\n",
       "  <tbody>\n",
       "    <tr>\n",
       "      <th>0</th>\n",
       "      <td>ALB</td>\n",
       "      <td>2008</td>\n",
       "      <td>1</td>\n",
       "      <td>100</td>\n",
       "      <td>728.89795</td>\n",
       "      <td>7297.0</td>\n",
       "      <td>Albania</td>\n",
       "      <td>30.0</td>\n",
       "    </tr>\n",
       "    <tr>\n",
       "      <th>1</th>\n",
       "      <td>ALB</td>\n",
       "      <td>2008</td>\n",
       "      <td>2</td>\n",
       "      <td>100</td>\n",
       "      <td>916.66235</td>\n",
       "      <td>7297.0</td>\n",
       "      <td>Albania</td>\n",
       "      <td>30.0</td>\n",
       "    </tr>\n",
       "  </tbody>\n",
       "</table>\n",
       "</div>"
      ],
      "text/plain": [
       "  country_code  year  quantile  nb_quantiles     income  gdpppp  country  \\\n",
       "0          ALB  2008         1           100  728.89795  7297.0  Albania   \n",
       "1          ALB  2008         2           100  916.66235  7297.0  Albania   \n",
       "\n",
       "   gini_mean  \n",
       "0       30.0  \n",
       "1       30.0  "
      ]
     },
     "execution_count": 5,
     "metadata": {},
     "output_type": "execute_result"
    }
   ],
   "source": [
    "df_distrib_revenus_mean_gini.head(2)"
   ]
  },
  {
   "cell_type": "code",
   "execution_count": 6,
   "metadata": {},
   "outputs": [],
   "source": [
    "# # Lecture de fichier\n",
    "# with open('revenu_pays_mean_gini', 'rb') as f1:\n",
    "#     df_distrib_revenus_mean_gini1 = pickle.load(f1)"
   ]
  },
  {
   "cell_type": "code",
   "execution_count": 7,
   "metadata": {
    "scrolled": true
   },
   "outputs": [
    {
     "data": {
      "text/html": [
       "<div>\n",
       "<style scoped>\n",
       "    .dataframe tbody tr th:only-of-type {\n",
       "        vertical-align: middle;\n",
       "    }\n",
       "\n",
       "    .dataframe tbody tr th {\n",
       "        vertical-align: top;\n",
       "    }\n",
       "\n",
       "    .dataframe thead th {\n",
       "        text-align: right;\n",
       "    }\n",
       "</style>\n",
       "<table border=\"1\" class=\"dataframe\">\n",
       "  <thead>\n",
       "    <tr style=\"text-align: right;\">\n",
       "      <th></th>\n",
       "      <th>countryname</th>\n",
       "      <th>wbcode</th>\n",
       "      <th>iso3</th>\n",
       "      <th>region</th>\n",
       "      <th>incgroup2</th>\n",
       "      <th>incgroup4</th>\n",
       "      <th>fragile</th>\n",
       "      <th>survey</th>\n",
       "      <th>year</th>\n",
       "      <th>status</th>\n",
       "      <th>...</th>\n",
       "      <th>Cores2125_MAcatC1</th>\n",
       "      <th>Shortfall0611_obs</th>\n",
       "      <th>Shortfall0611_IGP</th>\n",
       "      <th>Shortfall1217_obs</th>\n",
       "      <th>Shortfall1217_IGP</th>\n",
       "      <th>IGEincome</th>\n",
       "      <th>S1</th>\n",
       "      <th>S2</th>\n",
       "      <th>S3</th>\n",
       "      <th>MLD_psu</th>\n",
       "    </tr>\n",
       "  </thead>\n",
       "  <tbody>\n",
       "    <tr>\n",
       "      <th>0</th>\n",
       "      <td>Afghanistan</td>\n",
       "      <td>AFG</td>\n",
       "      <td>AFG</td>\n",
       "      <td>South Asia</td>\n",
       "      <td>Developing economies</td>\n",
       "      <td>Low income</td>\n",
       "      <td>1</td>\n",
       "      <td>NRVA</td>\n",
       "      <td>1980</td>\n",
       "      <td>Co-residents only</td>\n",
       "      <td>...</td>\n",
       "      <td>NaN</td>\n",
       "      <td>25103.0</td>\n",
       "      <td>0.086197</td>\n",
       "      <td>18054.0</td>\n",
       "      <td>0.345224</td>\n",
       "      <td>NaN</td>\n",
       "      <td>NaN</td>\n",
       "      <td>NaN</td>\n",
       "      <td>NaN</td>\n",
       "      <td>0.1</td>\n",
       "    </tr>\n",
       "    <tr>\n",
       "      <th>1</th>\n",
       "      <td>Afghanistan</td>\n",
       "      <td>AFG</td>\n",
       "      <td>AFG</td>\n",
       "      <td>South Asia</td>\n",
       "      <td>Developing economies</td>\n",
       "      <td>Low income</td>\n",
       "      <td>1</td>\n",
       "      <td>NRVA</td>\n",
       "      <td>1980</td>\n",
       "      <td>Co-residents only</td>\n",
       "      <td>...</td>\n",
       "      <td>NaN</td>\n",
       "      <td>12107.0</td>\n",
       "      <td>0.083271</td>\n",
       "      <td>8538.0</td>\n",
       "      <td>0.389952</td>\n",
       "      <td>NaN</td>\n",
       "      <td>NaN</td>\n",
       "      <td>NaN</td>\n",
       "      <td>NaN</td>\n",
       "      <td>0.1</td>\n",
       "    </tr>\n",
       "  </tbody>\n",
       "</table>\n",
       "<p>2 rows × 66 columns</p>\n",
       "</div>"
      ],
      "text/plain": [
       "   countryname wbcode iso3      region             incgroup2   incgroup4  \\\n",
       "0  Afghanistan    AFG  AFG  South Asia  Developing economies  Low income   \n",
       "1  Afghanistan    AFG  AFG  South Asia  Developing economies  Low income   \n",
       "\n",
       "   fragile survey  year             status  ...  Cores2125_MAcatC1  \\\n",
       "0        1   NRVA  1980  Co-residents only  ...                NaN   \n",
       "1        1   NRVA  1980  Co-residents only  ...                NaN   \n",
       "\n",
       "  Shortfall0611_obs Shortfall0611_IGP  Shortfall1217_obs  Shortfall1217_IGP  \\\n",
       "0           25103.0          0.086197            18054.0           0.345224   \n",
       "1           12107.0          0.083271             8538.0           0.389952   \n",
       "\n",
       "   IGEincome  S1  S2  S3  MLD_psu  \n",
       "0        NaN NaN NaN NaN      0.1  \n",
       "1        NaN NaN NaN NaN      0.1  \n",
       "\n",
       "[2 rows x 66 columns]"
      ]
     },
     "execution_count": 7,
     "metadata": {},
     "output_type": "execute_result"
    }
   ],
   "source": [
    "# fichier GDIM dataset de la Baque Mondiale =>  IGEincome == coefficient d'élasticité\n",
    "df_GDMI_brut = pd.read_csv(\"GDIMMay2018.csv\", encoding= ENCODAGE)\n",
    "df_GDMI_brut.head(2)"
   ]
  },
  {
   "cell_type": "code",
   "execution_count": 105,
   "metadata": {},
   "outputs": [
    {
     "data": {
      "text/plain": [
       "(6504, 66)"
      ]
     },
     "execution_count": 105,
     "metadata": {},
     "output_type": "execute_result"
    }
   ],
   "source": [
    "df_GDMI_brut.shape"
   ]
  },
  {
   "cell_type": "code",
   "execution_count": 8,
   "metadata": {
    "scrolled": false
   },
   "outputs": [
    {
     "data": {
      "text/html": [
       "<div>\n",
       "<style scoped>\n",
       "    .dataframe tbody tr th:only-of-type {\n",
       "        vertical-align: middle;\n",
       "    }\n",
       "\n",
       "    .dataframe tbody tr th {\n",
       "        vertical-align: top;\n",
       "    }\n",
       "\n",
       "    .dataframe thead th {\n",
       "        text-align: right;\n",
       "    }\n",
       "</style>\n",
       "<table border=\"1\" class=\"dataframe\">\n",
       "  <thead>\n",
       "    <tr style=\"text-align: right;\">\n",
       "      <th></th>\n",
       "      <th>countryname</th>\n",
       "      <th>wbcode</th>\n",
       "      <th>iso3</th>\n",
       "      <th>region</th>\n",
       "      <th>incgroup2</th>\n",
       "      <th>incgroup4</th>\n",
       "      <th>provincename</th>\n",
       "      <th>province</th>\n",
       "      <th>cohort</th>\n",
       "      <th>year</th>\n",
       "      <th>...</th>\n",
       "      <th>survey</th>\n",
       "      <th>status</th>\n",
       "      <th>parent</th>\n",
       "      <th>child</th>\n",
       "      <th>obs</th>\n",
       "      <th>IGE</th>\n",
       "      <th>BHQ4</th>\n",
       "      <th>Q4child</th>\n",
       "      <th>MLD_psu</th>\n",
       "      <th>BHQ4adj</th>\n",
       "    </tr>\n",
       "  </thead>\n",
       "  <tbody>\n",
       "    <tr>\n",
       "      <th>0</th>\n",
       "      <td>Brazil</td>\n",
       "      <td>BRA</td>\n",
       "      <td>BRA</td>\n",
       "      <td>Latin America &amp; Caribbean</td>\n",
       "      <td>Developing economies</td>\n",
       "      <td>Upper middle income</td>\n",
       "      <td>Acre</td>\n",
       "      <td>2</td>\n",
       "      <td>1980</td>\n",
       "      <td>1980</td>\n",
       "      <td>...</td>\n",
       "      <td>PNAD</td>\n",
       "      <td>Retrospective question</td>\n",
       "      <td>max</td>\n",
       "      <td>all</td>\n",
       "      <td>67</td>\n",
       "      <td>0.401910</td>\n",
       "      <td>0.046689</td>\n",
       "      <td>0.14657</td>\n",
       "      <td>0.098349</td>\n",
       "      <td>-0.099881</td>\n",
       "    </tr>\n",
       "    <tr>\n",
       "      <th>1</th>\n",
       "      <td>Brazil</td>\n",
       "      <td>BRA</td>\n",
       "      <td>BRA</td>\n",
       "      <td>Latin America &amp; Caribbean</td>\n",
       "      <td>Developing economies</td>\n",
       "      <td>Upper middle income</td>\n",
       "      <td>Alagoas</td>\n",
       "      <td>14</td>\n",
       "      <td>1980</td>\n",
       "      <td>1980</td>\n",
       "      <td>...</td>\n",
       "      <td>PNAD</td>\n",
       "      <td>Retrospective question</td>\n",
       "      <td>max</td>\n",
       "      <td>all</td>\n",
       "      <td>57</td>\n",
       "      <td>0.322206</td>\n",
       "      <td>0.110421</td>\n",
       "      <td>0.21679</td>\n",
       "      <td>0.067774</td>\n",
       "      <td>-0.106369</td>\n",
       "    </tr>\n",
       "  </tbody>\n",
       "</table>\n",
       "<p>2 rows × 21 columns</p>\n",
       "</div>"
      ],
      "text/plain": [
       "  countryname wbcode iso3                     region             incgroup2  \\\n",
       "0      Brazil    BRA  BRA  Latin America & Caribbean  Developing economies   \n",
       "1      Brazil    BRA  BRA  Latin America & Caribbean  Developing economies   \n",
       "\n",
       "             incgroup4 provincename  province  cohort  year  ...  survey  \\\n",
       "0  Upper middle income         Acre         2    1980  1980  ...    PNAD   \n",
       "1  Upper middle income      Alagoas        14    1980  1980  ...    PNAD   \n",
       "\n",
       "                   status parent child obs       IGE      BHQ4  Q4child  \\\n",
       "0  Retrospective question    max   all  67  0.401910  0.046689  0.14657   \n",
       "1  Retrospective question    max   all  57  0.322206  0.110421  0.21679   \n",
       "\n",
       "    MLD_psu   BHQ4adj  \n",
       "0  0.098349 -0.099881  \n",
       "1  0.067774 -0.106369  \n",
       "\n",
       "[2 rows x 21 columns]"
      ]
     },
     "execution_count": 8,
     "metadata": {},
     "output_type": "execute_result"
    }
   ],
   "source": [
    "df_GDMI_province = pd.read_csv(\"GDIMprovinceMay2018.csv\", encoding= ENCODAGE)\n",
    "df_GDMI_province.head(2)"
   ]
  },
  {
   "cell_type": "code",
   "execution_count": 9,
   "metadata": {
    "scrolled": false
   },
   "outputs": [
    {
     "data": {
      "text/plain": [
       "array(['Brazil', 'China', 'Egypt, Arab Rep.', 'Indonesia', 'Nigeria'],\n",
       "      dtype=object)"
      ]
     },
     "execution_count": 9,
     "metadata": {},
     "output_type": "execute_result"
    }
   ],
   "source": [
    "df_GDMI_province.countryname.unique()"
   ]
  },
  {
   "cell_type": "code",
   "execution_count": 10,
   "metadata": {
    "scrolled": true
   },
   "outputs": [
    {
     "data": {
      "text/plain": [
       "countryname     object\n",
       "wbcode          object\n",
       "iso3            object\n",
       "region          object\n",
       "incgroup2       object\n",
       "                ...   \n",
       "IGEincome      float64\n",
       "S1             float64\n",
       "S2             float64\n",
       "S3             float64\n",
       "MLD_psu        float64\n",
       "Length: 66, dtype: object"
      ]
     },
     "execution_count": 10,
     "metadata": {},
     "output_type": "execute_result"
    }
   ],
   "source": [
    "df_GDMI_brut.dtypes"
   ]
  },
  {
   "cell_type": "code",
   "execution_count": 11,
   "metadata": {
    "scrolled": true
   },
   "outputs": [
    {
     "data": {
      "text/plain": [
       "(6504, 66)"
      ]
     },
     "execution_count": 11,
     "metadata": {},
     "output_type": "execute_result"
    }
   ],
   "source": [
    "df_GDMI_brut.shape"
   ]
  },
  {
   "cell_type": "code",
   "execution_count": 12,
   "metadata": {
    "scrolled": false
   },
   "outputs": [
    {
     "data": {
      "text/plain": [
       "countryname       0\n",
       "wbcode            0\n",
       "iso3              0\n",
       "region            0\n",
       "incgroup2         0\n",
       "               ... \n",
       "IGEincome      5651\n",
       "S1             3659\n",
       "S2             3659\n",
       "S3             3659\n",
       "MLD_psu        5279\n",
       "Length: 66, dtype: int64"
      ]
     },
     "execution_count": 12,
     "metadata": {},
     "output_type": "execute_result"
    }
   ],
   "source": [
    "# valeurs null \n",
    "df_GDMI_brut.isnull().sum()"
   ]
  },
  {
   "cell_type": "markdown",
   "metadata": {},
   "source": [
    "Remarque : 5651 valeurs manquantes IGEincome"
   ]
  },
  {
   "cell_type": "code",
   "execution_count": 13,
   "metadata": {},
   "outputs": [
    {
     "data": {
      "text/plain": [
       "0"
      ]
     },
     "execution_count": 13,
     "metadata": {},
     "output_type": "execute_result"
    }
   ],
   "source": [
    "# valeurs dupliquées\n",
    "df_GDMI_brut.duplicated().sum()"
   ]
  },
  {
   "cell_type": "code",
   "execution_count": 14,
   "metadata": {
    "scrolled": true
   },
   "outputs": [
    {
     "data": {
      "text/plain": [
       "count    853.000000\n",
       "mean       0.516928\n",
       "std        0.249615\n",
       "min        0.112876\n",
       "25%        0.312578\n",
       "50%        0.464077\n",
       "75%        0.689613\n",
       "max        1.095440\n",
       "Name: IGEincome, dtype: float64"
      ]
     },
     "execution_count": 14,
     "metadata": {},
     "output_type": "execute_result"
    }
   ],
   "source": [
    "df_GDMI_brut.IGEincome.describe()"
   ]
  },
  {
   "cell_type": "markdown",
   "metadata": {},
   "source": [
    "### Implémentation des Nan de IGEincome par la moyenne de IGEincome de la région du pays"
   ]
  },
  {
   "cell_type": "markdown",
   "metadata": {},
   "source": [
    "#### Création d'un dataframe region - IGEincome(moyenne)"
   ]
  },
  {
   "cell_type": "code",
   "execution_count": 15,
   "metadata": {},
   "outputs": [
    {
     "data": {
      "text/html": [
       "<div>\n",
       "<style scoped>\n",
       "    .dataframe tbody tr th:only-of-type {\n",
       "        vertical-align: middle;\n",
       "    }\n",
       "\n",
       "    .dataframe tbody tr th {\n",
       "        vertical-align: top;\n",
       "    }\n",
       "\n",
       "    .dataframe thead th {\n",
       "        text-align: right;\n",
       "    }\n",
       "</style>\n",
       "<table border=\"1\" class=\"dataframe\">\n",
       "  <thead>\n",
       "    <tr style=\"text-align: right;\">\n",
       "      <th></th>\n",
       "      <th>region</th>\n",
       "      <th>IGEincome</th>\n",
       "    </tr>\n",
       "  </thead>\n",
       "  <tbody>\n",
       "    <tr>\n",
       "      <th>0</th>\n",
       "      <td>South Asia</td>\n",
       "      <td>NaN</td>\n",
       "    </tr>\n",
       "    <tr>\n",
       "      <th>1</th>\n",
       "      <td>South Asia</td>\n",
       "      <td>NaN</td>\n",
       "    </tr>\n",
       "  </tbody>\n",
       "</table>\n",
       "</div>"
      ],
      "text/plain": [
       "       region  IGEincome\n",
       "0  South Asia        NaN\n",
       "1  South Asia        NaN"
      ]
     },
     "execution_count": 15,
     "metadata": {},
     "output_type": "execute_result"
    }
   ],
   "source": [
    "# récupération des colonnes utiles\n",
    "df_GDMI_region_IGEinc_mean = df_GDMI_brut[['region', 'IGEincome']]\n",
    "df_GDMI_region_IGEinc_mean.head(2)"
   ]
  },
  {
   "cell_type": "code",
   "execution_count": 16,
   "metadata": {
    "scrolled": false
   },
   "outputs": [
    {
     "data": {
      "text/html": [
       "<div>\n",
       "<style scoped>\n",
       "    .dataframe tbody tr th:only-of-type {\n",
       "        vertical-align: middle;\n",
       "    }\n",
       "\n",
       "    .dataframe tbody tr th {\n",
       "        vertical-align: top;\n",
       "    }\n",
       "\n",
       "    .dataframe thead th {\n",
       "        text-align: right;\n",
       "    }\n",
       "</style>\n",
       "<table border=\"1\" class=\"dataframe\">\n",
       "  <thead>\n",
       "    <tr style=\"text-align: right;\">\n",
       "      <th></th>\n",
       "      <th>region</th>\n",
       "      <th>IGEincome</th>\n",
       "    </tr>\n",
       "  </thead>\n",
       "  <tbody>\n",
       "    <tr>\n",
       "      <th>0</th>\n",
       "      <td>East Asia &amp; Pacific</td>\n",
       "      <td>0.504399</td>\n",
       "    </tr>\n",
       "    <tr>\n",
       "      <th>1</th>\n",
       "      <td>Europe &amp; Central Asia</td>\n",
       "      <td>0.465537</td>\n",
       "    </tr>\n",
       "    <tr>\n",
       "      <th>2</th>\n",
       "      <td>High income</td>\n",
       "      <td>0.348050</td>\n",
       "    </tr>\n",
       "    <tr>\n",
       "      <th>3</th>\n",
       "      <td>Latin America &amp; Caribbean</td>\n",
       "      <td>0.896534</td>\n",
       "    </tr>\n",
       "    <tr>\n",
       "      <th>4</th>\n",
       "      <td>Middle East &amp; North Africa</td>\n",
       "      <td>0.816695</td>\n",
       "    </tr>\n",
       "    <tr>\n",
       "      <th>5</th>\n",
       "      <td>South Asia</td>\n",
       "      <td>0.495351</td>\n",
       "    </tr>\n",
       "    <tr>\n",
       "      <th>6</th>\n",
       "      <td>Sub-Saharan Africa</td>\n",
       "      <td>0.655524</td>\n",
       "    </tr>\n",
       "  </tbody>\n",
       "</table>\n",
       "</div>"
      ],
      "text/plain": [
       "                       region  IGEincome\n",
       "0         East Asia & Pacific   0.504399\n",
       "1       Europe & Central Asia   0.465537\n",
       "2                 High income   0.348050\n",
       "3   Latin America & Caribbean   0.896534\n",
       "4  Middle East & North Africa   0.816695\n",
       "5                  South Asia   0.495351\n",
       "6          Sub-Saharan Africa   0.655524"
      ]
     },
     "execution_count": 16,
     "metadata": {},
     "output_type": "execute_result"
    }
   ],
   "source": [
    "# dataframe region/IGEincome (moyenne de IGEincome)\n",
    "df_GDMI_brut_region = df_GDMI_region_IGEinc_mean.groupby('region').mean().reset_index()\n",
    "df_GDMI_brut_region.head(8)"
   ]
  },
  {
   "cell_type": "code",
   "execution_count": 17,
   "metadata": {},
   "outputs": [],
   "source": [
    "# df_GDMI_brut_region.loc[df_GDMI_brut_region['region']== 'East Asia & Pacific','IGEincome']"
   ]
  },
  {
   "cell_type": "code",
   "execution_count": 18,
   "metadata": {
    "scrolled": true
   },
   "outputs": [
    {
     "data": {
      "text/html": [
       "<div>\n",
       "<style scoped>\n",
       "    .dataframe tbody tr th:only-of-type {\n",
       "        vertical-align: middle;\n",
       "    }\n",
       "\n",
       "    .dataframe tbody tr th {\n",
       "        vertical-align: top;\n",
       "    }\n",
       "\n",
       "    .dataframe thead th {\n",
       "        text-align: right;\n",
       "    }\n",
       "</style>\n",
       "<table border=\"1\" class=\"dataframe\">\n",
       "  <thead>\n",
       "    <tr style=\"text-align: right;\">\n",
       "      <th></th>\n",
       "      <th>IGEincome</th>\n",
       "    </tr>\n",
       "  </thead>\n",
       "  <tbody>\n",
       "    <tr>\n",
       "      <th>count</th>\n",
       "      <td>7.000000</td>\n",
       "    </tr>\n",
       "    <tr>\n",
       "      <th>mean</th>\n",
       "      <td>0.597441</td>\n",
       "    </tr>\n",
       "    <tr>\n",
       "      <th>std</th>\n",
       "      <td>0.199823</td>\n",
       "    </tr>\n",
       "    <tr>\n",
       "      <th>min</th>\n",
       "      <td>0.348050</td>\n",
       "    </tr>\n",
       "    <tr>\n",
       "      <th>25%</th>\n",
       "      <td>0.480444</td>\n",
       "    </tr>\n",
       "    <tr>\n",
       "      <th>50%</th>\n",
       "      <td>0.504399</td>\n",
       "    </tr>\n",
       "    <tr>\n",
       "      <th>75%</th>\n",
       "      <td>0.736110</td>\n",
       "    </tr>\n",
       "    <tr>\n",
       "      <th>max</th>\n",
       "      <td>0.896534</td>\n",
       "    </tr>\n",
       "  </tbody>\n",
       "</table>\n",
       "</div>"
      ],
      "text/plain": [
       "       IGEincome\n",
       "count   7.000000\n",
       "mean    0.597441\n",
       "std     0.199823\n",
       "min     0.348050\n",
       "25%     0.480444\n",
       "50%     0.504399\n",
       "75%     0.736110\n",
       "max     0.896534"
      ]
     },
     "execution_count": 18,
     "metadata": {},
     "output_type": "execute_result"
    }
   ],
   "source": [
    "df_GDMI_brut_region.describe()"
   ]
  },
  {
   "cell_type": "code",
   "execution_count": 19,
   "metadata": {},
   "outputs": [
    {
     "data": {
      "text/plain": [
       "High income                   1792\n",
       "Sub-Saharan Africa            1214\n",
       "Europe & Central Asia         1060\n",
       "Latin America & Caribbean      516\n",
       "East Asia & Pacific            461\n",
       "Middle East & North Africa     312\n",
       "South Asia                     296\n",
       "Name: region, dtype: int64"
      ]
     },
     "execution_count": 19,
     "metadata": {},
     "output_type": "execute_result"
    }
   ],
   "source": [
    "# régions dont les valeurs de 'IGEincome' sont manquantes\n",
    "df_GDMI_brut.loc[df_GDMI_brut['IGEincome'].isnull(),'region'].value_counts()"
   ]
  },
  {
   "cell_type": "code",
   "execution_count": 20,
   "metadata": {
    "scrolled": true
   },
   "outputs": [
    {
     "data": {
      "text/html": [
       "<div>\n",
       "<style scoped>\n",
       "    .dataframe tbody tr th:only-of-type {\n",
       "        vertical-align: middle;\n",
       "    }\n",
       "\n",
       "    .dataframe tbody tr th {\n",
       "        vertical-align: top;\n",
       "    }\n",
       "\n",
       "    .dataframe thead th {\n",
       "        text-align: right;\n",
       "    }\n",
       "</style>\n",
       "<table border=\"1\" class=\"dataframe\">\n",
       "  <thead>\n",
       "    <tr style=\"text-align: right;\">\n",
       "      <th></th>\n",
       "      <th>countryname</th>\n",
       "      <th>wbcode</th>\n",
       "      <th>iso3</th>\n",
       "      <th>region</th>\n",
       "      <th>incgroup2</th>\n",
       "      <th>incgroup4</th>\n",
       "      <th>fragile</th>\n",
       "      <th>survey</th>\n",
       "      <th>year</th>\n",
       "      <th>status</th>\n",
       "      <th>...</th>\n",
       "      <th>Cores2125_MAcatC1</th>\n",
       "      <th>Shortfall0611_obs</th>\n",
       "      <th>Shortfall0611_IGP</th>\n",
       "      <th>Shortfall1217_obs</th>\n",
       "      <th>Shortfall1217_IGP</th>\n",
       "      <th>IGEincome</th>\n",
       "      <th>S1</th>\n",
       "      <th>S2</th>\n",
       "      <th>S3</th>\n",
       "      <th>MLD_psu</th>\n",
       "    </tr>\n",
       "  </thead>\n",
       "  <tbody>\n",
       "    <tr>\n",
       "      <th>0</th>\n",
       "      <td>Afghanistan</td>\n",
       "      <td>AFG</td>\n",
       "      <td>AFG</td>\n",
       "      <td>South Asia</td>\n",
       "      <td>Developing economies</td>\n",
       "      <td>Low income</td>\n",
       "      <td>1</td>\n",
       "      <td>NRVA</td>\n",
       "      <td>1980</td>\n",
       "      <td>Co-residents only</td>\n",
       "      <td>...</td>\n",
       "      <td>NaN</td>\n",
       "      <td>25103.0</td>\n",
       "      <td>0.086197</td>\n",
       "      <td>18054.0</td>\n",
       "      <td>0.345224</td>\n",
       "      <td>NaN</td>\n",
       "      <td>NaN</td>\n",
       "      <td>NaN</td>\n",
       "      <td>NaN</td>\n",
       "      <td>0.1</td>\n",
       "    </tr>\n",
       "    <tr>\n",
       "      <th>1</th>\n",
       "      <td>Afghanistan</td>\n",
       "      <td>AFG</td>\n",
       "      <td>AFG</td>\n",
       "      <td>South Asia</td>\n",
       "      <td>Developing economies</td>\n",
       "      <td>Low income</td>\n",
       "      <td>1</td>\n",
       "      <td>NRVA</td>\n",
       "      <td>1980</td>\n",
       "      <td>Co-residents only</td>\n",
       "      <td>...</td>\n",
       "      <td>NaN</td>\n",
       "      <td>12107.0</td>\n",
       "      <td>0.083271</td>\n",
       "      <td>8538.0</td>\n",
       "      <td>0.389952</td>\n",
       "      <td>NaN</td>\n",
       "      <td>NaN</td>\n",
       "      <td>NaN</td>\n",
       "      <td>NaN</td>\n",
       "      <td>0.1</td>\n",
       "    </tr>\n",
       "  </tbody>\n",
       "</table>\n",
       "<p>2 rows × 66 columns</p>\n",
       "</div>"
      ],
      "text/plain": [
       "   countryname wbcode iso3      region             incgroup2   incgroup4  \\\n",
       "0  Afghanistan    AFG  AFG  South Asia  Developing economies  Low income   \n",
       "1  Afghanistan    AFG  AFG  South Asia  Developing economies  Low income   \n",
       "\n",
       "   fragile survey  year             status  ...  Cores2125_MAcatC1  \\\n",
       "0        1   NRVA  1980  Co-residents only  ...                NaN   \n",
       "1        1   NRVA  1980  Co-residents only  ...                NaN   \n",
       "\n",
       "  Shortfall0611_obs Shortfall0611_IGP  Shortfall1217_obs  Shortfall1217_IGP  \\\n",
       "0           25103.0          0.086197            18054.0           0.345224   \n",
       "1           12107.0          0.083271             8538.0           0.389952   \n",
       "\n",
       "   IGEincome  S1  S2  S3  MLD_psu  \n",
       "0        NaN NaN NaN NaN      0.1  \n",
       "1        NaN NaN NaN NaN      0.1  \n",
       "\n",
       "[2 rows x 66 columns]"
      ]
     },
     "execution_count": 20,
     "metadata": {},
     "output_type": "execute_result"
    }
   ],
   "source": [
    "# pd.set_option('display.max_columns', None)\n",
    "df_GDMI_brut.head(2)"
   ]
  },
  {
   "cell_type": "code",
   "execution_count": 21,
   "metadata": {
    "scrolled": false
   },
   "outputs": [
    {
     "data": {
      "text/html": [
       "<div>\n",
       "<style scoped>\n",
       "    .dataframe tbody tr th:only-of-type {\n",
       "        vertical-align: middle;\n",
       "    }\n",
       "\n",
       "    .dataframe tbody tr th {\n",
       "        vertical-align: top;\n",
       "    }\n",
       "\n",
       "    .dataframe thead th {\n",
       "        text-align: right;\n",
       "    }\n",
       "</style>\n",
       "<table border=\"1\" class=\"dataframe\">\n",
       "  <thead>\n",
       "    <tr style=\"text-align: right;\">\n",
       "      <th></th>\n",
       "      <th>countryname</th>\n",
       "      <th>iso3</th>\n",
       "      <th>region</th>\n",
       "      <th>IGEincome</th>\n",
       "    </tr>\n",
       "  </thead>\n",
       "  <tbody>\n",
       "    <tr>\n",
       "      <th>0</th>\n",
       "      <td>Afghanistan</td>\n",
       "      <td>AFG</td>\n",
       "      <td>South Asia</td>\n",
       "      <td>NaN</td>\n",
       "    </tr>\n",
       "    <tr>\n",
       "      <th>1</th>\n",
       "      <td>Afghanistan</td>\n",
       "      <td>AFG</td>\n",
       "      <td>South Asia</td>\n",
       "      <td>NaN</td>\n",
       "    </tr>\n",
       "  </tbody>\n",
       "</table>\n",
       "</div>"
      ],
      "text/plain": [
       "   countryname iso3      region  IGEincome\n",
       "0  Afghanistan  AFG  South Asia        NaN\n",
       "1  Afghanistan  AFG  South Asia        NaN"
      ]
     },
     "execution_count": 21,
     "metadata": {},
     "output_type": "execute_result"
    }
   ],
   "source": [
    "# colonnes de travail\n",
    "df_igeIncome = df_GDMI_brut[['countryname', 'iso3', 'region', 'IGEincome']]\n",
    "df_igeIncome.head(2)"
   ]
  },
  {
   "cell_type": "code",
   "execution_count": 22,
   "metadata": {},
   "outputs": [
    {
     "data": {
      "text/plain": [
       "(6504, 4)"
      ]
     },
     "execution_count": 22,
     "metadata": {},
     "output_type": "execute_result"
    }
   ],
   "source": [
    "df_igeIncome.shape"
   ]
  },
  {
   "cell_type": "code",
   "execution_count": 23,
   "metadata": {
    "scrolled": false
   },
   "outputs": [
    {
     "data": {
      "text/html": [
       "<div>\n",
       "<style scoped>\n",
       "    .dataframe tbody tr th:only-of-type {\n",
       "        vertical-align: middle;\n",
       "    }\n",
       "\n",
       "    .dataframe tbody tr th {\n",
       "        vertical-align: top;\n",
       "    }\n",
       "\n",
       "    .dataframe thead th {\n",
       "        text-align: right;\n",
       "    }\n",
       "</style>\n",
       "<table border=\"1\" class=\"dataframe\">\n",
       "  <thead>\n",
       "    <tr style=\"text-align: right;\">\n",
       "      <th></th>\n",
       "      <th>country</th>\n",
       "      <th>country_code</th>\n",
       "      <th>region</th>\n",
       "      <th>IGEincome</th>\n",
       "    </tr>\n",
       "  </thead>\n",
       "  <tbody>\n",
       "    <tr>\n",
       "      <th>0</th>\n",
       "      <td>Afghanistan</td>\n",
       "      <td>AFG</td>\n",
       "      <td>South Asia</td>\n",
       "      <td>NaN</td>\n",
       "    </tr>\n",
       "    <tr>\n",
       "      <th>1</th>\n",
       "      <td>Afghanistan</td>\n",
       "      <td>AFG</td>\n",
       "      <td>South Asia</td>\n",
       "      <td>NaN</td>\n",
       "    </tr>\n",
       "  </tbody>\n",
       "</table>\n",
       "</div>"
      ],
      "text/plain": [
       "       country country_code      region  IGEincome\n",
       "0  Afghanistan          AFG  South Asia        NaN\n",
       "1  Afghanistan          AFG  South Asia        NaN"
      ]
     },
     "execution_count": 23,
     "metadata": {},
     "output_type": "execute_result"
    }
   ],
   "source": [
    "# renommage des colonnes\n",
    "df_igeIncome.columns = ['country', 'country_code', 'region', 'IGEincome']\n",
    "df_igeIncome.head(2)"
   ]
  },
  {
   "cell_type": "code",
   "execution_count": 24,
   "metadata": {},
   "outputs": [
    {
     "data": {
      "text/plain": [
       "country            0\n",
       "country_code       0\n",
       "region             0\n",
       "IGEincome       5651\n",
       "dtype: int64"
      ]
     },
     "execution_count": 24,
     "metadata": {},
     "output_type": "execute_result"
    }
   ],
   "source": [
    "df_igeIncome.isnull().sum()"
   ]
  },
  {
   "cell_type": "markdown",
   "metadata": {},
   "source": [
    "#### Création d'un dataframe ne contenant que les IGEincome nulls"
   ]
  },
  {
   "cell_type": "code",
   "execution_count": 25,
   "metadata": {},
   "outputs": [
    {
     "data": {
      "text/plain": [
       "(5651, 4)"
      ]
     },
     "execution_count": 25,
     "metadata": {},
     "output_type": "execute_result"
    }
   ],
   "source": [
    "df_igeIncome_null = df_igeIncome[df_igeIncome['IGEincome'].isnull()]\n",
    "df_igeIncome_null.shape"
   ]
  },
  {
   "cell_type": "markdown",
   "metadata": {},
   "source": [
    "Les valeurs null de IGEincome sont supprimées du dataframe principal \"df_igeIncome\""
   ]
  },
  {
   "cell_type": "code",
   "execution_count": 26,
   "metadata": {},
   "outputs": [
    {
     "data": {
      "text/plain": [
       "(6504, 4)"
      ]
     },
     "execution_count": 26,
     "metadata": {},
     "output_type": "execute_result"
    }
   ],
   "source": [
    "df_igeIncome.shape"
   ]
  },
  {
   "cell_type": "code",
   "execution_count": 27,
   "metadata": {},
   "outputs": [
    {
     "data": {
      "text/plain": [
       "(853, 4)"
      ]
     },
     "execution_count": 27,
     "metadata": {},
     "output_type": "execute_result"
    }
   ],
   "source": [
    "df_igeIncome_ss_null = df_igeIncome.dropna(axis=0)\n",
    "df_igeIncome_ss_null.shape"
   ]
  },
  {
   "cell_type": "markdown",
   "metadata": {},
   "source": [
    "Implémentation des valeurs NaN de df_igeIncome_null avec les valeurs de df_GDMI_brut_region"
   ]
  },
  {
   "cell_type": "code",
   "execution_count": 28,
   "metadata": {
    "scrolled": false
   },
   "outputs": [
    {
     "data": {
      "text/html": [
       "<div>\n",
       "<style scoped>\n",
       "    .dataframe tbody tr th:only-of-type {\n",
       "        vertical-align: middle;\n",
       "    }\n",
       "\n",
       "    .dataframe tbody tr th {\n",
       "        vertical-align: top;\n",
       "    }\n",
       "\n",
       "    .dataframe thead th {\n",
       "        text-align: right;\n",
       "    }\n",
       "</style>\n",
       "<table border=\"1\" class=\"dataframe\">\n",
       "  <thead>\n",
       "    <tr style=\"text-align: right;\">\n",
       "      <th></th>\n",
       "      <th>country</th>\n",
       "      <th>country_code</th>\n",
       "      <th>region</th>\n",
       "      <th>IGEincome</th>\n",
       "    </tr>\n",
       "  </thead>\n",
       "  <tbody>\n",
       "    <tr>\n",
       "      <th>0</th>\n",
       "      <td>China</td>\n",
       "      <td>CHN</td>\n",
       "      <td>East Asia &amp; Pacific</td>\n",
       "      <td>0.504399</td>\n",
       "    </tr>\n",
       "    <tr>\n",
       "      <th>1</th>\n",
       "      <td>China</td>\n",
       "      <td>CHN</td>\n",
       "      <td>East Asia &amp; Pacific</td>\n",
       "      <td>0.504399</td>\n",
       "    </tr>\n",
       "  </tbody>\n",
       "</table>\n",
       "</div>"
      ],
      "text/plain": [
       "  country country_code               region  IGEincome\n",
       "0   China          CHN  East Asia & Pacific   0.504399\n",
       "1   China          CHN  East Asia & Pacific   0.504399"
      ]
     },
     "execution_count": 28,
     "metadata": {},
     "output_type": "execute_result"
    }
   ],
   "source": [
    "df_IGEincome_impl = pd.merge(df_igeIncome_null,df_GDMI_brut_region, on='region', how='right').drop('IGEincome_x', axis=1)\n",
    "df_IGEincome_impl.columns = ['country', 'country_code','region', 'IGEincome']\n",
    "df_IGEincome_impl.head(2)"
   ]
  },
  {
   "cell_type": "code",
   "execution_count": 29,
   "metadata": {},
   "outputs": [
    {
     "data": {
      "text/plain": [
       "(5651, 4)"
      ]
     },
     "execution_count": 29,
     "metadata": {},
     "output_type": "execute_result"
    }
   ],
   "source": [
    "df_IGEincome_impl.shape"
   ]
  },
  {
   "cell_type": "code",
   "execution_count": 30,
   "metadata": {
    "scrolled": true
   },
   "outputs": [
    {
     "data": {
      "text/plain": [
       "country         0\n",
       "country_code    0\n",
       "region          0\n",
       "IGEincome       0\n",
       "dtype: int64"
      ]
     },
     "execution_count": 30,
     "metadata": {},
     "output_type": "execute_result"
    }
   ],
   "source": [
    "# valeurs null => 0\n",
    "df_IGEincome_impl.isnull().sum()"
   ]
  },
  {
   "cell_type": "markdown",
   "metadata": {},
   "source": [
    "#### Intégration des valeurs implémentées dans le dataframe principal \"df_igeIncomeN\""
   ]
  },
  {
   "cell_type": "code",
   "execution_count": 31,
   "metadata": {},
   "outputs": [],
   "source": [
    "df_igeIncomeN = pd.concat([df_igeIncome_ss_null,df_IGEincome_impl]).sort_values('country')"
   ]
  },
  {
   "cell_type": "code",
   "execution_count": 32,
   "metadata": {},
   "outputs": [
    {
     "data": {
      "text/plain": [
       "(6504, 4)"
      ]
     },
     "execution_count": 32,
     "metadata": {},
     "output_type": "execute_result"
    }
   ],
   "source": [
    "df_igeIncomeN.shape"
   ]
  },
  {
   "cell_type": "code",
   "execution_count": 33,
   "metadata": {},
   "outputs": [
    {
     "data": {
      "text/html": [
       "<div>\n",
       "<style scoped>\n",
       "    .dataframe tbody tr th:only-of-type {\n",
       "        vertical-align: middle;\n",
       "    }\n",
       "\n",
       "    .dataframe tbody tr th {\n",
       "        vertical-align: top;\n",
       "    }\n",
       "\n",
       "    .dataframe thead th {\n",
       "        text-align: right;\n",
       "    }\n",
       "</style>\n",
       "<table border=\"1\" class=\"dataframe\">\n",
       "  <thead>\n",
       "    <tr style=\"text-align: right;\">\n",
       "      <th></th>\n",
       "      <th>country</th>\n",
       "      <th>country_code</th>\n",
       "      <th>region</th>\n",
       "      <th>IGEincome</th>\n",
       "    </tr>\n",
       "  </thead>\n",
       "  <tbody>\n",
       "    <tr>\n",
       "      <th>4151</th>\n",
       "      <td>Afghanistan</td>\n",
       "      <td>AFG</td>\n",
       "      <td>South Asia</td>\n",
       "      <td>0.495351</td>\n",
       "    </tr>\n",
       "    <tr>\n",
       "      <th>4149</th>\n",
       "      <td>Afghanistan</td>\n",
       "      <td>AFG</td>\n",
       "      <td>South Asia</td>\n",
       "      <td>0.495351</td>\n",
       "    </tr>\n",
       "  </tbody>\n",
       "</table>\n",
       "</div>"
      ],
      "text/plain": [
       "          country country_code      region  IGEincome\n",
       "4151  Afghanistan          AFG  South Asia   0.495351\n",
       "4149  Afghanistan          AFG  South Asia   0.495351"
      ]
     },
     "execution_count": 33,
     "metadata": {},
     "output_type": "execute_result"
    }
   ],
   "source": [
    "df_igeIncomeN.head(2)"
   ]
  },
  {
   "cell_type": "code",
   "execution_count": 34,
   "metadata": {
    "scrolled": false
   },
   "outputs": [
    {
     "data": {
      "text/html": [
       "<div>\n",
       "<style scoped>\n",
       "    .dataframe tbody tr th:only-of-type {\n",
       "        vertical-align: middle;\n",
       "    }\n",
       "\n",
       "    .dataframe tbody tr th {\n",
       "        vertical-align: top;\n",
       "    }\n",
       "\n",
       "    .dataframe thead th {\n",
       "        text-align: right;\n",
       "    }\n",
       "</style>\n",
       "<table border=\"1\" class=\"dataframe\">\n",
       "  <thead>\n",
       "    <tr style=\"text-align: right;\">\n",
       "      <th></th>\n",
       "      <th>country</th>\n",
       "      <th>country_code</th>\n",
       "      <th>region</th>\n",
       "      <th>IGEincome</th>\n",
       "    </tr>\n",
       "  </thead>\n",
       "  <tbody>\n",
       "    <tr>\n",
       "      <th>1544</th>\n",
       "      <td>Australia</td>\n",
       "      <td>AUS</td>\n",
       "      <td>High income</td>\n",
       "      <td>0.34805</td>\n",
       "    </tr>\n",
       "    <tr>\n",
       "      <th>1543</th>\n",
       "      <td>Australia</td>\n",
       "      <td>AUS</td>\n",
       "      <td>High income</td>\n",
       "      <td>0.34805</td>\n",
       "    </tr>\n",
       "  </tbody>\n",
       "</table>\n",
       "</div>"
      ],
      "text/plain": [
       "        country country_code       region  IGEincome\n",
       "1544  Australia          AUS  High income    0.34805\n",
       "1543  Australia          AUS  High income    0.34805"
      ]
     },
     "execution_count": 34,
     "metadata": {},
     "output_type": "execute_result"
    }
   ],
   "source": [
    "df_igeIncomeN[df_igeIncomeN['country_code']== 'AUS'].head(2)"
   ]
  },
  {
   "cell_type": "markdown",
   "metadata": {},
   "source": [
    "#### Création du dataframe \"df_pj_country\" qui comprend les coef d'élasticité des pays"
   ]
  },
  {
   "cell_type": "code",
   "execution_count": 35,
   "metadata": {},
   "outputs": [],
   "source": [
    "df_pj_country = df_igeIncomeN.groupby(['country_code','country' ],as_index=False).agg(pj = (\"IGEincome\", \"mean\"))"
   ]
  },
  {
   "cell_type": "code",
   "execution_count": 36,
   "metadata": {
    "scrolled": true
   },
   "outputs": [
    {
     "data": {
      "text/html": [
       "<div>\n",
       "<style scoped>\n",
       "    .dataframe tbody tr th:only-of-type {\n",
       "        vertical-align: middle;\n",
       "    }\n",
       "\n",
       "    .dataframe tbody tr th {\n",
       "        vertical-align: top;\n",
       "    }\n",
       "\n",
       "    .dataframe thead th {\n",
       "        text-align: right;\n",
       "    }\n",
       "</style>\n",
       "<table border=\"1\" class=\"dataframe\">\n",
       "  <thead>\n",
       "    <tr style=\"text-align: right;\">\n",
       "      <th></th>\n",
       "      <th>country_code</th>\n",
       "      <th>country</th>\n",
       "      <th>pj</th>\n",
       "    </tr>\n",
       "  </thead>\n",
       "  <tbody>\n",
       "    <tr>\n",
       "      <th>0</th>\n",
       "      <td>AFG</td>\n",
       "      <td>Afghanistan</td>\n",
       "      <td>0.495351</td>\n",
       "    </tr>\n",
       "    <tr>\n",
       "      <th>1</th>\n",
       "      <td>AGO</td>\n",
       "      <td>Angola</td>\n",
       "      <td>0.655524</td>\n",
       "    </tr>\n",
       "  </tbody>\n",
       "</table>\n",
       "</div>"
      ],
      "text/plain": [
       "  country_code      country        pj\n",
       "0          AFG  Afghanistan  0.495351\n",
       "1          AGO       Angola  0.655524"
      ]
     },
     "execution_count": 36,
     "metadata": {},
     "output_type": "execute_result"
    }
   ],
   "source": [
    "df_pj_country.head(2)"
   ]
  },
  {
   "cell_type": "code",
   "execution_count": 37,
   "metadata": {},
   "outputs": [
    {
     "data": {
      "text/plain": [
       "(150, 3)"
      ]
     },
     "execution_count": 37,
     "metadata": {},
     "output_type": "execute_result"
    }
   ],
   "source": [
    "df_pj_country.shape"
   ]
  },
  {
   "cell_type": "code",
   "execution_count": 38,
   "metadata": {
    "scrolled": false
   },
   "outputs": [
    {
     "data": {
      "text/plain": [
       "country_code    0\n",
       "country         0\n",
       "pj              0\n",
       "dtype: int64"
      ]
     },
     "execution_count": 38,
     "metadata": {},
     "output_type": "execute_result"
    }
   ],
   "source": [
    "# Valeurs null => 0\n",
    "df_pj_country.isnull().sum()"
   ]
  },
  {
   "cell_type": "code",
   "execution_count": 39,
   "metadata": {
    "scrolled": true
   },
   "outputs": [
    {
     "data": {
      "text/plain": [
       "0"
      ]
     },
     "execution_count": 39,
     "metadata": {},
     "output_type": "execute_result"
    }
   ],
   "source": [
    "# Valeurs dupliquées => 0\n",
    "df_pj_country.duplicated().sum()"
   ]
  },
  {
   "cell_type": "code",
   "execution_count": 40,
   "metadata": {
    "scrolled": false
   },
   "outputs": [
    {
     "data": {
      "text/html": [
       "<div>\n",
       "<style scoped>\n",
       "    .dataframe tbody tr th:only-of-type {\n",
       "        vertical-align: middle;\n",
       "    }\n",
       "\n",
       "    .dataframe tbody tr th {\n",
       "        vertical-align: top;\n",
       "    }\n",
       "\n",
       "    .dataframe thead th {\n",
       "        text-align: right;\n",
       "    }\n",
       "</style>\n",
       "<table border=\"1\" class=\"dataframe\">\n",
       "  <thead>\n",
       "    <tr style=\"text-align: right;\">\n",
       "      <th></th>\n",
       "      <th>pj</th>\n",
       "    </tr>\n",
       "  </thead>\n",
       "  <tbody>\n",
       "    <tr>\n",
       "      <th>count</th>\n",
       "      <td>150.000000</td>\n",
       "    </tr>\n",
       "    <tr>\n",
       "      <th>mean</th>\n",
       "      <td>0.561845</td>\n",
       "    </tr>\n",
       "    <tr>\n",
       "      <th>std</th>\n",
       "      <td>0.182717</td>\n",
       "    </tr>\n",
       "    <tr>\n",
       "      <th>min</th>\n",
       "      <td>0.260000</td>\n",
       "    </tr>\n",
       "    <tr>\n",
       "      <th>25%</th>\n",
       "      <td>0.402436</td>\n",
       "    </tr>\n",
       "    <tr>\n",
       "      <th>50%</th>\n",
       "      <td>0.504399</td>\n",
       "    </tr>\n",
       "    <tr>\n",
       "      <th>75%</th>\n",
       "      <td>0.655524</td>\n",
       "    </tr>\n",
       "    <tr>\n",
       "      <th>max</th>\n",
       "      <td>0.936315</td>\n",
       "    </tr>\n",
       "  </tbody>\n",
       "</table>\n",
       "</div>"
      ],
      "text/plain": [
       "               pj\n",
       "count  150.000000\n",
       "mean     0.561845\n",
       "std      0.182717\n",
       "min      0.260000\n",
       "25%      0.402436\n",
       "50%      0.504399\n",
       "75%      0.655524\n",
       "max      0.936315"
      ]
     },
     "execution_count": 40,
     "metadata": {},
     "output_type": "execute_result"
    }
   ],
   "source": [
    "df_pj_country.describe()"
   ]
  },
  {
   "cell_type": "markdown",
   "metadata": {},
   "source": [
    "### Intégration des coefficients d'élasticité au dataframe principal \" df_distrib_revenus_mean_gini\""
   ]
  },
  {
   "cell_type": "code",
   "execution_count": 41,
   "metadata": {
    "scrolled": true
   },
   "outputs": [
    {
     "data": {
      "text/html": [
       "<div>\n",
       "<style scoped>\n",
       "    .dataframe tbody tr th:only-of-type {\n",
       "        vertical-align: middle;\n",
       "    }\n",
       "\n",
       "    .dataframe tbody tr th {\n",
       "        vertical-align: top;\n",
       "    }\n",
       "\n",
       "    .dataframe thead th {\n",
       "        text-align: right;\n",
       "    }\n",
       "</style>\n",
       "<table border=\"1\" class=\"dataframe\">\n",
       "  <thead>\n",
       "    <tr style=\"text-align: right;\">\n",
       "      <th></th>\n",
       "      <th>country_code</th>\n",
       "      <th>year</th>\n",
       "      <th>quantile</th>\n",
       "      <th>nb_quantiles</th>\n",
       "      <th>income</th>\n",
       "      <th>gdpppp</th>\n",
       "      <th>country</th>\n",
       "      <th>gini_mean</th>\n",
       "    </tr>\n",
       "  </thead>\n",
       "  <tbody>\n",
       "    <tr>\n",
       "      <th>0</th>\n",
       "      <td>ALB</td>\n",
       "      <td>2008</td>\n",
       "      <td>1</td>\n",
       "      <td>100</td>\n",
       "      <td>728.89795</td>\n",
       "      <td>7297.0</td>\n",
       "      <td>Albania</td>\n",
       "      <td>30.0</td>\n",
       "    </tr>\n",
       "    <tr>\n",
       "      <th>1</th>\n",
       "      <td>ALB</td>\n",
       "      <td>2008</td>\n",
       "      <td>2</td>\n",
       "      <td>100</td>\n",
       "      <td>916.66235</td>\n",
       "      <td>7297.0</td>\n",
       "      <td>Albania</td>\n",
       "      <td>30.0</td>\n",
       "    </tr>\n",
       "  </tbody>\n",
       "</table>\n",
       "</div>"
      ],
      "text/plain": [
       "  country_code  year  quantile  nb_quantiles     income  gdpppp  country  \\\n",
       "0          ALB  2008         1           100  728.89795  7297.0  Albania   \n",
       "1          ALB  2008         2           100  916.66235  7297.0  Albania   \n",
       "\n",
       "   gini_mean  \n",
       "0       30.0  \n",
       "1       30.0  "
      ]
     },
     "execution_count": 41,
     "metadata": {},
     "output_type": "execute_result"
    }
   ],
   "source": [
    "df_distrib_revenus_mean_gini.head(2)"
   ]
  },
  {
   "cell_type": "code",
   "execution_count": 42,
   "metadata": {},
   "outputs": [],
   "source": [
    "df_pj_country.drop('country', axis=1, inplace=True)"
   ]
  },
  {
   "cell_type": "code",
   "execution_count": 43,
   "metadata": {
    "scrolled": false
   },
   "outputs": [
    {
     "data": {
      "text/html": [
       "<div>\n",
       "<style scoped>\n",
       "    .dataframe tbody tr th:only-of-type {\n",
       "        vertical-align: middle;\n",
       "    }\n",
       "\n",
       "    .dataframe tbody tr th {\n",
       "        vertical-align: top;\n",
       "    }\n",
       "\n",
       "    .dataframe thead th {\n",
       "        text-align: right;\n",
       "    }\n",
       "</style>\n",
       "<table border=\"1\" class=\"dataframe\">\n",
       "  <thead>\n",
       "    <tr style=\"text-align: right;\">\n",
       "      <th></th>\n",
       "      <th>country_code</th>\n",
       "      <th>pj</th>\n",
       "    </tr>\n",
       "  </thead>\n",
       "  <tbody>\n",
       "    <tr>\n",
       "      <th>0</th>\n",
       "      <td>AFG</td>\n",
       "      <td>0.495351</td>\n",
       "    </tr>\n",
       "    <tr>\n",
       "      <th>1</th>\n",
       "      <td>AGO</td>\n",
       "      <td>0.655524</td>\n",
       "    </tr>\n",
       "  </tbody>\n",
       "</table>\n",
       "</div>"
      ],
      "text/plain": [
       "  country_code        pj\n",
       "0          AFG  0.495351\n",
       "1          AGO  0.655524"
      ]
     },
     "execution_count": 43,
     "metadata": {},
     "output_type": "execute_result"
    }
   ],
   "source": [
    "df_pj_country.head(2)"
   ]
  },
  {
   "cell_type": "code",
   "execution_count": 44,
   "metadata": {
    "scrolled": false
   },
   "outputs": [
    {
     "data": {
      "text/plain": [
       "country_code    0\n",
       "pj              0\n",
       "dtype: int64"
      ]
     },
     "execution_count": 44,
     "metadata": {},
     "output_type": "execute_result"
    }
   ],
   "source": [
    "df_pj_country.isnull().sum()"
   ]
  },
  {
   "cell_type": "code",
   "execution_count": 45,
   "metadata": {},
   "outputs": [
    {
     "data": {
      "text/plain": [
       "country_code    0\n",
       "year            0\n",
       "quantile        0\n",
       "nb_quantiles    0\n",
       "income          0\n",
       "gdpppp          0\n",
       "country         0\n",
       "gini_mean       0\n",
       "dtype: int64"
      ]
     },
     "execution_count": 45,
     "metadata": {},
     "output_type": "execute_result"
    }
   ],
   "source": [
    "df_distrib_revenus_mean_gini.isnull().sum()"
   ]
  },
  {
   "cell_type": "code",
   "execution_count": 46,
   "metadata": {},
   "outputs": [],
   "source": [
    "df_gini_pj = pd.merge(df_pj_country, df_distrib_revenus_mean_gini, on='country_code', how=\"right\")"
   ]
  },
  {
   "cell_type": "code",
   "execution_count": 47,
   "metadata": {},
   "outputs": [
    {
     "data": {
      "text/plain": [
       "(11600, 9)"
      ]
     },
     "execution_count": 47,
     "metadata": {},
     "output_type": "execute_result"
    }
   ],
   "source": [
    "df_gini_pj.shape"
   ]
  },
  {
   "cell_type": "code",
   "execution_count": 48,
   "metadata": {},
   "outputs": [],
   "source": [
    "#  Pour une meilleure visibilité, réarrangement des colonnes\n",
    "df_gini_pj = df_gini_pj.reindex(columns=['country_code','year','quantile','nb_quantiles','income','gdpppp',\n",
    "                                        'country', 'gini_mean', 'pj'])"
   ]
  },
  {
   "cell_type": "code",
   "execution_count": 49,
   "metadata": {
    "scrolled": false
   },
   "outputs": [
    {
     "data": {
      "text/html": [
       "<div>\n",
       "<style scoped>\n",
       "    .dataframe tbody tr th:only-of-type {\n",
       "        vertical-align: middle;\n",
       "    }\n",
       "\n",
       "    .dataframe tbody tr th {\n",
       "        vertical-align: top;\n",
       "    }\n",
       "\n",
       "    .dataframe thead th {\n",
       "        text-align: right;\n",
       "    }\n",
       "</style>\n",
       "<table border=\"1\" class=\"dataframe\">\n",
       "  <thead>\n",
       "    <tr style=\"text-align: right;\">\n",
       "      <th></th>\n",
       "      <th>country_code</th>\n",
       "      <th>year</th>\n",
       "      <th>quantile</th>\n",
       "      <th>nb_quantiles</th>\n",
       "      <th>income</th>\n",
       "      <th>gdpppp</th>\n",
       "      <th>country</th>\n",
       "      <th>gini_mean</th>\n",
       "      <th>pj</th>\n",
       "    </tr>\n",
       "  </thead>\n",
       "  <tbody>\n",
       "    <tr>\n",
       "      <th>0</th>\n",
       "      <td>ALB</td>\n",
       "      <td>2008</td>\n",
       "      <td>1</td>\n",
       "      <td>100</td>\n",
       "      <td>728.89795</td>\n",
       "      <td>7297.0</td>\n",
       "      <td>Albania</td>\n",
       "      <td>30.0</td>\n",
       "      <td>0.535604</td>\n",
       "    </tr>\n",
       "    <tr>\n",
       "      <th>1</th>\n",
       "      <td>ALB</td>\n",
       "      <td>2008</td>\n",
       "      <td>2</td>\n",
       "      <td>100</td>\n",
       "      <td>916.66235</td>\n",
       "      <td>7297.0</td>\n",
       "      <td>Albania</td>\n",
       "      <td>30.0</td>\n",
       "      <td>0.535604</td>\n",
       "    </tr>\n",
       "  </tbody>\n",
       "</table>\n",
       "</div>"
      ],
      "text/plain": [
       "  country_code  year  quantile  nb_quantiles     income  gdpppp  country  \\\n",
       "0          ALB  2008         1           100  728.89795  7297.0  Albania   \n",
       "1          ALB  2008         2           100  916.66235  7297.0  Albania   \n",
       "\n",
       "   gini_mean        pj  \n",
       "0       30.0  0.535604  \n",
       "1       30.0  0.535604  "
      ]
     },
     "execution_count": 49,
     "metadata": {},
     "output_type": "execute_result"
    }
   ],
   "source": [
    "df_gini_pj.head(2)"
   ]
  },
  {
   "cell_type": "code",
   "execution_count": 50,
   "metadata": {},
   "outputs": [
    {
     "data": {
      "text/plain": [
       "200"
      ]
     },
     "execution_count": 50,
     "metadata": {},
     "output_type": "execute_result"
    }
   ],
   "source": [
    "df_gini_pj.pj.isnull().sum()"
   ]
  },
  {
   "cell_type": "markdown",
   "metadata": {},
   "source": [
    "#### Identification et implémentation des pj manquants"
   ]
  },
  {
   "cell_type": "markdown",
   "metadata": {},
   "source": [
    "Pays concernés"
   ]
  },
  {
   "cell_type": "code",
   "execution_count": 51,
   "metadata": {
    "scrolled": true
   },
   "outputs": [
    {
     "data": {
      "text/plain": [
       "XKX    100\n",
       "SYR    100\n",
       "Name: country_code, dtype: int64"
      ]
     },
     "execution_count": 51,
     "metadata": {},
     "output_type": "execute_result"
    }
   ],
   "source": [
    "# il manque le pj de SYR etXKX\n",
    "df_gini_pj.loc[df_gini_pj['pj'].isnull(), 'country_code'].value_counts()"
   ]
  },
  {
   "cell_type": "markdown",
   "metadata": {},
   "source": [
    "Récupération des régions des pays sans coef d'élasticité"
   ]
  },
  {
   "cell_type": "code",
   "execution_count": 52,
   "metadata": {},
   "outputs": [],
   "source": [
    "# imporation et lecture du fichier 'gini_province' => donne les régions des pays\n",
    "province_pj_manquant = pd.read_csv('gini_province.csv')"
   ]
  },
  {
   "cell_type": "code",
   "execution_count": 53,
   "metadata": {
    "scrolled": true
   },
   "outputs": [
    {
     "data": {
      "text/html": [
       "<div>\n",
       "<style scoped>\n",
       "    .dataframe tbody tr th:only-of-type {\n",
       "        vertical-align: middle;\n",
       "    }\n",
       "\n",
       "    .dataframe tbody tr th {\n",
       "        vertical-align: top;\n",
       "    }\n",
       "\n",
       "    .dataframe thead th {\n",
       "        text-align: right;\n",
       "    }\n",
       "</style>\n",
       "<table border=\"1\" class=\"dataframe\">\n",
       "  <thead>\n",
       "    <tr style=\"text-align: right;\">\n",
       "      <th></th>\n",
       "      <th>Country Code</th>\n",
       "      <th>Region</th>\n",
       "      <th>IncomeGroup</th>\n",
       "      <th>SpecialNotes</th>\n",
       "      <th>TableName</th>\n",
       "      <th>Unnamed: 5</th>\n",
       "    </tr>\n",
       "  </thead>\n",
       "  <tbody>\n",
       "    <tr>\n",
       "      <th>0</th>\n",
       "      <td>ABW</td>\n",
       "      <td>Latin America &amp; Caribbean</td>\n",
       "      <td>High income</td>\n",
       "      <td>NaN</td>\n",
       "      <td>Aruba</td>\n",
       "      <td>NaN</td>\n",
       "    </tr>\n",
       "    <tr>\n",
       "      <th>1</th>\n",
       "      <td>AFE</td>\n",
       "      <td>NaN</td>\n",
       "      <td>NaN</td>\n",
       "      <td>26 countries, stretching from the Red Sea in t...</td>\n",
       "      <td>Africa Eastern and Southern</td>\n",
       "      <td>NaN</td>\n",
       "    </tr>\n",
       "  </tbody>\n",
       "</table>\n",
       "</div>"
      ],
      "text/plain": [
       "  Country Code                     Region  IncomeGroup  \\\n",
       "0          ABW  Latin America & Caribbean  High income   \n",
       "1          AFE                        NaN          NaN   \n",
       "\n",
       "                                        SpecialNotes  \\\n",
       "0                                                NaN   \n",
       "1  26 countries, stretching from the Red Sea in t...   \n",
       "\n",
       "                     TableName  Unnamed: 5  \n",
       "0                        Aruba         NaN  \n",
       "1  Africa Eastern and Southern         NaN  "
      ]
     },
     "execution_count": 53,
     "metadata": {},
     "output_type": "execute_result"
    }
   ],
   "source": [
    "province_pj_manquant.head(2)"
   ]
  },
  {
   "cell_type": "markdown",
   "metadata": {},
   "source": [
    "Recherche des régions et implémentation des coefs d'élasticité manquants dans \"df_gini_pj\""
   ]
  },
  {
   "cell_type": "code",
   "execution_count": 54,
   "metadata": {
    "scrolled": true
   },
   "outputs": [],
   "source": [
    "# Récupération de la province des 2 pays au pj manquant \n",
    "pays_pj_manquant = ['XKX', 'SYR'] \n",
    "for pj_manquant in pays_pj_manquant :\n",
    "    # recherche de la région \n",
    "    reg = province_pj_manquant[province_pj_manquant['Country Code'] == pj_manquant]['Region'].values\n",
    "    # recherche de l'IGEincome correspondant à la région\n",
    "    pj = df_GDMI_brut_region[df_GDMI_brut_region['region'] == reg[0]]['IGEincome'].values\n",
    "    # implémentation de l'IGEincome dans le dataset\n",
    "    df_gini_pj.loc[(df_gini_pj['pj'].isnull()) & (df_gini_pj['country_code'] == pj_manquant),'pj'] = pj[0]  \n",
    "    "
   ]
  },
  {
   "cell_type": "code",
   "execution_count": 55,
   "metadata": {
    "scrolled": true
   },
   "outputs": [
    {
     "data": {
      "text/plain": [
       "country_code    0\n",
       "year            0\n",
       "quantile        0\n",
       "nb_quantiles    0\n",
       "income          0\n",
       "gdpppp          0\n",
       "country         0\n",
       "gini_mean       0\n",
       "pj              0\n",
       "dtype: int64"
      ]
     },
     "execution_count": 55,
     "metadata": {},
     "output_type": "execute_result"
    }
   ],
   "source": [
    "#  valeurs null => aucune \n",
    "df_gini_pj.isnull().sum()"
   ]
  },
  {
   "cell_type": "code",
   "execution_count": 56,
   "metadata": {},
   "outputs": [
    {
     "data": {
      "text/html": [
       "<div>\n",
       "<style scoped>\n",
       "    .dataframe tbody tr th:only-of-type {\n",
       "        vertical-align: middle;\n",
       "    }\n",
       "\n",
       "    .dataframe tbody tr th {\n",
       "        vertical-align: top;\n",
       "    }\n",
       "\n",
       "    .dataframe thead th {\n",
       "        text-align: right;\n",
       "    }\n",
       "</style>\n",
       "<table border=\"1\" class=\"dataframe\">\n",
       "  <thead>\n",
       "    <tr style=\"text-align: right;\">\n",
       "      <th></th>\n",
       "      <th>country_code</th>\n",
       "      <th>year</th>\n",
       "      <th>quantile</th>\n",
       "      <th>nb_quantiles</th>\n",
       "      <th>income</th>\n",
       "      <th>gdpppp</th>\n",
       "      <th>country</th>\n",
       "      <th>gini_mean</th>\n",
       "      <th>pj</th>\n",
       "    </tr>\n",
       "  </thead>\n",
       "  <tbody>\n",
       "    <tr>\n",
       "      <th>0</th>\n",
       "      <td>ALB</td>\n",
       "      <td>2008</td>\n",
       "      <td>1</td>\n",
       "      <td>100</td>\n",
       "      <td>728.89795</td>\n",
       "      <td>7297.0</td>\n",
       "      <td>Albania</td>\n",
       "      <td>30.0</td>\n",
       "      <td>0.535604</td>\n",
       "    </tr>\n",
       "    <tr>\n",
       "      <th>1</th>\n",
       "      <td>ALB</td>\n",
       "      <td>2008</td>\n",
       "      <td>2</td>\n",
       "      <td>100</td>\n",
       "      <td>916.66235</td>\n",
       "      <td>7297.0</td>\n",
       "      <td>Albania</td>\n",
       "      <td>30.0</td>\n",
       "      <td>0.535604</td>\n",
       "    </tr>\n",
       "  </tbody>\n",
       "</table>\n",
       "</div>"
      ],
      "text/plain": [
       "  country_code  year  quantile  nb_quantiles     income  gdpppp  country  \\\n",
       "0          ALB  2008         1           100  728.89795  7297.0  Albania   \n",
       "1          ALB  2008         2           100  916.66235  7297.0  Albania   \n",
       "\n",
       "   gini_mean        pj  \n",
       "0       30.0  0.535604  \n",
       "1       30.0  0.535604  "
      ]
     },
     "execution_count": 56,
     "metadata": {},
     "output_type": "execute_result"
    }
   ],
   "source": [
    "df_gini_pj.head(2)"
   ]
  },
  {
   "cell_type": "markdown",
   "metadata": {},
   "source": [
    "1. Générez un grand nombre de réalisations d'une variable que nous appellerons selon une loi normale. Le choix de la moyenne et de l'écart-type n'auront pas d'incidence sur le résultat final. ln(yparent) doit être supérieur à 1000 fois le nombre de quantiles \n",
    "2. Générez réalisations du terme d'erreur selon une loi normale de moyenne 0 et d'écart-type\n",
    "<a class=\"anchor\" id=\"gd_nb\"></a>"
   ]
  },
  {
   "cell_type": "code",
   "execution_count": 57,
   "metadata": {},
   "outputs": [],
   "source": [
    "def generate_incomes(n, pj):\n",
    "    # 1. On génère les revenus des parents (exprimés en logs) selon une loi normale.\n",
    "    # La moyenne et variance n'ont aucune incidence sur le résultat final (ie. sur le calcul de la classe de revenu)\n",
    "    ln_y_parent = st.norm(0,1).rvs(size=n)\n",
    "\n",
    "    # 2.Génération d'une réalisation du terme d'erreur epsilon\n",
    "    residues = st.norm(0,1).rvs(size=n)\n",
    "\n",
    "    return np.exp(pj*ln_y_parent + residues), np.exp(ln_y_parent)"
   ]
  },
  {
   "cell_type": "markdown",
   "metadata": {},
   "source": [
    "3. Pour une valeur donnée de **pj** (par exemple 0.9), calculez **y_child**= exp(alpha+pj* ln(y_parent)+ epsilon. \n",
    "    - Le choix de alpha n'a aucune incidence sur le résultat final et peut être supprimé. \n",
    "    - A ce stade, **y_child** contient des valeurs dont l'ordre de grandeur ne reflète pas la réalité, mais cela n'a pas d'influence pour la suite."
   ]
  },
  {
   "cell_type": "code",
   "execution_count": 58,
   "metadata": {
    "scrolled": false
   },
   "outputs": [
    {
     "name": "stdout",
     "output_type": "stream",
     "text": [
      "y_child : [ 4.65621715  0.51891081  2.18499038 ... 18.01615342  5.45719426\n",
      "  1.07491703]\n",
      "y_parent : [1.97193716 0.12718645 0.8802475  ... 7.63122088 2.54540759 1.84918753]\n"
     ]
    }
   ],
   "source": [
    "#  génère les revenus des enfants en fonction de celui des parents et du coefficient d'élasticité\n",
    "nb_quantiles = 100\n",
    "n = 1000 * nb_quantiles\n",
    "pj = 0.9\n",
    "y_child , y_parents = generate_incomes(n, pj)\n",
    "print(f'y_child : {y_child}')\n",
    "print(f'y_parent : {y_parents}')"
   ]
  },
  {
   "cell_type": "markdown",
   "metadata": {},
   "source": [
    "4. Pour chacun des n individus générés, calculez la **classe de revenu c_i_child** ainsi que la **classe de revenu de ses parents c_i_parent** , à partir de **y_child** et **y_parent**"
   ]
  },
  {
   "cell_type": "markdown",
   "metadata": {},
   "source": [
    "Calcul de la classe des revenus des enfants et des parents"
   ]
  },
  {
   "cell_type": "code",
   "execution_count": 59,
   "metadata": {},
   "outputs": [],
   "source": [
    "# Retourne  un array  contenant les quantiles pour revenu_enfant (y_child) (indice commençant à 0)\n",
    "\n",
    "def quantiles(l, nb_quantiles):\n",
    "#  Si l = y_child (revenu_enfant) => longueur du df\n",
    "    size = len(l) \n",
    "    l_sorted = l.copy()\n",
    "    l_sorted = l_sorted.sort_values()\n",
    "    \n",
    "# création des quantiles (pour chaque individu soit n quantiles (de 1 à 10 (np.unique(quantiles))))    \n",
    "    quantiles = np.round(np.arange(1, nb_quantiles+1, nb_quantiles/size) -0.5 +1./size)\n",
    "    \n",
    "# création d'un dict avec key = revenu_enfant (y_child) trié et valeur = quantiles ({0.016845952669623042: 1,... \n",
    "    q_dict = {a:int(b) for a,b in zip(l_sorted,quantiles)}\n",
    "    \n",
    "# retourne  un array  contenant les quantiles pour revenu_enfant (y_child)\n",
    "    return pd.Series([q_dict[e] for e in l])"
   ]
  },
  {
   "cell_type": "code",
   "execution_count": 60,
   "metadata": {},
   "outputs": [],
   "source": [
    "# Retourne un df contenant les revenus enfants, parents et les classes de revenus enfants, parents\n",
    "\n",
    "def compute_quantiles(y_child, y_parents, nb_quantiles):\n",
    "    y_child = pd.Series(y_child)\n",
    "    y_parents = pd.Series(y_parents)\n",
    "# classes avec les quantiles => pour chaque revenu il y a un quantile\n",
    "    c_i_child = quantiles(y_child, nb_quantiles)\n",
    "    c_i_parent = quantiles(y_parents, nb_quantiles)\n",
    "    sample = pd.concat([y_child, y_parents, c_i_child, c_i_parent], axis=1)\n",
    "    sample.columns = [\"y_child\", \"y_parents\", \"c_i_child\",\"c_i_parent\"]\n",
    "\n",
    "    return sample"
   ]
  },
  {
   "cell_type": "code",
   "execution_count": 61,
   "metadata": {
    "scrolled": false
   },
   "outputs": [
    {
     "data": {
      "text/html": [
       "<div>\n",
       "<style scoped>\n",
       "    .dataframe tbody tr th:only-of-type {\n",
       "        vertical-align: middle;\n",
       "    }\n",
       "\n",
       "    .dataframe tbody tr th {\n",
       "        vertical-align: top;\n",
       "    }\n",
       "\n",
       "    .dataframe thead th {\n",
       "        text-align: right;\n",
       "    }\n",
       "</style>\n",
       "<table border=\"1\" class=\"dataframe\">\n",
       "  <thead>\n",
       "    <tr style=\"text-align: right;\">\n",
       "      <th></th>\n",
       "      <th>y_child</th>\n",
       "      <th>y_parents</th>\n",
       "      <th>c_i_child</th>\n",
       "      <th>c_i_parent</th>\n",
       "    </tr>\n",
       "  </thead>\n",
       "  <tbody>\n",
       "    <tr>\n",
       "      <th>13738</th>\n",
       "      <td>0.041265</td>\n",
       "      <td>0.178576</td>\n",
       "      <td>1</td>\n",
       "      <td>5</td>\n",
       "    </tr>\n",
       "    <tr>\n",
       "      <th>85798</th>\n",
       "      <td>0.033826</td>\n",
       "      <td>0.170195</td>\n",
       "      <td>1</td>\n",
       "      <td>4</td>\n",
       "    </tr>\n",
       "    <tr>\n",
       "      <th>85821</th>\n",
       "      <td>0.041709</td>\n",
       "      <td>0.494341</td>\n",
       "      <td>1</td>\n",
       "      <td>25</td>\n",
       "    </tr>\n",
       "    <tr>\n",
       "      <th>75870</th>\n",
       "      <td>0.022781</td>\n",
       "      <td>0.089828</td>\n",
       "      <td>1</td>\n",
       "      <td>1</td>\n",
       "    </tr>\n",
       "    <tr>\n",
       "      <th>85823</th>\n",
       "      <td>0.038196</td>\n",
       "      <td>0.118640</td>\n",
       "      <td>1</td>\n",
       "      <td>2</td>\n",
       "    </tr>\n",
       "    <tr>\n",
       "      <th>...</th>\n",
       "      <td>...</td>\n",
       "      <td>...</td>\n",
       "      <td>...</td>\n",
       "      <td>...</td>\n",
       "    </tr>\n",
       "    <tr>\n",
       "      <th>66691</th>\n",
       "      <td>28.316696</td>\n",
       "      <td>3.907780</td>\n",
       "      <td>100</td>\n",
       "      <td>92</td>\n",
       "    </tr>\n",
       "    <tr>\n",
       "      <th>10120</th>\n",
       "      <td>27.044446</td>\n",
       "      <td>2.291992</td>\n",
       "      <td>100</td>\n",
       "      <td>80</td>\n",
       "    </tr>\n",
       "    <tr>\n",
       "      <th>66589</th>\n",
       "      <td>69.181246</td>\n",
       "      <td>9.359894</td>\n",
       "      <td>100</td>\n",
       "      <td>99</td>\n",
       "    </tr>\n",
       "    <tr>\n",
       "      <th>10442</th>\n",
       "      <td>25.100077</td>\n",
       "      <td>4.674602</td>\n",
       "      <td>100</td>\n",
       "      <td>94</td>\n",
       "    </tr>\n",
       "    <tr>\n",
       "      <th>50861</th>\n",
       "      <td>24.981932</td>\n",
       "      <td>37.651563</td>\n",
       "      <td>100</td>\n",
       "      <td>100</td>\n",
       "    </tr>\n",
       "  </tbody>\n",
       "</table>\n",
       "<p>100000 rows × 4 columns</p>\n",
       "</div>"
      ],
      "text/plain": [
       "         y_child  y_parents  c_i_child  c_i_parent\n",
       "13738   0.041265   0.178576          1           5\n",
       "85798   0.033826   0.170195          1           4\n",
       "85821   0.041709   0.494341          1          25\n",
       "75870   0.022781   0.089828          1           1\n",
       "85823   0.038196   0.118640          1           2\n",
       "...          ...        ...        ...         ...\n",
       "66691  28.316696   3.907780        100          92\n",
       "10120  27.044446   2.291992        100          80\n",
       "66589  69.181246   9.359894        100          99\n",
       "10442  25.100077   4.674602        100          94\n",
       "50861  24.981932  37.651563        100         100\n",
       "\n",
       "[100000 rows x 4 columns]"
      ]
     },
     "execution_count": 61,
     "metadata": {},
     "output_type": "execute_result"
    }
   ],
   "source": [
    "# échantillon classe de revenu enfants - parents\n",
    "sample = compute_quantiles(y_child, y_parents, nb_quantiles)\n",
    "sample.sort_values('c_i_child')"
   ]
  },
  {
   "cell_type": "markdown",
   "metadata": {},
   "source": [
    "- 5. A partir de cette dernière information, estimez pour chaque c_i_child la distribution conditionnelle de c_i_parent. \n",
    "    - Par exemple, si vous observez **6 individus** ayant à la fois **c_i_child \t= 5** et **c_i_parent = 8**, et que **200 individus sur 20000** ont **c_i_child = 5**, alors la probabilité d'avoir c_i_parent = 8 sachant c_i_child = 5 et sachant pj=0.9 sera estimée à **6/200** (On note cette probabilité comme ceci : P(c_i_parent=8|c_i_child = 5, pj=0.9)=0.03). \n",
    "    - Si votre population est divisée en c classes de revenu, vous devriez alors avoir c² estimations de ces probabilités conditionnelles, pour chaque pays.\n"
   ]
  },
  {
   "cell_type": "code",
   "execution_count": 62,
   "metadata": {},
   "outputs": [],
   "source": [
    "# Retourne une liste des fréquences des différentes combinaisons de classes enfants-parents \n",
    "\n",
    "def distribution(counts, nb_quantiles):\n",
    "    distrib = []\n",
    "    total = counts[\"counts\"].sum() \n",
    " \n",
    "    if total == 0 :\n",
    "        return [0] * nb_quantiles    \n",
    "\n",
    "    for q_p in range(1, nb_quantiles+1):\n",
    "# subset : df avec le count de c_i_parent == quantile(q_p) pour les différents quantiles de c_i_child \n",
    "# subset : c_i_child -  c_i_parent - counts\n",
    "        subset = counts[counts.c_i_parent == q_p]\n",
    "    \n",
    "# si le subset existe, calcul de la fréquence de la combinaison c_i_child - c_i_parent (counts combi / total)\n",
    "        if len(subset):\n",
    "            nb = subset[\"counts\"].values[0]\n",
    "            distrib += [nb / total]\n",
    "# sinon la fréquence est nulle \n",
    "        else:\n",
    "            distrib += [0]\n",
    "            \n",
    "    return distrib   "
   ]
  },
  {
   "cell_type": "code",
   "execution_count": 63,
   "metadata": {},
   "outputs": [],
   "source": [
    "# Comptage des différentes combinaisons de classes enfants-parents \n",
    "\n",
    "def conditional_distributions(sample, nb_quantiles):\n",
    "# création d'un df qui indique le total de chaque combinaison de classes enfants-parents\n",
    "    counts = sample.groupby([\"c_i_child\",\"c_i_parent\"]).apply(len)\n",
    "    counts = counts.reset_index()\n",
    "    counts.columns = [\"c_i_child\",\"c_i_parent\",\"counts\"] \n",
    "    \n",
    "# création d'une matrice qui donne distribution du c_i_parent pour chaque quantile enfant    \n",
    "    mat = []\n",
    "    for child_quantile in np.arange(nb_quantiles)+1:\n",
    "        subset = counts[counts.c_i_child == child_quantile]\n",
    "        mat += [distribution(subset, nb_quantiles)]\n",
    "\n",
    "    return np.array(mat) \n",
    "   "
   ]
  },
  {
   "cell_type": "code",
   "execution_count": 64,
   "metadata": {
    "scrolled": true
   },
   "outputs": [
    {
     "data": {
      "text/html": [
       "<div>\n",
       "<style scoped>\n",
       "    .dataframe tbody tr th:only-of-type {\n",
       "        vertical-align: middle;\n",
       "    }\n",
       "\n",
       "    .dataframe tbody tr th {\n",
       "        vertical-align: top;\n",
       "    }\n",
       "\n",
       "    .dataframe thead th {\n",
       "        text-align: right;\n",
       "    }\n",
       "</style>\n",
       "<table border=\"1\" class=\"dataframe\">\n",
       "  <thead>\n",
       "    <tr style=\"text-align: right;\">\n",
       "      <th></th>\n",
       "      <th>c_i_child</th>\n",
       "      <th>c_i_parent</th>\n",
       "      <th>counts</th>\n",
       "    </tr>\n",
       "  </thead>\n",
       "  <tbody>\n",
       "    <tr>\n",
       "      <th>9088</th>\n",
       "      <td>100</td>\n",
       "      <td>100</td>\n",
       "      <td>251</td>\n",
       "    </tr>\n",
       "    <tr>\n",
       "      <th>4636</th>\n",
       "      <td>51</td>\n",
       "      <td>100</td>\n",
       "      <td>3</td>\n",
       "    </tr>\n",
       "    <tr>\n",
       "      <th>6979</th>\n",
       "      <td>75</td>\n",
       "      <td>100</td>\n",
       "      <td>7</td>\n",
       "    </tr>\n",
       "    <tr>\n",
       "      <th>4042</th>\n",
       "      <td>45</td>\n",
       "      <td>100</td>\n",
       "      <td>1</td>\n",
       "    </tr>\n",
       "    <tr>\n",
       "      <th>5032</th>\n",
       "      <td>55</td>\n",
       "      <td>100</td>\n",
       "      <td>2</td>\n",
       "    </tr>\n",
       "    <tr>\n",
       "      <th>...</th>\n",
       "      <td>...</td>\n",
       "      <td>...</td>\n",
       "      <td>...</td>\n",
       "    </tr>\n",
       "    <tr>\n",
       "      <th>2683</th>\n",
       "      <td>32</td>\n",
       "      <td>1</td>\n",
       "      <td>5</td>\n",
       "    </tr>\n",
       "    <tr>\n",
       "      <th>2586</th>\n",
       "      <td>31</td>\n",
       "      <td>1</td>\n",
       "      <td>6</td>\n",
       "    </tr>\n",
       "    <tr>\n",
       "      <th>668</th>\n",
       "      <td>10</td>\n",
       "      <td>1</td>\n",
       "      <td>24</td>\n",
       "    </tr>\n",
       "    <tr>\n",
       "      <th>2489</th>\n",
       "      <td>30</td>\n",
       "      <td>1</td>\n",
       "      <td>2</td>\n",
       "    </tr>\n",
       "    <tr>\n",
       "      <th>0</th>\n",
       "      <td>1</td>\n",
       "      <td>1</td>\n",
       "      <td>253</td>\n",
       "    </tr>\n",
       "  </tbody>\n",
       "</table>\n",
       "<p>9089 rows × 3 columns</p>\n",
       "</div>"
      ],
      "text/plain": [
       "      c_i_child  c_i_parent  counts\n",
       "9088        100         100     251\n",
       "4636         51         100       3\n",
       "6979         75         100       7\n",
       "4042         45         100       1\n",
       "5032         55         100       2\n",
       "...         ...         ...     ...\n",
       "2683         32           1       5\n",
       "2586         31           1       6\n",
       "668          10           1      24\n",
       "2489         30           1       2\n",
       "0             1           1     253\n",
       "\n",
       "[9089 rows x 3 columns]"
      ]
     },
     "execution_count": 64,
     "metadata": {},
     "output_type": "execute_result"
    }
   ],
   "source": [
    "counts = sample.groupby([\"c_i_child\",\"c_i_parent\"]).apply(len)\n",
    "counts = counts.reset_index()\n",
    "counts.columns = [\"c_i_child\",\"c_i_parent\",\"counts\"] \n",
    "counts.sort_values('c_i_parent', ascending=False)"
   ]
  },
  {
   "cell_type": "code",
   "execution_count": 65,
   "metadata": {
    "scrolled": true
   },
   "outputs": [],
   "source": [
    "distrib = []\n",
    "total = counts[\"counts\"].sum() \n",
    "\n",
    "for q_p in range(1, nb_quantiles+1):\n",
    "# subset : df avec le count de c_i_parent == quantile(q_p) pour les différents quantiles de c_i_child \n",
    "# subset : c_i_child -  c_i_parent - counts\n",
    "    subset = counts[counts.c_i_parent == q_p]\n",
    "    \n",
    "# si le subset existe, calcul de la fréquence de la combinaison c_i_child - c_i_parent (counts combi / total)\n",
    "    if len(subset):\n",
    "        nb = subset[\"counts\"].values[0]\n",
    "        distrib += [nb / total]\n",
    "    else:\n",
    "        distrib += [0]\n"
   ]
  },
  {
   "cell_type": "code",
   "execution_count": 66,
   "metadata": {},
   "outputs": [],
   "source": [
    "def plot_conditional_distributions(p, cd, nb_quantiles):\n",
    "    plt.figure()  \n",
    "    # La ligne suivante sert à afficher un graphique en \"stack bars\", sur ce modèle : https://matplotlib.org/gallery/lines_bars_and_markers/bar_stacked.html    cumul = np.array([0] * nb_quantiles) \n",
    "    cumul = np.array([0] * nb_quantiles)\n",
    "    for i, child_quantile in enumerate(cd):\n",
    "        plt.bar(np.arange(nb_quantiles)+1, child_quantile, bottom=cumul, width=0.95, label = str(i+1) +\"e\")\n",
    "        cumul = cumul + np.array(child_quantile)\n",
    "    plt.axis([.5, nb_quantiles*1.3 ,0 ,1])\n",
    "    plt.title(\"p=\" + str(p))\n",
    "    plt.legend()\n",
    "    plt.xlabel(\"quantile parents\")\n",
    "    plt.ylabel(\"probabilité du quantile enfant\")\n",
    "\n",
    "    plt.show()"
   ]
  },
  {
   "cell_type": "code",
   "execution_count": 67,
   "metadata": {},
   "outputs": [],
   "source": [
    "def proba_cond(c_i_parent, c_i_child, mat):\n",
    "    return mat[c_i_child, c_i_parent]"
   ]
  },
  {
   "cell_type": "code",
   "execution_count": 106,
   "metadata": {
    "scrolled": true
   },
   "outputs": [
    {
     "data": {
      "image/png": "[encoded data removed]",
      "text/plain": [
       "<Figure size 432x288 with 1 Axes>"
      ]
     },
     "metadata": {},
     "output_type": "display_data"
    },
    {
     "name": "stdout",
     "output_type": "stream",
     "text": [
      "[[0.437 0.224 0.134 0.083 0.053 0.041 0.015 0.01  0.001 0.002]\n",
      " [0.217 0.209 0.171 0.132 0.092 0.084 0.044 0.032 0.014 0.005]\n",
      " [0.138 0.169 0.166 0.144 0.121 0.088 0.081 0.05  0.031 0.012]\n",
      " [0.087 0.127 0.137 0.133 0.134 0.119 0.121 0.072 0.054 0.016]\n",
      " [0.043 0.111 0.119 0.145 0.121 0.127 0.11  0.109 0.07  0.045]\n",
      " [0.041 0.068 0.096 0.133 0.135 0.111 0.124 0.146 0.094 0.052]\n",
      " [0.02  0.047 0.08  0.105 0.111 0.119 0.151 0.132 0.139 0.096]\n",
      " [0.012 0.026 0.052 0.067 0.114 0.132 0.145 0.149 0.17  0.133]\n",
      " [0.005 0.012 0.037 0.044 0.081 0.125 0.134 0.158 0.196 0.208]\n",
      " [0.    0.007 0.008 0.014 0.038 0.054 0.075 0.142 0.231 0.431]]\n",
      "\n",
      "P(c_i_parent = 8 | c_i_child = 5, pj = 0.9) = 0.094\n"
     ]
    }
   ],
   "source": [
    "# coef élasticité fort => mobilité faible\n",
    "pj = 0.9                 # coefficient d'élasticité du pays j\n",
    "nb_quantiles = 10      # nombre de quantiles (nombre de classes de revenu)\n",
    "n  = 1000*nb_quantiles   # taille de l'échantillon\n",
    "y_child, y_parents = generate_incomes(n, pj)\n",
    "sample = compute_quantiles(y_child, y_parents, nb_quantiles)\n",
    "cd = conditional_distributions(sample, nb_quantiles)\n",
    "plot_conditional_distributions(pj, cd, nb_quantiles) # Cette instruction prendra du temps si nb_quantiles > 10\n",
    "print(cd)\n",
    "c_i_child = 5 \n",
    "c_i_parent = 8\n",
    "p = proba_cond(c_i_parent, c_i_child, cd)\n",
    "print(\"\\nP(c_i_parent = {} | c_i_child = {}, pj = {}) = {}\".format(c_i_parent, c_i_child, pj, p))"
   ]
  },
  {
   "cell_type": "code",
   "execution_count": 69,
   "metadata": {
    "scrolled": false
   },
   "outputs": [
    {
     "name": "stdout",
     "output_type": "stream",
     "text": [
      "[[0.455 0.232 0.135 0.083 0.047 0.026 0.012 0.01  0.   ]\n",
      " [0.246 0.207 0.174 0.145 0.096 0.065 0.041 0.021 0.005]\n",
      " [0.118 0.164 0.174 0.15  0.152 0.107 0.074 0.049 0.012]\n",
      " [0.083 0.153 0.139 0.154 0.132 0.135 0.102 0.072 0.03 ]\n",
      " [0.053 0.102 0.132 0.131 0.137 0.153 0.126 0.104 0.062]\n",
      " [0.032 0.065 0.107 0.141 0.144 0.153 0.147 0.134 0.077]\n",
      " [0.008 0.052 0.081 0.107 0.144 0.145 0.16  0.168 0.135]\n",
      " [0.004 0.014 0.048 0.06  0.092 0.134 0.196 0.231 0.221]\n",
      " [0.001 0.011 0.01  0.029 0.056 0.082 0.142 0.211 0.458]]\n"
     ]
    }
   ],
   "source": [
    "print(f'{cd}')"
   ]
  },
  {
   "cell_type": "code",
   "execution_count": 70,
   "metadata": {},
   "outputs": [
    {
     "data": {
      "text/plain": [
       "0.455"
      ]
     },
     "execution_count": 70,
     "metadata": {},
     "output_type": "execute_result"
    }
   ],
   "source": [
    "# cacul de la probabilité conditionnelle pour pj fort\n",
    "c_i_child = 0\n",
    "c_i_parent = 0\n",
    "p = proba_cond(c_i_parent, c_i_child, cd)\n",
    "p"
   ]
  },
  {
   "cell_type": "code",
   "execution_count": 71,
   "metadata": {},
   "outputs": [
    {
     "data": {
      "text/plain": [
       "0.0"
      ]
     },
     "execution_count": 71,
     "metadata": {},
     "output_type": "execute_result"
    }
   ],
   "source": [
    "c_i_child = 0\n",
    "c_i_parent = 8\n",
    "p = proba_cond(c_i_parent, c_i_child, cd)\n",
    "p"
   ]
  },
  {
   "cell_type": "markdown",
   "metadata": {},
   "source": [
    "Remarque : fort coef d'élasticité équivaut à une mobilité faible (p faible)"
   ]
  },
  {
   "cell_type": "code",
   "execution_count": 72,
   "metadata": {},
   "outputs": [
    {
     "data": {
      "text/html": [
       "<div>\n",
       "<style scoped>\n",
       "    .dataframe tbody tr th:only-of-type {\n",
       "        vertical-align: middle;\n",
       "    }\n",
       "\n",
       "    .dataframe tbody tr th {\n",
       "        vertical-align: top;\n",
       "    }\n",
       "\n",
       "    .dataframe thead th {\n",
       "        text-align: right;\n",
       "    }\n",
       "</style>\n",
       "<table border=\"1\" class=\"dataframe\">\n",
       "  <thead>\n",
       "    <tr style=\"text-align: right;\">\n",
       "      <th></th>\n",
       "      <th>y_child</th>\n",
       "      <th>y_parents</th>\n",
       "      <th>c_i_child</th>\n",
       "      <th>c_i_parent</th>\n",
       "    </tr>\n",
       "  </thead>\n",
       "  <tbody>\n",
       "    <tr>\n",
       "      <th>0</th>\n",
       "      <td>0.076126</td>\n",
       "      <td>0.600213</td>\n",
       "      <td>1</td>\n",
       "      <td>3</td>\n",
       "    </tr>\n",
       "    <tr>\n",
       "      <th>1</th>\n",
       "      <td>0.491257</td>\n",
       "      <td>0.635033</td>\n",
       "      <td>3</td>\n",
       "      <td>3</td>\n",
       "    </tr>\n",
       "    <tr>\n",
       "      <th>2</th>\n",
       "      <td>0.407994</td>\n",
       "      <td>0.496451</td>\n",
       "      <td>3</td>\n",
       "      <td>3</td>\n",
       "    </tr>\n",
       "    <tr>\n",
       "      <th>3</th>\n",
       "      <td>1.763595</td>\n",
       "      <td>1.961393</td>\n",
       "      <td>6</td>\n",
       "      <td>7</td>\n",
       "    </tr>\n",
       "    <tr>\n",
       "      <th>4</th>\n",
       "      <td>0.299989</td>\n",
       "      <td>1.120775</td>\n",
       "      <td>2</td>\n",
       "      <td>5</td>\n",
       "    </tr>\n",
       "  </tbody>\n",
       "</table>\n",
       "</div>"
      ],
      "text/plain": [
       "    y_child  y_parents  c_i_child  c_i_parent\n",
       "0  0.076126   0.600213          1           3\n",
       "1  0.491257   0.635033          3           3\n",
       "2  0.407994   0.496451          3           3\n",
       "3  1.763595   1.961393          6           7\n",
       "4  0.299989   1.120775          2           5"
      ]
     },
     "execution_count": 72,
     "metadata": {},
     "output_type": "execute_result"
    }
   ],
   "source": [
    "sample.head()"
   ]
  },
  {
   "cell_type": "code",
   "execution_count": 73,
   "metadata": {
    "scrolled": false
   },
   "outputs": [
    {
     "data": {
      "text/html": [
       "<div>\n",
       "<style scoped>\n",
       "    .dataframe tbody tr th:only-of-type {\n",
       "        vertical-align: middle;\n",
       "    }\n",
       "\n",
       "    .dataframe tbody tr th {\n",
       "        vertical-align: top;\n",
       "    }\n",
       "\n",
       "    .dataframe thead th {\n",
       "        text-align: right;\n",
       "    }\n",
       "</style>\n",
       "<table border=\"1\" class=\"dataframe\">\n",
       "  <thead>\n",
       "    <tr style=\"text-align: right;\">\n",
       "      <th></th>\n",
       "      <th>c_i_child</th>\n",
       "      <th>c_i_parent</th>\n",
       "      <th>counts</th>\n",
       "    </tr>\n",
       "  </thead>\n",
       "  <tbody>\n",
       "    <tr>\n",
       "      <th>0</th>\n",
       "      <td>1</td>\n",
       "      <td>1</td>\n",
       "      <td>455</td>\n",
       "    </tr>\n",
       "    <tr>\n",
       "      <th>1</th>\n",
       "      <td>1</td>\n",
       "      <td>2</td>\n",
       "      <td>232</td>\n",
       "    </tr>\n",
       "    <tr>\n",
       "      <th>2</th>\n",
       "      <td>1</td>\n",
       "      <td>3</td>\n",
       "      <td>135</td>\n",
       "    </tr>\n",
       "    <tr>\n",
       "      <th>3</th>\n",
       "      <td>1</td>\n",
       "      <td>4</td>\n",
       "      <td>83</td>\n",
       "    </tr>\n",
       "    <tr>\n",
       "      <th>4</th>\n",
       "      <td>1</td>\n",
       "      <td>5</td>\n",
       "      <td>47</td>\n",
       "    </tr>\n",
       "    <tr>\n",
       "      <th>...</th>\n",
       "      <td>...</td>\n",
       "      <td>...</td>\n",
       "      <td>...</td>\n",
       "    </tr>\n",
       "    <tr>\n",
       "      <th>75</th>\n",
       "      <td>9</td>\n",
       "      <td>5</td>\n",
       "      <td>56</td>\n",
       "    </tr>\n",
       "    <tr>\n",
       "      <th>76</th>\n",
       "      <td>9</td>\n",
       "      <td>6</td>\n",
       "      <td>82</td>\n",
       "    </tr>\n",
       "    <tr>\n",
       "      <th>77</th>\n",
       "      <td>9</td>\n",
       "      <td>7</td>\n",
       "      <td>142</td>\n",
       "    </tr>\n",
       "    <tr>\n",
       "      <th>78</th>\n",
       "      <td>9</td>\n",
       "      <td>8</td>\n",
       "      <td>211</td>\n",
       "    </tr>\n",
       "    <tr>\n",
       "      <th>79</th>\n",
       "      <td>9</td>\n",
       "      <td>9</td>\n",
       "      <td>458</td>\n",
       "    </tr>\n",
       "  </tbody>\n",
       "</table>\n",
       "<p>80 rows × 3 columns</p>\n",
       "</div>"
      ],
      "text/plain": [
       "    c_i_child  c_i_parent  counts\n",
       "0           1           1     455\n",
       "1           1           2     232\n",
       "2           1           3     135\n",
       "3           1           4      83\n",
       "4           1           5      47\n",
       "..        ...         ...     ...\n",
       "75          9           5      56\n",
       "76          9           6      82\n",
       "77          9           7     142\n",
       "78          9           8     211\n",
       "79          9           9     458\n",
       "\n",
       "[80 rows x 3 columns]"
      ]
     },
     "execution_count": 73,
     "metadata": {},
     "output_type": "execute_result"
    }
   ],
   "source": [
    "counts = sample.groupby([\"c_i_child\",\"c_i_parent\"]).apply(len).reset_index()\n",
    "counts.columns = [\"c_i_child\",\"c_i_parent\",\"counts\"]\n",
    "counts"
   ]
  },
  {
   "cell_type": "code",
   "execution_count": 74,
   "metadata": {},
   "outputs": [
    {
     "data": {
      "text/plain": [
       "[[0.455, 0.232, 0.135, 0.083, 0.047, 0.026, 0.012, 0.01, 0],\n",
       " [0.246, 0.207, 0.174, 0.145, 0.096, 0.065, 0.041, 0.021, 0.005],\n",
       " [0.118, 0.164, 0.174, 0.15, 0.152, 0.107, 0.074, 0.049, 0.012],\n",
       " [0.083, 0.153, 0.139, 0.154, 0.132, 0.135, 0.102, 0.072, 0.03],\n",
       " [0.053, 0.102, 0.132, 0.131, 0.137, 0.153, 0.126, 0.104, 0.062],\n",
       " [0.032, 0.065, 0.107, 0.141, 0.144, 0.153, 0.147, 0.134, 0.077],\n",
       " [0.008, 0.052, 0.081, 0.107, 0.144, 0.145, 0.16, 0.168, 0.135],\n",
       " [0.004, 0.014, 0.048, 0.06, 0.092, 0.134, 0.196, 0.231, 0.221],\n",
       " [0.001, 0.011, 0.01, 0.029, 0.056, 0.082, 0.142, 0.211, 0.458]]"
      ]
     },
     "execution_count": 74,
     "metadata": {},
     "output_type": "execute_result"
    }
   ],
   "source": [
    "# matrice\n",
    "mat = []\n",
    "for child_quantile in np.arange(nb_quantiles)+1:\n",
    "    subset = counts[counts['c_i_child'] == child_quantile]\n",
    "    mat += [distribution(subset, nb_quantiles)]\n",
    "mat"
   ]
  },
  {
   "cell_type": "code",
   "execution_count": 75,
   "metadata": {},
   "outputs": [
    {
     "data": {
      "text/plain": [
       "8"
      ]
     },
     "execution_count": 75,
     "metadata": {},
     "output_type": "execute_result"
    }
   ],
   "source": [
    "c_i_parent"
   ]
  },
  {
   "cell_type": "code",
   "execution_count": 76,
   "metadata": {},
   "outputs": [
    {
     "data": {
      "text/plain": [
       "0"
      ]
     },
     "execution_count": 76,
     "metadata": {},
     "output_type": "execute_result"
    }
   ],
   "source": [
    "c_i_child"
   ]
  },
  {
   "cell_type": "code",
   "execution_count": 77,
   "metadata": {},
   "outputs": [
    {
     "data": {
      "text/plain": [
       "array([[0.455, 0.232, 0.135, 0.083, 0.047, 0.026, 0.012, 0.01 , 0.   ],\n",
       "       [0.246, 0.207, 0.174, 0.145, 0.096, 0.065, 0.041, 0.021, 0.005],\n",
       "       [0.118, 0.164, 0.174, 0.15 , 0.152, 0.107, 0.074, 0.049, 0.012],\n",
       "       [0.083, 0.153, 0.139, 0.154, 0.132, 0.135, 0.102, 0.072, 0.03 ],\n",
       "       [0.053, 0.102, 0.132, 0.131, 0.137, 0.153, 0.126, 0.104, 0.062],\n",
       "       [0.032, 0.065, 0.107, 0.141, 0.144, 0.153, 0.147, 0.134, 0.077],\n",
       "       [0.008, 0.052, 0.081, 0.107, 0.144, 0.145, 0.16 , 0.168, 0.135],\n",
       "       [0.004, 0.014, 0.048, 0.06 , 0.092, 0.134, 0.196, 0.231, 0.221],\n",
       "       [0.001, 0.011, 0.01 , 0.029, 0.056, 0.082, 0.142, 0.211, 0.458]])"
      ]
     },
     "execution_count": 77,
     "metadata": {},
     "output_type": "execute_result"
    }
   ],
   "source": [
    "cd"
   ]
  },
  {
   "cell_type": "code",
   "execution_count": 78,
   "metadata": {},
   "outputs": [
    {
     "data": {
      "text/plain": [
       "0.0"
      ]
     },
     "execution_count": 78,
     "metadata": {},
     "output_type": "execute_result"
    }
   ],
   "source": [
    "p = proba_cond(c_i_parent, c_i_child, cd)\n",
    "p"
   ]
  },
  {
   "cell_type": "code",
   "execution_count": 79,
   "metadata": {
    "scrolled": true
   },
   "outputs": [
    {
     "data": {
      "text/plain": [
       "array([1, 3, 3, ..., 9, 4, 2], dtype=int64)"
      ]
     },
     "execution_count": 79,
     "metadata": {},
     "output_type": "execute_result"
    }
   ],
   "source": [
    "sample.c_i_child.values"
   ]
  },
  {
   "cell_type": "code",
   "execution_count": 107,
   "metadata": {},
   "outputs": [
    {
     "data": {
      "image/png": "[encoded data removed]",
      "text/plain": [
       "<Figure size 432x288 with 1 Axes>"
      ]
     },
     "metadata": {},
     "output_type": "display_data"
    },
    {
     "name": "stdout",
     "output_type": "stream",
     "text": [
      "[[0.136 0.122 0.116 0.095 0.105 0.09  0.091 0.092 0.082 0.071]\n",
      " [0.122 0.119 0.127 0.102 0.1   0.095 0.092 0.078 0.083 0.082]\n",
      " [0.107 0.104 0.108 0.104 0.089 0.105 0.103 0.093 0.09  0.097]\n",
      " [0.097 0.096 0.106 0.111 0.085 0.12  0.099 0.101 0.094 0.091]\n",
      " [0.097 0.098 0.095 0.103 0.102 0.102 0.097 0.102 0.111 0.093]\n",
      " [0.096 0.095 0.093 0.111 0.103 0.1   0.105 0.094 0.094 0.109]\n",
      " [0.087 0.082 0.101 0.096 0.117 0.09  0.106 0.112 0.099 0.11 ]\n",
      " [0.087 0.095 0.083 0.089 0.112 0.096 0.102 0.098 0.119 0.119]\n",
      " [0.096 0.103 0.091 0.093 0.088 0.088 0.101 0.122 0.107 0.111]\n",
      " [0.075 0.086 0.08  0.096 0.099 0.114 0.104 0.108 0.121 0.117]]\n",
      "\n",
      "P(c_i_parent = 8 | c_i_child = 5, pj = 0.1) = 0.094\n"
     ]
    }
   ],
   "source": [
    "# coef d'élasticité faible => forte mobilité\n",
    "pj = 0.1                 # coefficient d'élasticité du pays j\n",
    "nb_quantiles = 10     # nombre de quantiles (nombre de classes de revenu)\n",
    "n  = 1000*nb_quantiles   # taille de l'échantillon\n",
    "y_child, y_parents = generate_incomes(n, pj)\n",
    "sample = compute_quantiles(y_child, y_parents, nb_quantiles)\n",
    "cd = conditional_distributions(sample, nb_quantiles)\n",
    "plot_conditional_distributions(pj, cd, nb_quantiles) # Cette instruction prendra du temps si nb_quantiles > 10\n",
    "print(cd)\n",
    "c_i_child = 5 \n",
    "c_i_parent = 8\n",
    "p = proba_cond(c_i_parent, c_i_child, cd)\n",
    "print(\"\\nP(c_i_parent = {} | c_i_child = {}, pj = {}) = {}\".format(c_i_parent, c_i_child, pj, p))"
   ]
  },
  {
   "cell_type": "markdown",
   "metadata": {},
   "source": [
    "7. Éventuellement et pour éviter toute confusion, effacez les individus que vous venez de générer (nous n'en avons plus besoin), et ne gardez que les distributions conditionnelles"
   ]
  },
  {
   "cell_type": "code",
   "execution_count": 81,
   "metadata": {},
   "outputs": [],
   "source": [
    "del y_child, y_parents"
   ]
  },
  {
   "cell_type": "markdown",
   "metadata": {},
   "source": [
    "8. Nous allons maintenant travailler sur un nouvel échantillon. Celui-ci sera créé à partir de la WID. Pour **chaque individu de la Wold Income Distribution, créez-en 499 \"clones\"**. La taille de votre nouvel échantillon sera donc 500 fois plus grand que celui de la Wold Income Distribution"
   ]
  },
  {
   "cell_type": "code",
   "execution_count": 82,
   "metadata": {
    "scrolled": true
   },
   "outputs": [
    {
     "data": {
      "text/html": [
       "<div>\n",
       "<style scoped>\n",
       "    .dataframe tbody tr th:only-of-type {\n",
       "        vertical-align: middle;\n",
       "    }\n",
       "\n",
       "    .dataframe tbody tr th {\n",
       "        vertical-align: top;\n",
       "    }\n",
       "\n",
       "    .dataframe thead th {\n",
       "        text-align: right;\n",
       "    }\n",
       "</style>\n",
       "<table border=\"1\" class=\"dataframe\">\n",
       "  <thead>\n",
       "    <tr style=\"text-align: right;\">\n",
       "      <th></th>\n",
       "      <th>country_code</th>\n",
       "      <th>year</th>\n",
       "      <th>quantile</th>\n",
       "      <th>nb_quantiles</th>\n",
       "      <th>income</th>\n",
       "      <th>gdpppp</th>\n",
       "      <th>country</th>\n",
       "      <th>gini_mean</th>\n",
       "      <th>pj</th>\n",
       "    </tr>\n",
       "  </thead>\n",
       "  <tbody>\n",
       "    <tr>\n",
       "      <th>0</th>\n",
       "      <td>ALB</td>\n",
       "      <td>2008</td>\n",
       "      <td>1</td>\n",
       "      <td>100</td>\n",
       "      <td>728.89795</td>\n",
       "      <td>7297.0</td>\n",
       "      <td>Albania</td>\n",
       "      <td>30.0</td>\n",
       "      <td>0.535604</td>\n",
       "    </tr>\n",
       "    <tr>\n",
       "      <th>1</th>\n",
       "      <td>ALB</td>\n",
       "      <td>2008</td>\n",
       "      <td>2</td>\n",
       "      <td>100</td>\n",
       "      <td>916.66235</td>\n",
       "      <td>7297.0</td>\n",
       "      <td>Albania</td>\n",
       "      <td>30.0</td>\n",
       "      <td>0.535604</td>\n",
       "    </tr>\n",
       "  </tbody>\n",
       "</table>\n",
       "</div>"
      ],
      "text/plain": [
       "  country_code  year  quantile  nb_quantiles     income  gdpppp  country  \\\n",
       "0          ALB  2008         1           100  728.89795  7297.0  Albania   \n",
       "1          ALB  2008         2           100  916.66235  7297.0  Albania   \n",
       "\n",
       "   gini_mean        pj  \n",
       "0       30.0  0.535604  \n",
       "1       30.0  0.535604  "
      ]
     },
     "execution_count": 82,
     "metadata": {},
     "output_type": "execute_result"
    }
   ],
   "source": [
    "df_gini_pj.head(2)"
   ]
  },
  {
   "cell_type": "code",
   "execution_count": 83,
   "metadata": {},
   "outputs": [],
   "source": [
    "df_gini_pj_ind = df_gini_pj.copy()"
   ]
  },
  {
   "cell_type": "code",
   "execution_count": 84,
   "metadata": {
    "scrolled": false
   },
   "outputs": [
    {
     "data": {
      "text/html": [
       "<div>\n",
       "<style scoped>\n",
       "    .dataframe tbody tr th:only-of-type {\n",
       "        vertical-align: middle;\n",
       "    }\n",
       "\n",
       "    .dataframe tbody tr th {\n",
       "        vertical-align: top;\n",
       "    }\n",
       "\n",
       "    .dataframe thead th {\n",
       "        text-align: right;\n",
       "    }\n",
       "</style>\n",
       "<table border=\"1\" class=\"dataframe\">\n",
       "  <thead>\n",
       "    <tr style=\"text-align: right;\">\n",
       "      <th></th>\n",
       "      <th>country_code</th>\n",
       "      <th>quantile</th>\n",
       "      <th>income</th>\n",
       "      <th>pj</th>\n",
       "      <th>country</th>\n",
       "      <th>gini_mean</th>\n",
       "    </tr>\n",
       "  </thead>\n",
       "  <tbody>\n",
       "    <tr>\n",
       "      <th>0</th>\n",
       "      <td>ALB</td>\n",
       "      <td>1</td>\n",
       "      <td>728.89795</td>\n",
       "      <td>0.535604</td>\n",
       "      <td>Albania</td>\n",
       "      <td>30.0</td>\n",
       "    </tr>\n",
       "    <tr>\n",
       "      <th>1</th>\n",
       "      <td>ALB</td>\n",
       "      <td>2</td>\n",
       "      <td>916.66235</td>\n",
       "      <td>0.535604</td>\n",
       "      <td>Albania</td>\n",
       "      <td>30.0</td>\n",
       "    </tr>\n",
       "    <tr>\n",
       "      <th>2</th>\n",
       "      <td>ALB</td>\n",
       "      <td>3</td>\n",
       "      <td>1010.91600</td>\n",
       "      <td>0.535604</td>\n",
       "      <td>Albania</td>\n",
       "      <td>30.0</td>\n",
       "    </tr>\n",
       "    <tr>\n",
       "      <th>3</th>\n",
       "      <td>ALB</td>\n",
       "      <td>4</td>\n",
       "      <td>1086.90780</td>\n",
       "      <td>0.535604</td>\n",
       "      <td>Albania</td>\n",
       "      <td>30.0</td>\n",
       "    </tr>\n",
       "    <tr>\n",
       "      <th>4</th>\n",
       "      <td>ALB</td>\n",
       "      <td>5</td>\n",
       "      <td>1132.69970</td>\n",
       "      <td>0.535604</td>\n",
       "      <td>Albania</td>\n",
       "      <td>30.0</td>\n",
       "    </tr>\n",
       "  </tbody>\n",
       "</table>\n",
       "</div>"
      ],
      "text/plain": [
       "  country_code  quantile      income        pj  country  gini_mean\n",
       "0          ALB         1   728.89795  0.535604  Albania       30.0\n",
       "1          ALB         2   916.66235  0.535604  Albania       30.0\n",
       "2          ALB         3  1010.91600  0.535604  Albania       30.0\n",
       "3          ALB         4  1086.90780  0.535604  Albania       30.0\n",
       "4          ALB         5  1132.69970  0.535604  Albania       30.0"
      ]
     },
     "execution_count": 84,
     "metadata": {},
     "output_type": "execute_result"
    }
   ],
   "source": [
    "df_gini_pj_ind = df_gini_pj_ind[['country_code','quantile', 'income', 'pj', 'country', 'gini_mean']]\n",
    "df_gini_pj_ind.head(5)"
   ]
  },
  {
   "cell_type": "code",
   "execution_count": 85,
   "metadata": {},
   "outputs": [
    {
     "data": {
      "text/plain": [
       "(11600, 6)"
      ]
     },
     "execution_count": 85,
     "metadata": {},
     "output_type": "execute_result"
    }
   ],
   "source": [
    "df_gini_pj_ind.shape"
   ]
  },
  {
   "cell_type": "code",
   "execution_count": 86,
   "metadata": {},
   "outputs": [
    {
     "data": {
      "text/plain": [
       "(5800000, 6)"
      ]
     },
     "execution_count": 86,
     "metadata": {},
     "output_type": "execute_result"
    }
   ],
   "source": [
    "# 1 quantile = 1 individu - il faut 499 clones individus au total \n",
    "# https://www.kaggle.com/arnopub/pandas-pr-sentation-des-dataframe\n",
    "df_gini_pj_indS = df_gini_pj_ind.append([df_gini_pj_ind]* 499,ignore_index=True, sort=True)\n",
    "df_gini_pj_indS.shape"
   ]
  },
  {
   "cell_type": "code",
   "execution_count": 87,
   "metadata": {},
   "outputs": [
    {
     "data": {
      "text/plain": [
       "country         50000\n",
       "country_code    50000\n",
       "gini_mean       50000\n",
       "income          50000\n",
       "pj              50000\n",
       "quantile        50000\n",
       "dtype: int64"
      ]
     },
     "execution_count": 87,
     "metadata": {},
     "output_type": "execute_result"
    }
   ],
   "source": [
    "# vérification de la création de 500 individus pour chaque pays (100 * 500 = 50000)\n",
    "df_gini_pj_indS.loc[df_gini_pj_indS['country_code']=='ALB'].count()"
   ]
  },
  {
   "cell_type": "markdown",
   "metadata": {},
   "source": [
    "9. Pour chaque c_i_child et chaque pays, il y a maintenant 500 individus. Vous attribuerez aux 500 individus leurs classes c_i_parent conformément aux distributions trouvées précédemment. Par exemple, si P(c_i_parent=8|c_i_child = 5, pj=0.9)=0.03, alors vous assignerez la classe c_i_parent=8 à 15 des 500 individus du pays j ayant c_i_child=5 , car 500*0.03 = 15"
   ]
  },
  {
   "cell_type": "markdown",
   "metadata": {},
   "source": [
    "Même calcul que précédemment mais avec les pj correspondants"
   ]
  },
  {
   "cell_type": "code",
   "execution_count": 88,
   "metadata": {
    "scrolled": true
   },
   "outputs": [
    {
     "data": {
      "text/html": [
       "<div>\n",
       "<style scoped>\n",
       "    .dataframe tbody tr th:only-of-type {\n",
       "        vertical-align: middle;\n",
       "    }\n",
       "\n",
       "    .dataframe tbody tr th {\n",
       "        vertical-align: top;\n",
       "    }\n",
       "\n",
       "    .dataframe thead th {\n",
       "        text-align: right;\n",
       "    }\n",
       "</style>\n",
       "<table border=\"1\" class=\"dataframe\">\n",
       "  <thead>\n",
       "    <tr style=\"text-align: right;\">\n",
       "      <th></th>\n",
       "      <th>country</th>\n",
       "      <th>country_code</th>\n",
       "      <th>gini_mean</th>\n",
       "      <th>income</th>\n",
       "      <th>pj</th>\n",
       "      <th>quantile</th>\n",
       "    </tr>\n",
       "  </thead>\n",
       "  <tbody>\n",
       "    <tr>\n",
       "      <th>0</th>\n",
       "      <td>Albania</td>\n",
       "      <td>ALB</td>\n",
       "      <td>30.0</td>\n",
       "      <td>728.89795</td>\n",
       "      <td>0.535604</td>\n",
       "      <td>1</td>\n",
       "    </tr>\n",
       "    <tr>\n",
       "      <th>1</th>\n",
       "      <td>Albania</td>\n",
       "      <td>ALB</td>\n",
       "      <td>30.0</td>\n",
       "      <td>916.66235</td>\n",
       "      <td>0.535604</td>\n",
       "      <td>2</td>\n",
       "    </tr>\n",
       "  </tbody>\n",
       "</table>\n",
       "</div>"
      ],
      "text/plain": [
       "   country country_code  gini_mean     income        pj  quantile\n",
       "0  Albania          ALB       30.0  728.89795  0.535604         1\n",
       "1  Albania          ALB       30.0  916.66235  0.535604         2"
      ]
     },
     "execution_count": 88,
     "metadata": {},
     "output_type": "execute_result"
    }
   ],
   "source": [
    "df_gini_pj_indS.head(2)"
   ]
  },
  {
   "cell_type": "code",
   "execution_count": 89,
   "metadata": {},
   "outputs": [],
   "source": [
    "df_gini_pj_indS.sort_values(['country', 'quantile']).reset_index(drop=True, inplace=True)"
   ]
  },
  {
   "cell_type": "code",
   "execution_count": 90,
   "metadata": {
    "scrolled": true
   },
   "outputs": [
    {
     "data": {
      "text/html": [
       "<div>\n",
       "<style scoped>\n",
       "    .dataframe tbody tr th:only-of-type {\n",
       "        vertical-align: middle;\n",
       "    }\n",
       "\n",
       "    .dataframe tbody tr th {\n",
       "        vertical-align: top;\n",
       "    }\n",
       "\n",
       "    .dataframe thead th {\n",
       "        text-align: right;\n",
       "    }\n",
       "</style>\n",
       "<table border=\"1\" class=\"dataframe\">\n",
       "  <thead>\n",
       "    <tr style=\"text-align: right;\">\n",
       "      <th></th>\n",
       "      <th>country</th>\n",
       "      <th>country_code</th>\n",
       "      <th>gini_mean</th>\n",
       "      <th>income</th>\n",
       "      <th>pj</th>\n",
       "      <th>quantile</th>\n",
       "    </tr>\n",
       "  </thead>\n",
       "  <tbody>\n",
       "    <tr>\n",
       "      <th>0</th>\n",
       "      <td>Albania</td>\n",
       "      <td>ALB</td>\n",
       "      <td>30.0</td>\n",
       "      <td>728.89795</td>\n",
       "      <td>0.535604</td>\n",
       "      <td>1</td>\n",
       "    </tr>\n",
       "  </tbody>\n",
       "</table>\n",
       "</div>"
      ],
      "text/plain": [
       "   country country_code  gini_mean     income        pj  quantile\n",
       "0  Albania          ALB       30.0  728.89795  0.535604         1"
      ]
     },
     "execution_count": 90,
     "metadata": {},
     "output_type": "execute_result"
    }
   ],
   "source": [
    "df_gini_pj_indS.head(1)"
   ]
  },
  {
   "cell_type": "code",
   "execution_count": 91,
   "metadata": {},
   "outputs": [],
   "source": [
    "# Renommage des colonnes\n",
    "df_gini_pj_indS.rename(columns={'gini_mean': 'Gj'}, inplace=True)"
   ]
  },
  {
   "cell_type": "code",
   "execution_count": 92,
   "metadata": {
    "scrolled": true
   },
   "outputs": [
    {
     "data": {
      "text/html": [
       "<div>\n",
       "<style scoped>\n",
       "    .dataframe tbody tr th:only-of-type {\n",
       "        vertical-align: middle;\n",
       "    }\n",
       "\n",
       "    .dataframe tbody tr th {\n",
       "        vertical-align: top;\n",
       "    }\n",
       "\n",
       "    .dataframe thead th {\n",
       "        text-align: right;\n",
       "    }\n",
       "</style>\n",
       "<table border=\"1\" class=\"dataframe\">\n",
       "  <thead>\n",
       "    <tr style=\"text-align: right;\">\n",
       "      <th></th>\n",
       "      <th>country</th>\n",
       "      <th>country_code</th>\n",
       "      <th>Gj</th>\n",
       "      <th>income</th>\n",
       "      <th>pj</th>\n",
       "      <th>quantile</th>\n",
       "    </tr>\n",
       "  </thead>\n",
       "  <tbody>\n",
       "    <tr>\n",
       "      <th>0</th>\n",
       "      <td>Albania</td>\n",
       "      <td>ALB</td>\n",
       "      <td>30.0</td>\n",
       "      <td>728.89795</td>\n",
       "      <td>0.535604</td>\n",
       "      <td>1</td>\n",
       "    </tr>\n",
       "  </tbody>\n",
       "</table>\n",
       "</div>"
      ],
      "text/plain": [
       "   country country_code    Gj     income        pj  quantile\n",
       "0  Albania          ALB  30.0  728.89795  0.535604         1"
      ]
     },
     "execution_count": 92,
     "metadata": {},
     "output_type": "execute_result"
    }
   ],
   "source": [
    "df_gini_pj_indS.head(1)"
   ]
  },
  {
   "cell_type": "markdown",
   "metadata": {},
   "source": [
    "#### Calcul du revenu moyen pour chaque pays"
   ]
  },
  {
   "cell_type": "code",
   "execution_count": 93,
   "metadata": {},
   "outputs": [],
   "source": [
    "# Regroupement des pays par leur code iso3\n",
    "df_mj = df_gini_pj_indS.groupby('country_code').agg(mj=(\"income\",\"mean\")).reset_index()"
   ]
  },
  {
   "cell_type": "code",
   "execution_count": 94,
   "metadata": {
    "scrolled": true
   },
   "outputs": [
    {
     "data": {
      "text/html": [
       "<div>\n",
       "<style scoped>\n",
       "    .dataframe tbody tr th:only-of-type {\n",
       "        vertical-align: middle;\n",
       "    }\n",
       "\n",
       "    .dataframe tbody tr th {\n",
       "        vertical-align: top;\n",
       "    }\n",
       "\n",
       "    .dataframe thead th {\n",
       "        text-align: right;\n",
       "    }\n",
       "</style>\n",
       "<table border=\"1\" class=\"dataframe\">\n",
       "  <thead>\n",
       "    <tr style=\"text-align: right;\">\n",
       "      <th></th>\n",
       "      <th>country_code</th>\n",
       "      <th>mj</th>\n",
       "    </tr>\n",
       "  </thead>\n",
       "  <tbody>\n",
       "    <tr>\n",
       "      <th>0</th>\n",
       "      <td>ALB</td>\n",
       "      <td>2994.829902</td>\n",
       "    </tr>\n",
       "    <tr>\n",
       "      <th>1</th>\n",
       "      <td>ARG</td>\n",
       "      <td>5847.884654</td>\n",
       "    </tr>\n",
       "  </tbody>\n",
       "</table>\n",
       "</div>"
      ],
      "text/plain": [
       "  country_code           mj\n",
       "0          ALB  2994.829902\n",
       "1          ARG  5847.884654"
      ]
     },
     "execution_count": 94,
     "metadata": {},
     "output_type": "execute_result"
    }
   ],
   "source": [
    "df_mj.head(2)"
   ]
  },
  {
   "cell_type": "code",
   "execution_count": 95,
   "metadata": {},
   "outputs": [
    {
     "data": {
      "text/plain": [
       "country_code    0\n",
       "mj              0\n",
       "dtype: int64"
      ]
     },
     "execution_count": 95,
     "metadata": {},
     "output_type": "execute_result"
    }
   ],
   "source": [
    "df_mj.isnull().sum()"
   ]
  },
  {
   "cell_type": "code",
   "execution_count": 96,
   "metadata": {},
   "outputs": [],
   "source": [
    "# fusion pour incorporer le mj (revenu moyen du pays j) dans le dataframe principal\n",
    "df_gini_pj_inc_mj = pd.merge(df_gini_pj_indS, df_mj, on='country_code', how='left')"
   ]
  },
  {
   "cell_type": "code",
   "execution_count": 97,
   "metadata": {
    "scrolled": true
   },
   "outputs": [
    {
     "data": {
      "text/html": [
       "<div>\n",
       "<style scoped>\n",
       "    .dataframe tbody tr th:only-of-type {\n",
       "        vertical-align: middle;\n",
       "    }\n",
       "\n",
       "    .dataframe tbody tr th {\n",
       "        vertical-align: top;\n",
       "    }\n",
       "\n",
       "    .dataframe thead th {\n",
       "        text-align: right;\n",
       "    }\n",
       "</style>\n",
       "<table border=\"1\" class=\"dataframe\">\n",
       "  <thead>\n",
       "    <tr style=\"text-align: right;\">\n",
       "      <th></th>\n",
       "      <th>country</th>\n",
       "      <th>country_code</th>\n",
       "      <th>Gj</th>\n",
       "      <th>income</th>\n",
       "      <th>pj</th>\n",
       "      <th>quantile</th>\n",
       "      <th>mj</th>\n",
       "    </tr>\n",
       "  </thead>\n",
       "  <tbody>\n",
       "    <tr>\n",
       "      <th>0</th>\n",
       "      <td>Albania</td>\n",
       "      <td>ALB</td>\n",
       "      <td>30.0</td>\n",
       "      <td>728.89795</td>\n",
       "      <td>0.535604</td>\n",
       "      <td>1</td>\n",
       "      <td>2994.829902</td>\n",
       "    </tr>\n",
       "    <tr>\n",
       "      <th>1</th>\n",
       "      <td>Albania</td>\n",
       "      <td>ALB</td>\n",
       "      <td>30.0</td>\n",
       "      <td>916.66235</td>\n",
       "      <td>0.535604</td>\n",
       "      <td>2</td>\n",
       "      <td>2994.829902</td>\n",
       "    </tr>\n",
       "  </tbody>\n",
       "</table>\n",
       "</div>"
      ],
      "text/plain": [
       "   country country_code    Gj     income        pj  quantile           mj\n",
       "0  Albania          ALB  30.0  728.89795  0.535604         1  2994.829902\n",
       "1  Albania          ALB  30.0  916.66235  0.535604         2  2994.829902"
      ]
     },
     "execution_count": 97,
     "metadata": {},
     "output_type": "execute_result"
    }
   ],
   "source": [
    "df_gini_pj_inc_mj.head(2)"
   ]
  },
  {
   "cell_type": "code",
   "execution_count": 98,
   "metadata": {
    "scrolled": true
   },
   "outputs": [
    {
     "data": {
      "text/plain": [
       "country         0\n",
       "country_code    0\n",
       "Gj              0\n",
       "income          0\n",
       "pj              0\n",
       "quantile        0\n",
       "mj              0\n",
       "dtype: int64"
      ]
     },
     "execution_count": 98,
     "metadata": {},
     "output_type": "execute_result"
    }
   ],
   "source": [
    "df_gini_pj_inc_mj.isnull().sum()"
   ]
  },
  {
   "cell_type": "code",
   "execution_count": 99,
   "metadata": {},
   "outputs": [
    {
     "data": {
      "text/plain": [
       "(5800000, 7)"
      ]
     },
     "execution_count": 99,
     "metadata": {},
     "output_type": "execute_result"
    }
   ],
   "source": [
    "df_gini_pj_inc_mj.shape"
   ]
  },
  {
   "cell_type": "markdown",
   "metadata": {},
   "source": [
    "### Export des dataframes"
   ]
  },
  {
   "cell_type": "markdown",
   "metadata": {},
   "source": [
    "#### Export du dataframe \"df_mj\" "
   ]
  },
  {
   "cell_type": "code",
   "execution_count": 100,
   "metadata": {},
   "outputs": [],
   "source": [
    "#  avec pickle Enregistrement\n",
    "with open('df_mj', 'wb') as f3:\n",
    "    pickle.dump(df_mj, f3)"
   ]
  },
  {
   "cell_type": "code",
   "execution_count": 101,
   "metadata": {},
   "outputs": [],
   "source": [
    "# en csv\n",
    "df_mj.to_csv('df_mj.csv', index = False, encoding=ENCODAGE)"
   ]
  },
  {
   "cell_type": "markdown",
   "metadata": {},
   "source": [
    "#### Export du dataframe \"df_gini_pj_inc_mj\""
   ]
  },
  {
   "cell_type": "code",
   "execution_count": 102,
   "metadata": {},
   "outputs": [],
   "source": [
    "#  avec pickle Enregistrement\n",
    "with open('df_gini_pj_inc_mj', 'wb') as f4:\n",
    "    pickle.dump(df_gini_pj_inc_mj, f4)"
   ]
  },
  {
   "cell_type": "code",
   "execution_count": 103,
   "metadata": {},
   "outputs": [],
   "source": [
    "# En csv\n",
    "df_gini_pj_inc_mj.to_csv('df_gini_pj_inc_mj.csv', index = False, encoding=ENCODAGE)"
   ]
  },
  {
   "cell_type": "markdown",
   "metadata": {},
   "source": [
    "#### Export du dataframe \"df_gini_pj_indS\" "
   ]
  },
  {
   "cell_type": "code",
   "execution_count": 104,
   "metadata": {},
   "outputs": [],
   "source": [
    "#  Enregistrement avec pickle\n",
    "with open('df_gini_pj_indS', 'wb') as f2:\n",
    "    pickle.dump(df_gini_pj_indS, f2)"
   ]
  }
 ],
 "metadata": {
  "kernelspec": {
   "display_name": "Python 3",
   "language": "python",
   "name": "python3"
  },
  "language_info": {
   "codemirror_mode": {
    "name": "ipython",
    "version": 3
   },
   "file_extension": ".py",
   "mimetype": "text/x-python",
   "name": "python",
   "nbconvert_exporter": "python",
   "pygments_lexer": "ipython3",
   "version": "3.8.5"
  }
 },
 "nbformat": 4,
 "nbformat_minor": 4
}
